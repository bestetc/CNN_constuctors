{
 "cells": [
  {
   "cell_type": "markdown",
   "metadata": {},
   "source": [
    "## Pipeline. На 120 эпохах accuracy на тестовом датасете 83%.\n",
    "Обучение проходит на датасете Imagenette.\n",
    "Информацию по загрузке датасета можно найти в VGG_like.ipynb"
   ]
  },
  {
   "cell_type": "code",
   "execution_count": 1,
   "metadata": {},
   "outputs": [],
   "source": [
    "import torch\n",
    "import torchvision\n",
    "from torch import nn\n",
    "import pandas as pd\n",
    "import numpy as np\n",
    "import time"
   ]
  },
  {
   "cell_type": "code",
   "execution_count": 2,
   "metadata": {},
   "outputs": [],
   "source": [
    "# hyper params\n",
    "batch_size = 32\n",
    "num_epoch = 200"
   ]
  },
  {
   "cell_type": "markdown",
   "metadata": {},
   "source": [
    "### Создаем DataLoader попутно предобрабатывая данные\n",
    "- Предварительный смотр данных можно найти в VGG_like.ipynb"
   ]
  },
  {
   "cell_type": "code",
   "execution_count": 3,
   "metadata": {},
   "outputs": [
    {
     "name": "stderr",
     "output_type": "stream",
     "text": [
      "/opt/conda/lib/python3.6/site-packages/torchvision/transforms/transforms.py:704: UserWarning: The use of the transforms.RandomSizedCrop transform is deprecated, please use transforms.RandomResizedCrop instead.\n",
      "  \"please use transforms.RandomResizedCrop instead.\")\n"
     ]
    }
   ],
   "source": [
    "from torchvision import transforms, datasets\n",
    "\n",
    "train_transform = transforms.Compose([\n",
    "        transforms.Resize((260,260)),\n",
    "        transforms.RandomSizedCrop(224),\n",
    "        transforms.RandomHorizontalFlip(),\n",
    "        transforms.ToTensor(),\n",
    "        transforms.Normalize(mean=[0.485, 0.456, 0.406],\n",
    "                             std=[0.229, 0.224, 0.225])\n",
    "    ])\n",
    "test_transform = transforms.Compose([\n",
    "        transforms.Resize((224,224)),\n",
    "#         transforms.CenterCrop(224),\n",
    "        transforms.ToTensor(),\n",
    "        transforms.Normalize(mean=[0.485, 0.456, 0.406],\n",
    "                             std=[0.229, 0.224, 0.225])\n",
    "    ])\n",
    "\n",
    "trainset = datasets.ImageFolder(root='../imagenette/imagenette2-320/train/', transform=train_transform)\n",
    "trainloader = torch.utils.data.DataLoader(trainset, batch_size=batch_size,\n",
    "                                          shuffle=True)\n",
    "testset = datasets.ImageFolder(root='../imagenette/imagenette2-320/val/', transform=test_transform)\n",
    "testloader = torch.utils.data.DataLoader(testset, #batch_size=batch_size,\n",
    "                                         shuffle=False)"
   ]
  },
  {
   "cell_type": "markdown",
   "metadata": {},
   "source": [
    "## Создаем конструктор VGG-like сетей.\n",
    "\n",
    "### В конструктор подается словарь с параметрами сети:\n",
    "\n",
    " - body_input - разрешение и кол-во каналов входящего изображения [высота, ширина, каналы].\n",
    " - conv_layers - параметры сверточных блоков тела сети. Каждый блок задается как [кол-во сверточных слоев, padding, stride]. \n",
    " Padding и stride задаются для всех сверточных слоев в данном блоке.\n",
    " - linear_layers - параметры линейный слоев сети. [кол-во линейных слоев, кол-во нейронов в каждом слое]. в кол-во слоев включается слой на кол-во классов\n",
    " - class_qty - кол-во классов.\n",
    " - print_dim - печатает параметры тензора на выходе из соответствующего слоя.\n",
    "\n",
    "MaxPooling слой всегда имеет параметры kernel_size=2, stride=2"
   ]
  },
  {
   "cell_type": "code",
   "execution_count": 4,
   "metadata": {},
   "outputs": [],
   "source": [
    "params = {\n",
    "    'body_input': [224, 224, 3], # list height, width, channel\n",
    "    'conv_layers': [[1, 2, 1], [1,2,1], [1,2,1],[2,2,1]], # list of lists. each layer should be list: qty conv layers, stride same or valid, padding\n",
    "    'linear_layers': [2, 128], # qty linear layers, qty neurons\n",
    "    'class_qty': [10],\n",
    "    'print_dim': True # True if you want to show how to change the tensor dimention via convolutional layers\n",
    "}"
   ]
  },
  {
   "cell_type": "code",
   "execution_count": 5,
   "metadata": {},
   "outputs": [],
   "source": [
    "class VGG_like(nn.Module):\n",
    "\n",
    "    def __init__(self, params):\n",
    "        self.body_input = params['body_input']\n",
    "        self.conv_layers = params['conv_layers']\n",
    "        self.linear_layers = params['linear_layers']\n",
    "        self.class_qty = params['class_qty']\n",
    "        self.print_dim = params['print_dim']\n",
    "        \n",
    "        super().__init__()\n",
    "        \n",
    "        def conv_block(conv_layer, resolution=None, i=None, print_dim=False):\n",
    "            for qty in range(conv_layer[0]):\n",
    "                self.channels_out = min(64*(2**i), 512)\n",
    "                self.body.add_module(name='Block%2d_Conv_%d'%(i,qty), module=nn.Conv2d(\n",
    "                        self.channels_input, \n",
    "                        self.channels_out, \n",
    "                        kernel_size=3, \n",
    "                        stride=conv_layer[1], \n",
    "                        padding=conv_layer[2]))\n",
    "                self.body.add_module(name='Block%2d_Relu_%d'%(i,qty), module=nn.ReLU())\n",
    "                self.channels_input = self.channels_out\n",
    "                resolution = (resolution - 2 + conv_layer[2]*2) // conv_layer[1] \n",
    "                if print_dim: print('Tensor dim after conv layer is: ', [*resolution, self.channels_input])\n",
    "#             self.body.add_module(name='Block%2d_MaxPool'%i, module=nn.MaxPool2d(kernel_size=2, stride=2))\n",
    "#             resolution = resolution // 2 \n",
    "            if print_dim: print('Tensor dim after maxpool layer is: ', [*resolution, self.channels_input])\n",
    "            return resolution\n",
    "        \n",
    "        def linear_block(linear_layer, resolution):\n",
    "            self.input = resolution[0] * resolution[1] * min(64*(2**len(self.conv_layers)),512)\n",
    "            for i in range(self.linear_layers[0]-1):\n",
    "                self.head.add_module(name='Linear%2d'%i, module=nn.Linear(self.input, self.linear_layers[1]))\n",
    "                self.head.add_module(name='Dropout%2d'%i, module=nn.Dropout(.5))\n",
    "                self.head.add_module(name='Relu_%2d'%i, module=nn.ReLU())\n",
    "                self.input = linear_layer[1]\n",
    "            self.head.add_module(name='output',module=nn.Linear(self.linear_layers[1], self.class_qty[0]))\n",
    "        \n",
    "        self.body = nn.Sequential()\n",
    "        self.channels_input = self.body_input[2]\n",
    "        self.resolution = np.array([self.body_input[0], self.body_input[1]])\n",
    "        i=0\n",
    "        for conv_layer in self.conv_layers:\n",
    "            self.resolution = conv_block(conv_layer, self.resolution, i, print_dim=self.print_dim)\n",
    "            i+=1\n",
    "\n",
    "        self.head = nn.Sequential()\n",
    "        linear_block(self.linear_layers, self.resolution)\n",
    "\n",
    "    def forward(self, input):\n",
    "        x = self.body(input)\n",
    "        x = x.view(x.size(0), -1)\n",
    "#         print(x.shape)\n",
    "        out = self.head(x)\n",
    "#         print(out.shape)\n",
    "        return out"
   ]
  },
  {
   "cell_type": "markdown",
   "metadata": {},
   "source": [
    "Инициализируем модель с через конструктор"
   ]
  },
  {
   "cell_type": "code",
   "execution_count": 6,
   "metadata": {},
   "outputs": [
    {
     "name": "stdout",
     "output_type": "stream",
     "text": [
      "Tensor dim after conv layer is:  [112, 112, 64]\n",
      "Tensor dim after maxpool layer is:  [112, 112, 64]\n",
      "Tensor dim after conv layer is:  [56, 56, 128]\n",
      "Tensor dim after maxpool layer is:  [56, 56, 128]\n",
      "Tensor dim after conv layer is:  [28, 28, 256]\n",
      "Tensor dim after maxpool layer is:  [28, 28, 256]\n",
      "Tensor dim after conv layer is:  [14, 14, 512]\n",
      "Tensor dim after conv layer is:  [7, 7, 512]\n",
      "Tensor dim after maxpool layer is:  [7, 7, 512]\n"
     ]
    }
   ],
   "source": [
    "model = VGG_like(params)\n",
    "criterion = nn.CrossEntropyLoss()\n",
    "# optimizer = torch.optim.SGD(net.parameters(), lr=0.001, momentum=0.9)\n",
    "optimizer = torch.optim.Adam(model.parameters(), lr=0.001, betas=(0.9, 0.999), eps=1e-08, weight_decay=0, amsgrad=False)"
   ]
  },
  {
   "cell_type": "markdown",
   "metadata": {},
   "source": [
    "Загружаем модель на видеокарту."
   ]
  },
  {
   "cell_type": "code",
   "execution_count": 7,
   "metadata": {},
   "outputs": [
    {
     "name": "stdout",
     "output_type": "stream",
     "text": [
      "cuda:0\n"
     ]
    },
    {
     "data": {
      "text/plain": [
       "VGG_like(\n",
       "  (body): Sequential(\n",
       "    (Block 0_Conv_0): Conv2d(3, 64, kernel_size=(3, 3), stride=(2, 2), padding=(1, 1))\n",
       "    (Block 0_Relu_0): ReLU()\n",
       "    (Block 1_Conv_0): Conv2d(64, 128, kernel_size=(3, 3), stride=(2, 2), padding=(1, 1))\n",
       "    (Block 1_Relu_0): ReLU()\n",
       "    (Block 2_Conv_0): Conv2d(128, 256, kernel_size=(3, 3), stride=(2, 2), padding=(1, 1))\n",
       "    (Block 2_Relu_0): ReLU()\n",
       "    (Block 3_Conv_0): Conv2d(256, 512, kernel_size=(3, 3), stride=(2, 2), padding=(1, 1))\n",
       "    (Block 3_Relu_0): ReLU()\n",
       "    (Block 3_Conv_1): Conv2d(512, 512, kernel_size=(3, 3), stride=(2, 2), padding=(1, 1))\n",
       "    (Block 3_Relu_1): ReLU()\n",
       "  )\n",
       "  (head): Sequential(\n",
       "    (Linear 0): Linear(in_features=25088, out_features=128, bias=True)\n",
       "    (Dropout 0): Dropout(p=0.5, inplace=False)\n",
       "    (Relu_ 0): ReLU()\n",
       "    (output): Linear(in_features=128, out_features=10, bias=True)\n",
       "  )\n",
       ")"
      ]
     },
     "execution_count": 7,
     "metadata": {},
     "output_type": "execute_result"
    }
   ],
   "source": [
    "device = torch.device(\"cuda:0\" if torch.cuda.is_available() else \"cpu\")\n",
    "\n",
    "print(device)\n",
    "\n",
    "model.to(device)"
   ]
  },
  {
   "cell_type": "markdown",
   "metadata": {},
   "source": [
    "## Основной тренировочный цикл и подсчет метрик.\n",
    "    Основная метрика accuracy (топ1). Очень не хотелось бы получать ошибку на топ5 accuracy при 10 классах."
   ]
  },
  {
   "cell_type": "code",
   "execution_count": null,
   "metadata": {},
   "outputs": [
    {
     "name": "stdout",
     "output_type": "stream",
     "text": [
      "Epoch 1/200, Time: 60.21 sec, Loss: 1.627, Accuracy_train: 0.266, Accuracy_val: 0.263\n",
      "Epoch 2/200, Time: 58.88 sec, Loss: 1.252, Accuracy_train: 0.336, Accuracy_val: 0.351\n"
     ]
    }
   ],
   "source": [
    "for epoch in range(num_epoch):  # loop over the dataset multiple times\n",
    "    \n",
    "#     model.train()\n",
    "    \n",
    "    for i, data in enumerate(trainloader, 0):\n",
    "        start_time = time.time()\n",
    "        # get the inputs; data is a list of [inputs, labels]\n",
    "#         inputs, labels = data\n",
    "#         print(data[1])\n",
    "        inputs, labels = data[0].to(device), data[1].to(device)\n",
    "#         print(labels)\n",
    "\n",
    "        # zero the parameter gradients\n",
    "        optimizer.zero_grad()\n",
    "\n",
    "        # forward + backward + optimize\n",
    "        outputs = model(inputs)\n",
    "        loss = criterion(outputs, labels)\n",
    "#         print('Loss: ', loss)\n",
    "        loss.backward()\n",
    "        optimizer.step()\n",
    "\n",
    "    #Accuracy train and val\n",
    "    correct_train, correct_val = 0, 0\n",
    "    total_train, total_val = 0, 0\n",
    "    with torch.no_grad():\n",
    "        for images, labels in trainloader:\n",
    "            images, labels = images.to(device), labels.to(device)\n",
    "            outputs = model(images)\n",
    "            outputs = outputs.to(device)\n",
    "            _, predicted = torch.max(outputs.data, 1)\n",
    "            total_train += labels.size(0)\n",
    "            correct_train += (predicted == labels).sum().item()\n",
    "        for images, labels in testloader:\n",
    "            images, labels = images.to(device), labels.to(device)\n",
    "            outputs = model(images)\n",
    "            outputs = outputs.to(device)\n",
    "            _, predicted = torch.max(outputs.data, 1)\n",
    "            total_val += labels.size(0)\n",
    "            correct_val += (predicted == labels).sum().item()\n",
    "    end_time = time.time()\n",
    "    print(\"Epoch {}/{}, Time: {:.2f} sec, Loss: {:.3f}, Accuracy_train: {:.3f}, Accuracy_val: {:.3f}\".\n",
    "          format(epoch+1, num_epoch, end_time - start_time, loss, correct_train/total_train, correct_val/total_val))\n",
    "#     print('Epoch: ', epoch, ' loss:', loss[0], ' accuracy_val: ', accuracy(outputs, labels))\n",
    "\n",
    "       \n",
    "        # print statistics\n",
    "#         running_loss += loss.item()\n",
    "#         if i % 10 == 9:    # print every 2000 mini-batches\n",
    "#             print('[%d, %5d] loss: %.3f' %\n",
    "#                   (epoch + 1, i + 1, loss)) #running_loss / 2000\n",
    "#             print('labels:',  labels)\n",
    "#             print('outputs: ', outputs)\n",
    "#             running_loss = 0.0\n",
    "\n",
    "print('Finished Training')"
   ]
  },
  {
   "cell_type": "code",
   "execution_count": null,
   "metadata": {},
   "outputs": [],
   "source": []
  }
 ],
 "metadata": {
  "kernelspec": {
   "display_name": "Python 3",
   "language": "python",
   "name": "python3"
  },
  "language_info": {
   "codemirror_mode": {
    "name": "ipython",
    "version": 3
   },
   "file_extension": ".py",
   "mimetype": "text/x-python",
   "name": "python",
   "nbconvert_exporter": "python",
   "pygments_lexer": "ipython3",
   "version": "3.6.10"
  }
 },
 "nbformat": 4,
 "nbformat_minor": 4
}
