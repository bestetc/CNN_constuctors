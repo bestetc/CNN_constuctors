{
 "cells": [
  {
   "cell_type": "markdown",
   "metadata": {},
   "source": [
    "## Pipeline. На 120 эпохах accuracy на тестовом датасете 90.5%.\n",
    "### На 450 эпохах accuracy 92.4%\n",
    "Обучение проходит на датасете Imagenette.\n",
    "Информацию по загрузке датасета можно найти в VGG_like.ipynb"
   ]
  },
  {
   "cell_type": "code",
   "execution_count": 1,
   "metadata": {},
   "outputs": [],
   "source": [
    "import time\n",
    "\n",
    "import torch\n",
    "import torchvision\n",
    "from torch import nn\n",
    "import pandas as pd\n",
    "import numpy as np\n",
    "\n",
    "from modules import datasets_loader, CNN_blocks, train_tools"
   ]
  },
  {
   "cell_type": "code",
   "execution_count": 2,
   "metadata": {},
   "outputs": [],
   "source": [
    "# hyper params\n",
    "batch_size = 32\n",
    "num_epoch = 450\n",
    "learning_rate = 0.01\n",
    "optimizer_type = 'SGD'\n",
    "\n",
    "scheduler_type = 'cos'\n",
    "cosine_cycles = 2\n",
    "decay_steps = 5\n",
    "\n",
    "save_model_dir = './models/'\n",
    "metrics_dir = './metrics/'"
   ]
  },
  {
   "cell_type": "markdown",
   "metadata": {},
   "source": [
    "### Создаем DataLoader попутно предобрабатывая данные\n",
    "- Загрузку датасета можно найти в [ResNet-constructor](ResNet_constructor.ipynb)\n",
    "- Предварительный смотр данных можно найти в [ResNet-constructor](ResNet_constructor.ipynb)"
   ]
  },
  {
   "cell_type": "code",
   "execution_count": 3,
   "metadata": {},
   "outputs": [
    {
     "name": "stderr",
     "output_type": "stream",
     "text": [
      "/opt/conda/lib/python3.6/site-packages/torchvision/transforms/transforms.py:841: UserWarning: The use of the transforms.RandomSizedCrop transform is deprecated, please use transforms.RandomResizedCrop instead.\n",
      "  \"please use transforms.RandomResizedCrop instead.\")\n"
     ]
    }
   ],
   "source": [
    "from torchvision import transforms, datasets\n",
    "\n",
    "train_transform = transforms.Compose([\n",
    "        transforms.Resize((260,260)),\n",
    "        transforms.RandomSizedCrop(224),\n",
    "        transforms.RandomHorizontalFlip(),\n",
    "        transforms.ToTensor(),\n",
    "        transforms.Normalize(mean=[0.485, 0.456, 0.406],\n",
    "                             std=[0.229, 0.224, 0.225])\n",
    "    ])\n",
    "test_transform = transforms.Compose([\n",
    "        transforms.Resize((224,224)),\n",
    "        transforms.ToTensor(),\n",
    "        transforms.Normalize(mean=[0.485, 0.456, 0.406],\n",
    "                             std=[0.229, 0.224, 0.225])\n",
    "    ])\n",
    "\n",
    "torch.set_num_threads(8)\n",
    "trainset = datasets.ImageFolder(root='../imagenette/imagenette2-320/train/', transform=train_transform)\n",
    "trainloader = torch.utils.data.DataLoader(trainset, batch_size=batch_size,\n",
    "                                          shuffle=True)\n",
    "testset = datasets.ImageFolder(root='../imagenette/imagenette2-320/val/', transform=test_transform)\n",
    "testloader = torch.utils.data.DataLoader(testset, #batch_size=batch_size,\n",
    "                                         shuffle=False)"
   ]
  },
  {
   "cell_type": "code",
   "execution_count": 4,
   "metadata": {},
   "outputs": [
    {
     "data": {
      "text/plain": [
       "297"
      ]
     },
     "execution_count": 4,
     "metadata": {},
     "output_type": "execute_result"
    }
   ],
   "source": [
    "len(trainloader)"
   ]
  },
  {
   "cell_type": "markdown",
   "metadata": {},
   "source": [
    "## Создаем конструктор VGG-like сетей.\n",
    "\n",
    "### В конструктор подается словарь с параметрами сети:\n",
    "\n",
    " - body_input - разрешение и кол-во каналов входящего изображения [высота, ширина, каналы].\n",
    " - conv_layers - параметры сверточных блоков тела сети. Каждый блок задается как [кол-во сверточных слоев, padding, stride]. \n",
    " Padding и stride задаются для всех сверточных слоев в данном блоке.\n",
    " - linear_layers - параметры линейный слоев сети. [кол-во линейных слоев, кол-во нейронов в каждом слое]. в кол-во слоев включается слой на кол-во классов\n",
    " - class_qty - кол-во классов.\n",
    " - print_dim - печатает параметры тензора на выходе из соответствующего слоя.\n",
    "\n",
    "MaxPooling слой всегда имеет параметры kernel_size=2, stride=2"
   ]
  },
  {
   "cell_type": "code",
   "execution_count": 5,
   "metadata": {},
   "outputs": [],
   "source": [
    "params = {\n",
    "    'body_input': [224, 224, 3], # list height, width, channel\n",
    "    'conv_layers': [[1, 1, 1], [1,1,1], [2,1,1],[2,1,1], [2,1,1]], # list of lists. each layer should be list: qty conv layers, stride same or valid, padding\n",
    "    'linear_layers': [3, 256], # qty linear layers, qty neurons\n",
    "    'class_qty': [10],\n",
    "    'print_dim': True # True if you want to show how to change the tensor dimention via convolutional layers\n",
    "}"
   ]
  },
  {
   "cell_type": "code",
   "execution_count": 6,
   "metadata": {},
   "outputs": [
    {
     "data": {
      "text/plain": [
       "11"
      ]
     },
     "execution_count": 6,
     "metadata": {},
     "output_type": "execute_result"
    }
   ],
   "source": [
    "np.array(params['conv_layers'])[:,0].sum() + params['linear_layers'][0]"
   ]
  },
  {
   "cell_type": "code",
   "execution_count": 7,
   "metadata": {},
   "outputs": [
    {
     "name": "stdout",
     "output_type": "stream",
     "text": [
      "model name is VGG11_SGD_lr0.01_b32_cos_sc225\n"
     ]
    }
   ],
   "source": [
    "n = cosine_cycles if scheduler_type == 'cos' else decay_steps\n",
    "model_name = f\"VGG{np.array(params['conv_layers'])[:,0].sum() + params['linear_layers'][0]}_{optimizer_type}_lr{learning_rate}_b{batch_size}_{scheduler_type}_sc{(num_epoch)//n}\"\n",
    "print(f'model name is {model_name}')"
   ]
  },
  {
   "cell_type": "code",
   "execution_count": 8,
   "metadata": {},
   "outputs": [],
   "source": [
    "class VGG_like(nn.Module):\n",
    "\n",
    "    def __init__(self, params):\n",
    "        self.body_input = params['body_input']\n",
    "        self.conv_layers = params['conv_layers']\n",
    "        self.linear_layers = params['linear_layers']\n",
    "        self.class_qty = params['class_qty']\n",
    "        self.print_dim = params['print_dim']\n",
    "        \n",
    "        super().__init__()\n",
    "        \n",
    "        def conv_block(conv_layer, resolution=None, i=None, print_dim=False):\n",
    "            for qty in range(conv_layer[0]):\n",
    "                self.channels_out = min(64*(2**i), 512)\n",
    "                self.body.add_module(name='Block%2d_Conv_%d'%(i,qty), module=nn.Conv2d(\n",
    "                        self.channels_input, \n",
    "                        self.channels_out, \n",
    "                        kernel_size=3, \n",
    "                        stride=conv_layer[1], \n",
    "                        padding=conv_layer[2]))\n",
    "                self.body.add_module(name='Block%2d_Relu_%d'%(i,qty), module=nn.ReLU())\n",
    "                self.channels_input = self.channels_out\n",
    "                resolution = (resolution - 2 + conv_layer[2]*2) // conv_layer[1] \n",
    "                if print_dim: print('Tensor dim after conv layer is: ', [*resolution, self.channels_input])\n",
    "            self.body.add_module(name='Block%2d_MaxPool'%i, module=nn.MaxPool2d(kernel_size=2, stride=2))\n",
    "            resolution = resolution // 2 \n",
    "            if print_dim: print('Tensor dim after maxpool layer is: ', [*resolution, self.channels_input])\n",
    "            return resolution\n",
    "        \n",
    "        def linear_block(linear_layer, resolution):\n",
    "            self.input = resolution[0] * resolution[1] * min(64*(2**len(self.conv_layers)),512) # resolution[0] * resolution[1] *\n",
    "            for i in range(self.linear_layers[0]-1):\n",
    "                self.head.add_module(name='Linear%2d'%i, module=nn.Linear(self.input, self.linear_layers[1]))\n",
    "                self.head.add_module(name='Dropout%2d'%i, module=nn.Dropout(.5))\n",
    "                self.head.add_module(name='Relu_%2d'%i, module=nn.ReLU())\n",
    "                self.input = linear_layer[1]\n",
    "            self.head.add_module(name='output',module=nn.Linear(self.linear_layers[1], self.class_qty[0]))\n",
    "        \n",
    "        self.body = nn.Sequential()\n",
    "        self.channels_input = self.body_input[2]\n",
    "        self.resolution = np.array([self.body_input[0], self.body_input[1]])\n",
    "        i=0\n",
    "        for conv_layer in self.conv_layers:\n",
    "            self.resolution = conv_block(conv_layer, self.resolution, i, print_dim=self.print_dim)\n",
    "            i+=1\n",
    "\n",
    "        self.head = nn.Sequential()\n",
    "        linear_block(self.linear_layers, self.resolution)\n",
    "\n",
    "\n",
    "    def forward(self, input):\n",
    "        x = self.body(input)\n",
    "        x = x.view(x.size(0), -1)\n",
    "        out = self.head(x)\n",
    "        return out"
   ]
  },
  {
   "cell_type": "markdown",
   "metadata": {},
   "source": [
    "Инициализируем модель с через конструктор"
   ]
  },
  {
   "cell_type": "code",
   "execution_count": 9,
   "metadata": {},
   "outputs": [
    {
     "name": "stdout",
     "output_type": "stream",
     "text": [
      "Tensor dim after conv layer is:  [224, 224, 64]\n",
      "Tensor dim after maxpool layer is:  [112, 112, 64]\n",
      "Tensor dim after conv layer is:  [112, 112, 128]\n",
      "Tensor dim after maxpool layer is:  [56, 56, 128]\n",
      "Tensor dim after conv layer is:  [56, 56, 256]\n",
      "Tensor dim after conv layer is:  [56, 56, 256]\n",
      "Tensor dim after maxpool layer is:  [28, 28, 256]\n",
      "Tensor dim after conv layer is:  [28, 28, 512]\n",
      "Tensor dim after conv layer is:  [28, 28, 512]\n",
      "Tensor dim after maxpool layer is:  [14, 14, 512]\n",
      "Tensor dim after conv layer is:  [14, 14, 512]\n",
      "Tensor dim after conv layer is:  [14, 14, 512]\n",
      "Tensor dim after maxpool layer is:  [7, 7, 512]\n"
     ]
    }
   ],
   "source": [
    "model = VGG_like(params)\n",
    "criterion = nn.CrossEntropyLoss()\n",
    "optimizer = train_tools.get_optimizer(model, optimizer_type, learning_rate)\n",
    "scheduler = train_tools.get_scheduler(optimizer, scheduler_type, step_len=num_epoch//decay_steps, cycle_len=num_epoch//cosine_cycles)"
   ]
  },
  {
   "cell_type": "markdown",
   "metadata": {},
   "source": [
    "Загружаем модель на видеокарту."
   ]
  },
  {
   "cell_type": "code",
   "execution_count": 10,
   "metadata": {},
   "outputs": [
    {
     "name": "stdout",
     "output_type": "stream",
     "text": [
      "cuda:5\n"
     ]
    },
    {
     "data": {
      "text/plain": [
       "VGG_like(\n",
       "  (body): Sequential(\n",
       "    (Block 0_Conv_0): Conv2d(3, 64, kernel_size=(3, 3), stride=(1, 1), padding=(1, 1))\n",
       "    (Block 0_Relu_0): ReLU()\n",
       "    (Block 0_MaxPool): MaxPool2d(kernel_size=2, stride=2, padding=0, dilation=1, ceil_mode=False)\n",
       "    (Block 1_Conv_0): Conv2d(64, 128, kernel_size=(3, 3), stride=(1, 1), padding=(1, 1))\n",
       "    (Block 1_Relu_0): ReLU()\n",
       "    (Block 1_MaxPool): MaxPool2d(kernel_size=2, stride=2, padding=0, dilation=1, ceil_mode=False)\n",
       "    (Block 2_Conv_0): Conv2d(128, 256, kernel_size=(3, 3), stride=(1, 1), padding=(1, 1))\n",
       "    (Block 2_Relu_0): ReLU()\n",
       "    (Block 2_Conv_1): Conv2d(256, 256, kernel_size=(3, 3), stride=(1, 1), padding=(1, 1))\n",
       "    (Block 2_Relu_1): ReLU()\n",
       "    (Block 2_MaxPool): MaxPool2d(kernel_size=2, stride=2, padding=0, dilation=1, ceil_mode=False)\n",
       "    (Block 3_Conv_0): Conv2d(256, 512, kernel_size=(3, 3), stride=(1, 1), padding=(1, 1))\n",
       "    (Block 3_Relu_0): ReLU()\n",
       "    (Block 3_Conv_1): Conv2d(512, 512, kernel_size=(3, 3), stride=(1, 1), padding=(1, 1))\n",
       "    (Block 3_Relu_1): ReLU()\n",
       "    (Block 3_MaxPool): MaxPool2d(kernel_size=2, stride=2, padding=0, dilation=1, ceil_mode=False)\n",
       "    (Block 4_Conv_0): Conv2d(512, 512, kernel_size=(3, 3), stride=(1, 1), padding=(1, 1))\n",
       "    (Block 4_Relu_0): ReLU()\n",
       "    (Block 4_Conv_1): Conv2d(512, 512, kernel_size=(3, 3), stride=(1, 1), padding=(1, 1))\n",
       "    (Block 4_Relu_1): ReLU()\n",
       "    (Block 4_MaxPool): MaxPool2d(kernel_size=2, stride=2, padding=0, dilation=1, ceil_mode=False)\n",
       "  )\n",
       "  (head): Sequential(\n",
       "    (Linear 0): Linear(in_features=25088, out_features=256, bias=True)\n",
       "    (Dropout 0): Dropout(p=0.5, inplace=False)\n",
       "    (Relu_ 0): ReLU()\n",
       "    (Linear 1): Linear(in_features=256, out_features=256, bias=True)\n",
       "    (Dropout 1): Dropout(p=0.5, inplace=False)\n",
       "    (Relu_ 1): ReLU()\n",
       "    (output): Linear(in_features=256, out_features=10, bias=True)\n",
       "  )\n",
       ")"
      ]
     },
     "execution_count": 10,
     "metadata": {},
     "output_type": "execute_result"
    }
   ],
   "source": [
    "device = torch.device(\"cuda:5\" if torch.cuda.is_available() else \"cpu\")\n",
    "print(device)\n",
    "model.to(device)"
   ]
  },
  {
   "cell_type": "code",
   "execution_count": 11,
   "metadata": {},
   "outputs": [
    {
     "ename": "NameError",
     "evalue": "name 'save_model_dir' is not defined",
     "output_type": "error",
     "traceback": [
      "\u001b[0;31m---------------------------------------------------------------------------\u001b[0m",
      "\u001b[0;31mNameError\u001b[0m                                 Traceback (most recent call last)",
      "\u001b[0;32m<ipython-input-11-b463b8298bd0>\u001b[0m in \u001b[0;36m<module>\u001b[0;34m\u001b[0m\n\u001b[0;32m----> 1\u001b[0;31m \u001b[0mdatasets_loader\u001b[0m\u001b[0;34m.\u001b[0m\u001b[0mcreate_dir\u001b[0m\u001b[0;34m(\u001b[0m\u001b[0msave_model_dir\u001b[0m\u001b[0;34m)\u001b[0m\u001b[0;34m\u001b[0m\u001b[0;34m\u001b[0m\u001b[0m\n\u001b[0m\u001b[1;32m      2\u001b[0m \u001b[0mdatasets_loader\u001b[0m\u001b[0;34m.\u001b[0m\u001b[0mcreate_dir\u001b[0m\u001b[0;34m(\u001b[0m\u001b[0mmetrics_dir\u001b[0m\u001b[0;34m)\u001b[0m\u001b[0;34m\u001b[0m\u001b[0;34m\u001b[0m\u001b[0m\n",
      "\u001b[0;31mNameError\u001b[0m: name 'save_model_dir' is not defined"
     ]
    }
   ],
   "source": [
    "datasets_loader.create_dir(save_model_dir)\n",
    "datasets_loader.create_dir(metrics_dir)"
   ]
  },
  {
   "cell_type": "code",
   "execution_count": null,
   "metadata": {},
   "outputs": [],
   "source": [
    "cols_name = ['epoch', 'time', 'current_lr', 'loss', 'accuracy_train', 'accuracy_val']\n",
    "metrics_frame = pd.DataFrame(columns=cols_name)\n",
    "metrics_frame_file = (metrics_dir + model_name + '.csv')\n",
    "print(f'File with train metrics save to {metrics_frame_file}')"
   ]
  },
  {
   "cell_type": "markdown",
   "metadata": {},
   "source": [
    "## Основной тренировочный цикл и подсчет метрик.\n",
    "    Основная метрика accuracy (топ1). Очень не хотелось бы получать ошибку на топ5 accuracy при 10 классах."
   ]
  },
  {
   "cell_type": "code",
   "execution_count": null,
   "metadata": {},
   "outputs": [],
   "source": [
    "for epoch in range(num_epoch):\n",
    "    # train cycle\n",
    "    model.train()\n",
    "    start_time = time.time()\n",
    "    for data in trainloader:\n",
    "        loss, outputs = train_tools.make_step(data, optimizer, model, criterion, device)\n",
    "    scheduler.step()\n",
    "    \n",
    "    # metrics calc\n",
    "    model.eval()\n",
    "    accuracy_train = train_tools.approx_accuracy(trainset, model, device, denominator=16)\n",
    "    accuracy_val = train_tools.approx_accuracy(testset, model, device, denominator=4)\n",
    "    \n",
    "    if accuracy_val >= .88 and accuracy_val >= metrics_frame['accuracy_val'].max():\n",
    "        accuracy_val = train_tools.true_accuracy(testloader, model, device)\n",
    "\n",
    "    end_time = time.time()\n",
    "    metrics = {'epoch': epoch+1,\n",
    "               'time': end_time - start_time,\n",
    "               'current_lr': [group['lr'] for group in optimizer.param_groups][0],\n",
    "               'loss': float(loss),\n",
    "               'accuracy_train': accuracy_train,\n",
    "               'accuracy_val': accuracy_val,\n",
    "               }\n",
    "\n",
    "    print(\"Epoch {}/{}, Time: {:.2f} sec, current_lr: {:.2e}, Loss: {:.3f}, Accuracy_train: {:.3f}, Accuracy_val: {:.3f}\".\n",
    "          format(metrics['epoch'], num_epoch, metrics['time'], metrics['current_lr'], metrics['loss'], metrics['accuracy_train'], metrics['accuracy_val']))\n",
    "    \n",
    "    metrics_frame = metrics_frame.append(pd.DataFrame.from_dict(metrics,orient='index').T)\n",
    "    metrics_frame.to_csv(metrics_frame_file,index=False)\n",
    "    \n",
    "    if save_best_model:\n",
    "        if metrics['accuracy_val'] == metrics_frame['accuracy_val'].max():\n",
    "            torch.save(model, save_model_dir + model_name + '.pt')\n",
    "if not save_best_model:\n",
    "    torch.save(model, save_model_dir + model_name + '.pt')"
   ]
  },
  {
   "cell_type": "code",
   "execution_count": null,
   "metadata": {},
   "outputs": [],
   "source": []
  }
 ],
 "metadata": {
  "kernelspec": {
   "display_name": "Python 3",
   "language": "python",
   "name": "python3"
  },
  "language_info": {
   "codemirror_mode": {
    "name": "ipython",
    "version": 3
   },
   "file_extension": ".py",
   "mimetype": "text/x-python",
   "name": "python",
   "nbconvert_exporter": "python",
   "pygments_lexer": "ipython3",
   "version": "3.6.10"
  }
 },
 "nbformat": 4,
 "nbformat_minor": 4
}
