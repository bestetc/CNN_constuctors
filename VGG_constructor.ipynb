{
 "cells": [
  {
   "cell_type": "markdown",
   "metadata": {},
   "source": [
    "## Pipeline. На 120 эпохах accuracy на тестовом датасете 90.5%.\n",
    "### На 450 эпохах accuracy 92.4%\n",
    "Обучение проходит на датасете Imagenette.\n",
    "Информацию по загрузке датасета можно найти в VGG_like.ipynb"
   ]
  },
  {
   "cell_type": "code",
   "execution_count": 1,
   "metadata": {},
   "outputs": [],
   "source": [
    "import torch\n",
    "import torchvision\n",
    "from torch import nn\n",
    "import pandas as pd\n",
    "import numpy as np\n",
    "import time"
   ]
  },
  {
   "cell_type": "code",
   "execution_count": 2,
   "metadata": {},
   "outputs": [],
   "source": [
    "# hyper params\n",
    "batch_size = 32\n",
    "num_epoch = 450\n",
    "learning_rate = 0.01\n",
    "sheduler_type = 'cosine' # 'cosine' or 'step'\n",
    "sheduler_cycle = 3\n",
    "optimizer_type = 'SGD' # 'SGD' or 'Adam'"
   ]
  },
  {
   "cell_type": "markdown",
   "metadata": {},
   "source": [
    "### Создаем DataLoader попутно предобрабатывая данные\n",
    "- Загрузку датасета можно найти в VGG_like.ipynb\n",
    "- Предварительный смотр данных можно найти в VGG_like.ipynb"
   ]
  },
  {
   "cell_type": "code",
   "execution_count": 3,
   "metadata": {},
   "outputs": [
    {
     "name": "stderr",
     "output_type": "stream",
     "text": [
      "/opt/conda/lib/python3.6/site-packages/torchvision/transforms/transforms.py:704: UserWarning: The use of the transforms.RandomSizedCrop transform is deprecated, please use transforms.RandomResizedCrop instead.\n",
      "  \"please use transforms.RandomResizedCrop instead.\")\n"
     ]
    }
   ],
   "source": [
    "from torchvision import transforms, datasets\n",
    "\n",
    "train_transform = transforms.Compose([\n",
    "        transforms.Resize((260,260)),\n",
    "        transforms.RandomSizedCrop(224),\n",
    "#         transforms.ColorJitter(brightness=0.4, contrast=0.4, saturation=0.4, hue=0.2),\n",
    "#         transforms.RandomResizedCrop(224, scale=(0.08, 1.0), ratio=(0.75, 1.3333333333333333)),\n",
    "        transforms.RandomHorizontalFlip(),\n",
    "        transforms.ToTensor(),\n",
    "        transforms.Normalize(mean=[0.485, 0.456, 0.406],\n",
    "                             std=[0.229, 0.224, 0.225])\n",
    "    ])\n",
    "test_transform = transforms.Compose([\n",
    "        transforms.Resize((224,224)),\n",
    "#         transforms.CenterCrop(224),\n",
    "        transforms.ToTensor(),\n",
    "        transforms.Normalize(mean=[0.485, 0.456, 0.406],\n",
    "                             std=[0.229, 0.224, 0.225])\n",
    "    ])\n",
    "\n",
    "trainset = datasets.ImageFolder(root='../imagenette/imagenette2-320/train/', transform=train_transform)\n",
    "trainloader = torch.utils.data.DataLoader(trainset, batch_size=batch_size,\n",
    "                                          shuffle=True)\n",
    "testset = datasets.ImageFolder(root='../imagenette/imagenette2-320/val/', transform=test_transform)\n",
    "testloader = torch.utils.data.DataLoader(testset, #batch_size=batch_size,\n",
    "                                         shuffle=False)"
   ]
  },
  {
   "cell_type": "code",
   "execution_count": 4,
   "metadata": {},
   "outputs": [
    {
     "data": {
      "text/plain": [
       "297"
      ]
     },
     "execution_count": 4,
     "metadata": {},
     "output_type": "execute_result"
    }
   ],
   "source": [
    "len(trainloader)"
   ]
  },
  {
   "cell_type": "markdown",
   "metadata": {},
   "source": [
    "## Создаем конструктор VGG-like сетей.\n",
    "\n",
    "### В конструктор подается словарь с параметрами сети:\n",
    "\n",
    " - body_input - разрешение и кол-во каналов входящего изображения [высота, ширина, каналы].\n",
    " - conv_layers - параметры сверточных блоков тела сети. Каждый блок задается как [кол-во сверточных слоев, padding, stride]. \n",
    " Padding и stride задаются для всех сверточных слоев в данном блоке.\n",
    " - linear_layers - параметры линейный слоев сети. [кол-во линейных слоев, кол-во нейронов в каждом слое]. в кол-во слоев включается слой на кол-во классов\n",
    " - class_qty - кол-во классов.\n",
    " - print_dim - печатает параметры тензора на выходе из соответствующего слоя.\n",
    "\n",
    "MaxPooling слой всегда имеет параметры kernel_size=2, stride=2"
   ]
  },
  {
   "cell_type": "code",
   "execution_count": 5,
   "metadata": {},
   "outputs": [],
   "source": [
    "params = {\n",
    "    'body_input': [224, 224, 3], # list height, width, channel\n",
    "    'conv_layers': [[1, 1, 1], [1,1,1], [2,1,1],[2,1,1], [2,1,1]], # list of lists. each layer should be list: qty conv layers, stride same or valid, padding\n",
    "    'linear_layers': [3, 256], # qty linear layers, qty neurons\n",
    "    'class_qty': [10],\n",
    "    'print_dim': True # True if you want to show how to change the tensor dimention via convolutional layers\n",
    "}"
   ]
  },
  {
   "cell_type": "code",
   "execution_count": 6,
   "metadata": {},
   "outputs": [],
   "source": [
    "class VGG_like(nn.Module):\n",
    "\n",
    "    def __init__(self, params):\n",
    "        self.body_input = params['body_input']\n",
    "        self.conv_layers = params['conv_layers']\n",
    "        self.linear_layers = params['linear_layers']\n",
    "        self.class_qty = params['class_qty']\n",
    "        self.print_dim = params['print_dim']\n",
    "        \n",
    "        super().__init__()\n",
    "        \n",
    "        def conv_block(conv_layer, resolution=None, i=None, print_dim=False):\n",
    "            for qty in range(conv_layer[0]):\n",
    "                self.channels_out = min(64*(2**i), 512)\n",
    "                self.body.add_module(name='Block%2d_Conv_%d'%(i,qty), module=nn.Conv2d(\n",
    "                        self.channels_input, \n",
    "                        self.channels_out, \n",
    "                        kernel_size=3, \n",
    "                        stride=conv_layer[1], \n",
    "                        padding=conv_layer[2]))\n",
    "                self.body.add_module(name='Block%2d_Relu_%d'%(i,qty), module=nn.ReLU())\n",
    "                self.channels_input = self.channels_out\n",
    "                resolution = (resolution - 2 + conv_layer[2]*2) // conv_layer[1] \n",
    "                if print_dim: print('Tensor dim after conv layer is: ', [*resolution, self.channels_input])\n",
    "            self.body.add_module(name='Block%2d_MaxPool'%i, module=nn.MaxPool2d(kernel_size=2, stride=2))\n",
    "            resolution = resolution // 2 \n",
    "            if print_dim: print('Tensor dim after maxpool layer is: ', [*resolution, self.channels_input])\n",
    "            return resolution\n",
    "        \n",
    "        def linear_block(linear_layer, resolution):\n",
    "            self.input = resolution[0] * resolution[1] * min(64*(2**len(self.conv_layers)),512) # resolution[0] * resolution[1] *\n",
    "            for i in range(self.linear_layers[0]-1):\n",
    "                self.head.add_module(name='Linear%2d'%i, module=nn.Linear(self.input, self.linear_layers[1]))\n",
    "                self.head.add_module(name='Dropout%2d'%i, module=nn.Dropout(.5))\n",
    "                self.head.add_module(name='Relu_%2d'%i, module=nn.ReLU())\n",
    "                self.input = linear_layer[1]\n",
    "            self.head.add_module(name='output',module=nn.Linear(self.linear_layers[1], self.class_qty[0]))\n",
    "        \n",
    "        self.body = nn.Sequential()\n",
    "        self.channels_input = self.body_input[2]\n",
    "        self.resolution = np.array([self.body_input[0], self.body_input[1]])\n",
    "        i=0\n",
    "        for conv_layer in self.conv_layers:\n",
    "            self.resolution = conv_block(conv_layer, self.resolution, i, print_dim=self.print_dim)\n",
    "            i+=1\n",
    "\n",
    "        self.head = nn.Sequential()\n",
    "        linear_block(self.linear_layers, self.resolution)\n",
    "\n",
    "\n",
    "    def forward(self, input):\n",
    "        x = self.body(input)\n",
    "#         x = nn.functional.adaptive_avg_pool2d(x, (1, 1))\n",
    "        x = x.view(x.size(0), -1)\n",
    "#         print(x.shape)\n",
    "        out = self.head(x)\n",
    "#         print(out.shape)\n",
    "        return out"
   ]
  },
  {
   "cell_type": "markdown",
   "metadata": {},
   "source": [
    "Инициализируем модель с через конструктор"
   ]
  },
  {
   "cell_type": "code",
   "execution_count": 7,
   "metadata": {},
   "outputs": [
    {
     "name": "stdout",
     "output_type": "stream",
     "text": [
      "Tensor dim after conv layer is:  [224, 224, 64]\n",
      "Tensor dim after maxpool layer is:  [112, 112, 64]\n",
      "Tensor dim after conv layer is:  [112, 112, 128]\n",
      "Tensor dim after maxpool layer is:  [56, 56, 128]\n",
      "Tensor dim after conv layer is:  [56, 56, 256]\n",
      "Tensor dim after conv layer is:  [56, 56, 256]\n",
      "Tensor dim after maxpool layer is:  [28, 28, 256]\n",
      "Tensor dim after conv layer is:  [28, 28, 512]\n",
      "Tensor dim after conv layer is:  [28, 28, 512]\n",
      "Tensor dim after maxpool layer is:  [14, 14, 512]\n",
      "Tensor dim after conv layer is:  [14, 14, 512]\n",
      "Tensor dim after conv layer is:  [14, 14, 512]\n",
      "Tensor dim after maxpool layer is:  [7, 7, 512]\n",
      "SGD (\n",
      "Parameter Group 0\n",
      "    dampening: 0\n",
      "    lr: 0.01\n",
      "    momentum: 0.9\n",
      "    nesterov: False\n",
      "    weight_decay: 0.0001\n",
      ")\n"
     ]
    }
   ],
   "source": [
    "model = VGG_like(params)\n",
    "criterion = nn.CrossEntropyLoss()\n",
    "if optimizer_type == 'SGD':\n",
    "    optimizer = torch.optim.SGD(model.parameters(), lr=learning_rate, weight_decay=0.0001, momentum=0.9)\n",
    "elif optimizer_type == 'Adam':\n",
    "    optimizer = torch.optim.Adam(model.parameters(), lr=learning_rate, betas=(0.95, 0.99), eps=1e-06, weight_decay=0.0001, amsgrad=False)\n",
    "print(optimizer)\n",
    "    \n",
    "if sheduler_type == 'step':\n",
    "    scheduler = torch.optim.lr_scheduler.StepLR(optimizer, step_size=num_epoch//sheduler_cycle, gamma=0.1)\n",
    "elif sheduler_type == 'cosine':\n",
    "    scheduler = torch.optim.lr_scheduler.CosineAnnealingWarmRestarts(optimizer, num_epoch//sheduler_cycle, eta_min=0)"
   ]
  },
  {
   "cell_type": "markdown",
   "metadata": {},
   "source": [
    "Загружаем модель на видеокарту."
   ]
  },
  {
   "cell_type": "code",
   "execution_count": 8,
   "metadata": {},
   "outputs": [
    {
     "name": "stdout",
     "output_type": "stream",
     "text": [
      "cuda:5\n"
     ]
    },
    {
     "data": {
      "text/plain": [
       "VGG_like(\n",
       "  (body): Sequential(\n",
       "    (Block 0_Conv_0): Conv2d(3, 64, kernel_size=(3, 3), stride=(1, 1), padding=(1, 1))\n",
       "    (Block 0_Relu_0): ReLU()\n",
       "    (Block 0_MaxPool): MaxPool2d(kernel_size=2, stride=2, padding=0, dilation=1, ceil_mode=False)\n",
       "    (Block 1_Conv_0): Conv2d(64, 128, kernel_size=(3, 3), stride=(1, 1), padding=(1, 1))\n",
       "    (Block 1_Relu_0): ReLU()\n",
       "    (Block 1_MaxPool): MaxPool2d(kernel_size=2, stride=2, padding=0, dilation=1, ceil_mode=False)\n",
       "    (Block 2_Conv_0): Conv2d(128, 256, kernel_size=(3, 3), stride=(1, 1), padding=(1, 1))\n",
       "    (Block 2_Relu_0): ReLU()\n",
       "    (Block 2_Conv_1): Conv2d(256, 256, kernel_size=(3, 3), stride=(1, 1), padding=(1, 1))\n",
       "    (Block 2_Relu_1): ReLU()\n",
       "    (Block 2_MaxPool): MaxPool2d(kernel_size=2, stride=2, padding=0, dilation=1, ceil_mode=False)\n",
       "    (Block 3_Conv_0): Conv2d(256, 512, kernel_size=(3, 3), stride=(1, 1), padding=(1, 1))\n",
       "    (Block 3_Relu_0): ReLU()\n",
       "    (Block 3_Conv_1): Conv2d(512, 512, kernel_size=(3, 3), stride=(1, 1), padding=(1, 1))\n",
       "    (Block 3_Relu_1): ReLU()\n",
       "    (Block 3_MaxPool): MaxPool2d(kernel_size=2, stride=2, padding=0, dilation=1, ceil_mode=False)\n",
       "    (Block 4_Conv_0): Conv2d(512, 512, kernel_size=(3, 3), stride=(1, 1), padding=(1, 1))\n",
       "    (Block 4_Relu_0): ReLU()\n",
       "    (Block 4_Conv_1): Conv2d(512, 512, kernel_size=(3, 3), stride=(1, 1), padding=(1, 1))\n",
       "    (Block 4_Relu_1): ReLU()\n",
       "    (Block 4_MaxPool): MaxPool2d(kernel_size=2, stride=2, padding=0, dilation=1, ceil_mode=False)\n",
       "  )\n",
       "  (head): Sequential(\n",
       "    (Linear 0): Linear(in_features=25088, out_features=256, bias=True)\n",
       "    (Dropout 0): Dropout(p=0.5, inplace=False)\n",
       "    (Relu_ 0): ReLU()\n",
       "    (Linear 1): Linear(in_features=256, out_features=256, bias=True)\n",
       "    (Dropout 1): Dropout(p=0.5, inplace=False)\n",
       "    (Relu_ 1): ReLU()\n",
       "    (output): Linear(in_features=256, out_features=10, bias=True)\n",
       "  )\n",
       ")"
      ]
     },
     "execution_count": 8,
     "metadata": {},
     "output_type": "execute_result"
    }
   ],
   "source": [
    "device = torch.device(\"cuda:5\" if torch.cuda.is_available() else \"cpu\")\n",
    "\n",
    "print(device)\n",
    "\n",
    "model.to(device)"
   ]
  },
  {
   "cell_type": "code",
   "execution_count": 9,
   "metadata": {},
   "outputs": [],
   "source": [
    "cols_name = ['epoch', 'time', 'current_lr', 'loss', 'accuracy_train', 'accuracy_val']\n",
    "metrics_frame = pd.DataFrame(columns=cols_name)"
   ]
  },
  {
   "cell_type": "markdown",
   "metadata": {},
   "source": [
    "## Основной тренировочный цикл и подсчет метрик.\n",
    "    Основная метрика accuracy (топ1). Очень не хотелось бы получать ошибку на топ5 accuracy при 10 классах."
   ]
  },
  {
   "cell_type": "code",
   "execution_count": 10,
   "metadata": {},
   "outputs": [
    {
     "name": "stdout",
     "output_type": "stream",
     "text": [
      "Epoch 1/6, Time: 110.15 sec, current_lr: 9.33e-03, Loss: 2.290, Accuracy_train: 0.105, Accuracy_val: 0.091\n",
      "Epoch 2/6, Time: 109.77 sec, current_lr: 7.50e-03, Loss: 2.289, Accuracy_train: 0.105, Accuracy_val: 0.091\n",
      "Epoch 3/6, Time: 110.66 sec, current_lr: 5.00e-03, Loss: 2.303, Accuracy_train: 0.107, Accuracy_val: 0.100\n",
      "Epoch 4/6, Time: 110.23 sec, current_lr: 2.50e-03, Loss: 2.299, Accuracy_train: 0.133, Accuracy_val: 0.117\n",
      "Epoch 5/6, Time: 110.57 sec, current_lr: 6.70e-04, Loss: 2.334, Accuracy_train: 0.162, Accuracy_val: 0.161\n",
      "Epoch 6/6, Time: 111.46 sec, current_lr: 1.00e-02, Loss: 2.251, Accuracy_train: 0.184, Accuracy_val: 0.190\n",
      "Finished Training\n"
     ]
    }
   ],
   "source": [
    "for epoch in range(num_epoch):  # loop over the dataset multiple times\n",
    "\n",
    "    #     model.train()\n",
    "    start_time = time.time()\n",
    "    \n",
    "    \n",
    "    for i, data in enumerate(trainloader, 0):\n",
    "        \n",
    "        # get the inputs; data is a list of [inputs, labels]\n",
    "#         inputs, labels = data\n",
    "#         print(data[1])\n",
    "        inputs, labels = data[0].to(device), data[1].to(device)\n",
    "#         print(labels)\n",
    "\n",
    "        # zero the parameter gradients\n",
    "        optimizer.zero_grad()\n",
    "\n",
    "        # forward + backward + optimize\n",
    "        outputs = model(inputs)\n",
    "        loss = criterion(outputs, labels)\n",
    "#         print('Loss: ', loss)\n",
    "        loss.backward()\n",
    "        optimizer.step()\n",
    "    scheduler.step()\n",
    "    \n",
    "    #Accuracy train and val\n",
    "    correct_train, correct_val = 0, 0\n",
    "    total_train, total_val = 0, 0\n",
    "    with torch.no_grad():\n",
    "        for images, labels in trainloader:\n",
    "            images, labels = images.to(device), labels.to(device)\n",
    "            outputs = model(images)\n",
    "            outputs = outputs.to(device)\n",
    "            _, predicted = torch.max(outputs.data, 1)\n",
    "            total_train += labels.size(0)\n",
    "            correct_train += (predicted == labels).sum().item()\n",
    "        for images, labels in testloader:\n",
    "            images, labels = images.to(device), labels.to(device)\n",
    "            outputs = model(images)\n",
    "            outputs = outputs.to(device)\n",
    "            _, predicted = torch.max(outputs.data, 1)\n",
    "            total_val += labels.size(0)\n",
    "            correct_val += (predicted == labels).sum().item()\n",
    "    end_time = time.time()\n",
    "    metrics = {'epoch': epoch+1,\n",
    "               'time': end_time - start_time,\n",
    "               'current_lr': scheduler.get_last_lr()[0],\n",
    "               'loss': float(loss),\n",
    "               'accuracy_train': correct_train/total_train,\n",
    "               'accuracy_val': correct_val/total_val\n",
    "              }\n",
    "    print(\"Epoch {}/{}, Time: {:.2f} sec, current_lr: {:.2e}, Loss: {:.3f}, Accuracy_train: {:.3f}, Accuracy_val: {:.3f}\".\n",
    "          format(metrics['epoch'], num_epoch, metrics['time'], metrics['current_lr'], metrics['loss'], metrics['accuracy_train'], metrics['accuracy_val']))\n",
    "    \n",
    "    metrics_frame = metrics_frame.append(pd.DataFrame.from_dict(metrics,orient='index').T)\n",
    "#     metrics_frame.to_csv('../metrics/VGG_constructor_metrics_1.csv',index=False)\n",
    "    \n",
    "#     print('Epoch: ', epoch, ' loss:', loss[0], ' accuracy_val: ', accuracy(outputs, labels))\n",
    "\n",
    "       \n",
    "        # print statistics\n",
    "#         running_loss += loss.item()\n",
    "#         if i % 10 == 9:    # print every 2000 mini-batches\n",
    "#             print('[%d, %5d] loss: %.3f' %\n",
    "#                   (epoch + 1, i + 1, loss)) #running_loss / 2000\n",
    "#             print('labels:',  labels)\n",
    "#             print('outputs: ', outputs)\n",
    "#             running_loss = 0.0\n",
    "\n",
    "print('Finished Training')"
   ]
  },
  {
   "cell_type": "code",
   "execution_count": null,
   "metadata": {},
   "outputs": [],
   "source": []
  }
 ],
 "metadata": {
  "kernelspec": {
   "display_name": "Python 3",
   "language": "python",
   "name": "python3"
  },
  "language_info": {
   "codemirror_mode": {
    "name": "ipython",
    "version": 3
   },
   "file_extension": ".py",
   "mimetype": "text/x-python",
   "name": "python",
   "nbconvert_exporter": "python",
   "pygments_lexer": "ipython3",
   "version": "3.6.10"
  }
 },
 "nbformat": 4,
 "nbformat_minor": 4
}
