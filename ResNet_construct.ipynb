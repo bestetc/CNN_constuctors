{
 "cells": [
  {
   "cell_type": "markdown",
   "metadata": {},
   "source": [
    "# Заголовок"
   ]
  },
  {
   "cell_type": "code",
   "execution_count": 1,
   "metadata": {},
   "outputs": [],
   "source": [
    "import torch\n",
    "import torchvision\n",
    "from torch import nn\n",
    "import pandas as pd\n",
    "import numpy as np"
   ]
  },
  {
   "cell_type": "code",
   "execution_count": 2,
   "metadata": {},
   "outputs": [],
   "source": [
    "# hyper params\n",
    "batch_size = 32\n",
    "num_epoch = 200"
   ]
  },
  {
   "cell_type": "markdown",
   "metadata": {},
   "source": [
    "### Создаем DataLoader попутно предобрабатывая данные\n",
    "- Предварительный смотр данных можно найти в VGG_like.ipynb"
   ]
  },
  {
   "cell_type": "code",
   "execution_count": 3,
   "metadata": {},
   "outputs": [
    {
     "name": "stderr",
     "output_type": "stream",
     "text": [
      "/opt/conda/lib/python3.6/site-packages/torchvision/transforms/transforms.py:704: UserWarning: The use of the transforms.RandomSizedCrop transform is deprecated, please use transforms.RandomResizedCrop instead.\n",
      "  \"please use transforms.RandomResizedCrop instead.\")\n"
     ]
    }
   ],
   "source": [
    "from torchvision import transforms, datasets\n",
    "\n",
    "train_transform = transforms.Compose([\n",
    "        transforms.Resize((260,260)),\n",
    "        transforms.RandomSizedCrop(224),\n",
    "        transforms.RandomHorizontalFlip(),\n",
    "        transforms.ToTensor(),\n",
    "        transforms.Normalize(mean=[0.485, 0.456, 0.406],\n",
    "                             std=[0.229, 0.224, 0.225])\n",
    "    ])\n",
    "test_transform = transforms.Compose([\n",
    "        transforms.Resize((260,260)),\n",
    "        transforms.CenterCrop(224),\n",
    "        transforms.ToTensor(),\n",
    "        transforms.Normalize(mean=[0.485, 0.456, 0.406],\n",
    "                             std=[0.229, 0.224, 0.225])\n",
    "    ])\n",
    "\n",
    "trainset = datasets.ImageFolder(root='../imagenette/imagenette2-320/train/', transform=train_transform)\n",
    "trainloader = torch.utils.data.DataLoader(trainset, batch_size=batch_size,\n",
    "                                          shuffle=True)\n",
    "testset = datasets.ImageFolder(root='../imagenette/imagenette2-320/val/', transform=test_transform)\n",
    "testloader = torch.utils.data.DataLoader(testset, #batch_size=batch_size,\n",
    "                                         shuffle=False)"
   ]
  },
  {
   "cell_type": "markdown",
   "metadata": {},
   "source": [
    "## Создаем конструктор ResNet-like сетей.\n",
    "\n",
    "### В конструктор подается словарь с параметрами сети:\n",
    "\n",
    " - body_input - \n",
    " - conv_layers - \n",
    "\n",
    " - class_qty - кол-во классов.\n",
    " - print_dim - печатает параметры тензора на выходе из соответствующего слоя.\n",
    "\n",
    "Примеры:\n",
    "ResNet-18: \n",
    "block_qty = [2,2,2,2]\n",
    "weight_reduction = False\n",
    "\n",
    "ResNet-18: \n",
    "block_qty = [3,4,6,3]\n",
    "weight_reduction = False\n",
    "\n",
    "ResNet-50:\n",
    "block_qty = [3,4,6,3]\n",
    "weight_reduction = True\n",
    "\n",
    "ResNet-101:\n",
    "block_qty = [3,4,23,3]\n",
    "weight_reduction = True\n",
    "\n",
    "ResNet-152:\n",
    "block_qty = [3,8,36,3]\n",
    "weight_reduction = True"
   ]
  },
  {
   "cell_type": "code",
   "execution_count": 4,
   "metadata": {},
   "outputs": [],
   "source": [
    "params = {\n",
    "    'net_input': [224, 224, 3], # list height, width, channel\n",
    "    'first_layer': [7, 64, 2, 3], # params of first conv_layer. [kernel_size , channel_qty, stride, padding]\n",
    "    'first_maxpool': [3 ,2, 1], # params of first maxpool_layer. [kernel_size , stride, padding]\n",
    "    'blocks_qty': [2,2,2,2], # list of lists. each layer should be list: qty conv layers, stride same or valid, padding\n",
    "    'weight_reduction': False, # using block with less weights qty\n",
    "    'class_qty': [10],\n",
    "    'print_dim': True # True if you want to show how to change the tensor dimention via convolutional layers\n",
    "}"
   ]
  },
  {
   "cell_type": "code",
   "execution_count": 44,
   "metadata": {},
   "outputs": [],
   "source": [
    "class ResNet_like(nn.Module):\n",
    "\n",
    "    def __init__(self, params):\n",
    "        self.net_input = params['net_input']\n",
    "        self.first_layer = params['first_layer']\n",
    "        self.first_maxpool = params['first_maxpool']\n",
    "        self.blocks_qty = params['blocks_qty']\n",
    "        self.class_qty = params['class_qty']\n",
    "        self.weight_reduction = params['weight_reduction']\n",
    "        self.print_dim = params['print_dim']\n",
    "        \n",
    "        super().__init__()\n",
    "        \n",
    "        def block_contruct(block, no_in_block, resolution=None):\n",
    "            \n",
    "\n",
    "            self.channel_out = 16*(2**block)\n",
    "            print('Input channels [in, out]: ', self.channel_in, self.channel_out)\n",
    "            self.module_dict['Block_%d_%d'%(block, no_in_block)].add_module(\n",
    "                        name='Block_%d_Conv_%d_1'%(block, no_in_block), \n",
    "                        module=nn.Conv2d(\n",
    "                        self.channel_in,\n",
    "                        self.channel_out,\n",
    "                        kernel_size=3, stride=1, padding=(1,1))\n",
    "                        )\n",
    "            self.channel_in = self.channel_out\n",
    "            self.module_dict['Block_%d_%d'%(block, no_in_block)].add_module(\n",
    "                        name='Block_%d_BN_%d_1'%(block, no_in_block),\n",
    "                        module=nn.BatchNorm2d(self.channel_out)\n",
    "                        )\n",
    "            self.module_dict['Block_%d_%d'%(block, no_in_block)].add_module(\n",
    "                        name='Block_%d_Relu_%d_1'%(block, no_in_block),\n",
    "                        module=nn.ReLU()\n",
    "                        )\n",
    "            self.module_dict['Block_%d_%d'%(block, no_in_block)].add_module(\n",
    "                        name='Block_%d_Conv_%d_2'%(block, no_in_block), \n",
    "                        module=nn.Conv2d(\n",
    "                        self.channel_in,\n",
    "                        self.channel_out,\n",
    "                        kernel_size=3, stride=1, padding=1)\n",
    "                        )\n",
    "            self.module_dict['Block_%d_%d'%(block, no_in_block)].add_module(\n",
    "                        name='Block_%d_BN_%d_2'%(block, no_in_block),\n",
    "                        module=nn.BatchNorm2d(self.channel_out)\n",
    "                        )\n",
    "            print('Out channels [in, out]: ', self.channel_in, self.channel_out)\n",
    "      \n",
    "        def reduction_block_construct(block, no_in_block, resolution=None):\n",
    "                \n",
    "            self.channel_out = 16*(2**block)\n",
    "            self.module_dict['Block_%d_%d'%(block, no_in_block)].add_module(\n",
    "                        name='Block_%d_Conv_%d_1'%(block, no_in_block), \n",
    "                        module=nn.Conv2d(\n",
    "                        self.channel_in,\n",
    "                        self.channel_out,\n",
    "                        kernel_size=3, stride=1, padding=1)\n",
    "                        )\n",
    "            self.channel_out = 16*(2**block)*4\n",
    "            \n",
    "            self.channel_in = self.channel_out\n",
    "            self.module_dict['Block_%d_%d'%(block, no_in_block)].add_module(\n",
    "                        name='Block_%d_BN_%d_1'%(block, no_in_block),\n",
    "                        module=nn.BatchNorm2d(self.channel_out)\n",
    "                        )\n",
    "            self.module_dict['Block_%d_%d'%(block, no_in_block)].add_module(\n",
    "                        name='Block_%d_Relu_%d_1'%(block, no_in_block),\n",
    "                        module=nn.ReLU()\n",
    "                        )\n",
    "\n",
    "            self.module_dict['Block_%d_%d'%(block, no_in_block)].add_module(\n",
    "                        name='Block_%d_Conv_%d_2'%(block, no_in_block), \n",
    "                        module=nn.Conv2d(\n",
    "                        self.channel_in,\n",
    "                        self.channel_out,\n",
    "                        kernel_size=3, stride=1, padding=1)\n",
    "                        )\n",
    "            self.module_dict['Block_%d_%d'%(block, no_in_block)].add_module(\n",
    "                        name='Block_%d_BN_%d_2'%(block, no_in_block),\n",
    "                        module=nn.BatchNorm2d(self.channel_out)\n",
    "                        )\n",
    "            self.module_dict['Block_%d_%d'%(block, no_in_block)].add_module(\n",
    "                        name='Block_%d_Relu_%d_2'%(block, no_in_block),\n",
    "                        module=nn.ReLU()\n",
    "                        )\n",
    "\n",
    "            self.module_dict['Block_%d_%d'%(block, no_in_block)].add_module(\n",
    "                        name='Block_%d_Conv_%d_3'%(block, no_in_block), \n",
    "                        module=nn.Conv2d(\n",
    "                        self.channel_in,\n",
    "                        self.channel_out,\n",
    "                        kernel_size=3, stride=1, padding=1)\n",
    "                        )\n",
    "            self.module_dict['Block_%d_%d'%(block, no_in_block)].add_module(\n",
    "                        name='Block_%d_BN_%d_2'%(block, no_in_block),\n",
    "                        module=nn.BatchNorm2d(self.channel_out)\n",
    "                        )\n",
    "\n",
    "        \n",
    "        # initial main net\n",
    "        self.first = nn.Sequential()\n",
    "        self.channel_in = self.net_input[2]\n",
    "        self.channel_out = self.first_layer[1]\n",
    "        self.resolution = np.array([self.net_input[0], self.net_input[1]])\n",
    "        \n",
    "        # first conv block\n",
    "        self.first.add_module(name='Block_1_Conv_1_1', module=nn.Conv2d(\n",
    "                        self.channel_in, \n",
    "                        self.channel_out, \n",
    "                        kernel_size=self.first_layer[0], \n",
    "                        stride=self.first_layer[2], \n",
    "                        padding=self.first_layer[3]))\n",
    "        self.channel_in = self.channel_out\n",
    "        self.resolution = (self.resolution - self.first_layer[0] + 1 + (self.first_layer[3] * 2)) // self.first_layer[2]\n",
    "        self.first.add_module(name='Block_1_MaxPool_1', module=nn.MaxPool2d(\n",
    "                        kernel_size=self.first_maxpool[0],\n",
    "                        stride=self.first_maxpool[1],\n",
    "                        padding=self.first_maxpool[2]))\n",
    "        self.resolution = (self.resolution - self.first_maxpool[0] + 1 + (self.first_maxpool[2] * 2)) // self.first_maxpool[1]\n",
    "        \n",
    "        self.module_dict = {}\n",
    "        \n",
    "        block=2\n",
    "        for block_number in self.blocks_qty:\n",
    "            for no_in_block in range(block_number):\n",
    "                if self.weight_reduction:\n",
    "                    self.module_dict['Block_%d_%d'%(block, no_in_block+1)] = nn.Sequential()\n",
    "                    reduction_block_construct(block, no_in_block+1) #params for correct layers naming\n",
    "                else:\n",
    "                    self.module_dict['Block_%d_%d'%(block, no_in_block+1)] = nn.Sequential()\n",
    "                    block_contruct(block, no_in_block+1)  #params for correct layers naming\n",
    "                # add maxpool after each block\n",
    "                if no_in_block + 1 == block_number and block - 1 != len(self.blocks_qty):\n",
    "                    self.resolution = self.resolution // 2\n",
    "            block+=1\n",
    "        \n",
    "        self.out = nn.Sequential()\n",
    "        if self.weight_reduction:\n",
    "            self.linear_input = self.resolution[0] * self.resolution[1] * (32*(2**(len(self.blocks_qty)))*4)\n",
    "        else:\n",
    "            self.linear_input = self.resolution[0] * self.resolution[1] * (32*(2**(len(self.blocks_qty))))\n",
    "        self.out.add_module(name='output',module=nn.Linear(self.linear_input, self.class_qty[0]))\n",
    "\n",
    "\n",
    "        \n",
    "    def forward(self, x):\n",
    "        x = self.first(x)\n",
    "        block = 2\n",
    "        for block_number in self.blocks_qty:\n",
    "            for no_in_block in range(block_number):\n",
    "                print(x.shape)\n",
    "                x_out = self.module_dict['Block_%d_%d' % (block, no_in_block + 1)](x)\n",
    "                print(x.shape, x_out.shape)\n",
    "                if x.shape == x_out.shape:\n",
    "                    x = x_out + x\n",
    "                else:\n",
    "                    x = nn.functional.conv2d(x, torch.randn(x_out.shape[1], *x.shape[1:]), stride=1)\n",
    "                    x = x_out + x\n",
    "                x = nn.functional.relu(x)\n",
    "                if no_in_block + 1 == block_number and block - 1 != len(self.blocks_qty):\n",
    "                    x = nn.functional.max_pool2d(x, kernel_size=2, stride=2)\n",
    "            block += 1\n",
    "        # x = torch.mean(x.view(x.size(0), x.size(1), -1), dim=2)\n",
    "        # x = nn.fuctional.adaptive_avg_pool2d(x, (1, 1)) # це вопрос\n",
    "\n",
    "        x = x.view(x.size(0), -1)\n",
    "        #         print(x.shape)\n",
    "        out = self.out(x)\n",
    "        #         print(out.shape)\n",
    "        return out\n"
   ]
  },
  {
   "cell_type": "code",
   "execution_count": 89,
   "metadata": {},
   "outputs": [
    {
     "name": "stdout",
     "output_type": "stream",
     "text": [
      "Sequential(\n",
      "  (Block_3_Conv_2_1): Conv2d(64, 64, kernel_size=(3, 3), stride=(1, 1), padding=(1, 1))\n",
      ")\n"
     ]
    }
   ],
   "source": [
    "def foo(i, j):\n",
    "    d['Block_%d_%d'%(i,j)].add_module(name='Block_%d_Conv_%d_1'%(i, j), \n",
    "                                module=nn.Conv2d(\n",
    "                                64,\n",
    "                                64,\n",
    "                                kernel_size=3, stride=1, padding=1)\n",
    "                                )\n",
    "\n",
    "d = {}\n",
    "for i in range(5):\n",
    "    for j in range(4):\n",
    "        d['Block_%d_%d'%(i,j)] = nn.Sequential()\n",
    "        foo(i,j)\n",
    "print(d['Block_3_2'])"
   ]
  },
  {
   "cell_type": "markdown",
   "metadata": {},
   "source": [
    "Инициализируем модель с через конструктор"
   ]
  },
  {
   "cell_type": "code",
   "execution_count": 45,
   "metadata": {},
   "outputs": [
    {
     "name": "stdout",
     "output_type": "stream",
     "text": [
      "Input channels [in, out]:  64 64\n",
      "Out channels [in, out]:  64 64\n",
      "Input channels [in, out]:  64 64\n",
      "Out channels [in, out]:  64 64\n",
      "Input channels [in, out]:  64 128\n",
      "Out channels [in, out]:  128 128\n",
      "Input channels [in, out]:  128 128\n",
      "Out channels [in, out]:  128 128\n",
      "Input channels [in, out]:  128 256\n",
      "Out channels [in, out]:  256 256\n",
      "Input channels [in, out]:  256 256\n",
      "Out channels [in, out]:  256 256\n",
      "Input channels [in, out]:  256 512\n",
      "Out channels [in, out]:  512 512\n",
      "Input channels [in, out]:  512 512\n",
      "Out channels [in, out]:  512 512\n"
     ]
    }
   ],
   "source": [
    "model = ResNet_like(params)\n",
    "criterion = nn.CrossEntropyLoss()\n",
    "# optimizer = torch.optim.SGD(net.parameters(), lr=0.001, momentum=0.9)\n",
    "optimizer = torch.optim.Adam(model.parameters(), lr=0.001, betas=(0.9, 0.999), eps=1e-08, weight_decay=0, amsgrad=False)"
   ]
  },
  {
   "cell_type": "markdown",
   "metadata": {},
   "source": [
    "Загружаем модель на видеокарту."
   ]
  },
  {
   "cell_type": "code",
   "execution_count": 46,
   "metadata": {},
   "outputs": [
    {
     "name": "stdout",
     "output_type": "stream",
     "text": [
      "cuda:1\n"
     ]
    },
    {
     "data": {
      "text/plain": [
       "ResNet_like(\n",
       "  (first): Sequential(\n",
       "    (Block_1_Conv_1_1): Conv2d(3, 64, kernel_size=(7, 7), stride=(2, 2), padding=(3, 3))\n",
       "    (Block_1_MaxPool_1): MaxPool2d(kernel_size=3, stride=2, padding=1, dilation=1, ceil_mode=False)\n",
       "  )\n",
       "  (out): Sequential(\n",
       "    (output): Linear(in_features=25088, out_features=10, bias=True)\n",
       "  )\n",
       ")"
      ]
     },
     "execution_count": 46,
     "metadata": {},
     "output_type": "execute_result"
    }
   ],
   "source": [
    "device = torch.device(\"cuda:1\" if torch.cuda.is_available() else \"cpu\")\n",
    "\n",
    "print(device)\n",
    "\n",
    "model.to(device)"
   ]
  },
  {
   "cell_type": "markdown",
   "metadata": {},
   "source": [
    "## Основной тренировочный цикл и подсчет метрик.\n",
    "    Основная метрика accuracy (топ1). Очень не хотелось бы получать ошибку на топ5 accuracy при 10 классах."
   ]
  },
  {
   "cell_type": "code",
   "execution_count": 47,
   "metadata": {},
   "outputs": [
    {
     "name": "stdout",
     "output_type": "stream",
     "text": [
      "torch.Size([32, 64, 56, 56])\n"
     ]
    },
    {
     "ename": "RuntimeError",
     "evalue": "Input type (torch.cuda.FloatTensor) and weight type (torch.FloatTensor) should be the same",
     "output_type": "error",
     "traceback": [
      "\u001b[0;31m---------------------------------------------------------------------------\u001b[0m",
      "\u001b[0;31mRuntimeError\u001b[0m                              Traceback (most recent call last)",
      "\u001b[0;32m<ipython-input-47-28fd5331d8c8>\u001b[0m in \u001b[0;36m<module>\u001b[0;34m\u001b[0m\n\u001b[1;32m     14\u001b[0m \u001b[0;34m\u001b[0m\u001b[0m\n\u001b[1;32m     15\u001b[0m         \u001b[0;31m# forward + backward + optimize\u001b[0m\u001b[0;34m\u001b[0m\u001b[0;34m\u001b[0m\u001b[0;34m\u001b[0m\u001b[0m\n\u001b[0;32m---> 16\u001b[0;31m         \u001b[0moutputs\u001b[0m \u001b[0;34m=\u001b[0m \u001b[0mmodel\u001b[0m\u001b[0;34m(\u001b[0m\u001b[0minputs\u001b[0m\u001b[0;34m)\u001b[0m\u001b[0;34m\u001b[0m\u001b[0;34m\u001b[0m\u001b[0m\n\u001b[0m\u001b[1;32m     17\u001b[0m         \u001b[0mloss\u001b[0m \u001b[0;34m=\u001b[0m \u001b[0mcriterion\u001b[0m\u001b[0;34m(\u001b[0m\u001b[0moutputs\u001b[0m\u001b[0;34m,\u001b[0m \u001b[0mlabels\u001b[0m\u001b[0;34m)\u001b[0m\u001b[0;34m\u001b[0m\u001b[0;34m\u001b[0m\u001b[0m\n\u001b[1;32m     18\u001b[0m \u001b[0;31m#         print('Loss: ', loss)\u001b[0m\u001b[0;34m\u001b[0m\u001b[0;34m\u001b[0m\u001b[0;34m\u001b[0m\u001b[0m\n",
      "\u001b[0;32m/opt/conda/lib/python3.6/site-packages/torch/nn/modules/module.py\u001b[0m in \u001b[0;36m__call__\u001b[0;34m(self, *input, **kwargs)\u001b[0m\n\u001b[1;32m    530\u001b[0m             \u001b[0mresult\u001b[0m \u001b[0;34m=\u001b[0m \u001b[0mself\u001b[0m\u001b[0;34m.\u001b[0m\u001b[0m_slow_forward\u001b[0m\u001b[0;34m(\u001b[0m\u001b[0;34m*\u001b[0m\u001b[0minput\u001b[0m\u001b[0;34m,\u001b[0m \u001b[0;34m**\u001b[0m\u001b[0mkwargs\u001b[0m\u001b[0;34m)\u001b[0m\u001b[0;34m\u001b[0m\u001b[0;34m\u001b[0m\u001b[0m\n\u001b[1;32m    531\u001b[0m         \u001b[0;32melse\u001b[0m\u001b[0;34m:\u001b[0m\u001b[0;34m\u001b[0m\u001b[0;34m\u001b[0m\u001b[0m\n\u001b[0;32m--> 532\u001b[0;31m             \u001b[0mresult\u001b[0m \u001b[0;34m=\u001b[0m \u001b[0mself\u001b[0m\u001b[0;34m.\u001b[0m\u001b[0mforward\u001b[0m\u001b[0;34m(\u001b[0m\u001b[0;34m*\u001b[0m\u001b[0minput\u001b[0m\u001b[0;34m,\u001b[0m \u001b[0;34m**\u001b[0m\u001b[0mkwargs\u001b[0m\u001b[0;34m)\u001b[0m\u001b[0;34m\u001b[0m\u001b[0;34m\u001b[0m\u001b[0m\n\u001b[0m\u001b[1;32m    533\u001b[0m         \u001b[0;32mfor\u001b[0m \u001b[0mhook\u001b[0m \u001b[0;32min\u001b[0m \u001b[0mself\u001b[0m\u001b[0;34m.\u001b[0m\u001b[0m_forward_hooks\u001b[0m\u001b[0;34m.\u001b[0m\u001b[0mvalues\u001b[0m\u001b[0;34m(\u001b[0m\u001b[0;34m)\u001b[0m\u001b[0;34m:\u001b[0m\u001b[0;34m\u001b[0m\u001b[0;34m\u001b[0m\u001b[0m\n\u001b[1;32m    534\u001b[0m             \u001b[0mhook_result\u001b[0m \u001b[0;34m=\u001b[0m \u001b[0mhook\u001b[0m\u001b[0;34m(\u001b[0m\u001b[0mself\u001b[0m\u001b[0;34m,\u001b[0m \u001b[0minput\u001b[0m\u001b[0;34m,\u001b[0m \u001b[0mresult\u001b[0m\u001b[0;34m)\u001b[0m\u001b[0;34m\u001b[0m\u001b[0;34m\u001b[0m\u001b[0m\n",
      "\u001b[0;32m<ipython-input-44-c4c1bf9772a9>\u001b[0m in \u001b[0;36mforward\u001b[0;34m(self, x)\u001b[0m\n\u001b[1;32m    149\u001b[0m             \u001b[0;32mfor\u001b[0m \u001b[0mno_in_block\u001b[0m \u001b[0;32min\u001b[0m \u001b[0mrange\u001b[0m\u001b[0;34m(\u001b[0m\u001b[0mblock_number\u001b[0m\u001b[0;34m)\u001b[0m\u001b[0;34m:\u001b[0m\u001b[0;34m\u001b[0m\u001b[0;34m\u001b[0m\u001b[0m\n\u001b[1;32m    150\u001b[0m                 \u001b[0mprint\u001b[0m\u001b[0;34m(\u001b[0m\u001b[0mx\u001b[0m\u001b[0;34m.\u001b[0m\u001b[0mshape\u001b[0m\u001b[0;34m)\u001b[0m\u001b[0;34m\u001b[0m\u001b[0;34m\u001b[0m\u001b[0m\n\u001b[0;32m--> 151\u001b[0;31m                 \u001b[0mx_out\u001b[0m \u001b[0;34m=\u001b[0m \u001b[0mself\u001b[0m\u001b[0;34m.\u001b[0m\u001b[0mmodule_dict\u001b[0m\u001b[0;34m[\u001b[0m\u001b[0;34m'Block_%d_%d'\u001b[0m \u001b[0;34m%\u001b[0m \u001b[0;34m(\u001b[0m\u001b[0mblock\u001b[0m\u001b[0;34m,\u001b[0m \u001b[0mno_in_block\u001b[0m \u001b[0;34m+\u001b[0m \u001b[0;36m1\u001b[0m\u001b[0;34m)\u001b[0m\u001b[0;34m]\u001b[0m\u001b[0;34m(\u001b[0m\u001b[0mx\u001b[0m\u001b[0;34m)\u001b[0m\u001b[0;34m\u001b[0m\u001b[0;34m\u001b[0m\u001b[0m\n\u001b[0m\u001b[1;32m    152\u001b[0m                 \u001b[0mprint\u001b[0m\u001b[0;34m(\u001b[0m\u001b[0mx\u001b[0m\u001b[0;34m.\u001b[0m\u001b[0mshape\u001b[0m\u001b[0;34m,\u001b[0m \u001b[0mx_out\u001b[0m\u001b[0;34m.\u001b[0m\u001b[0mshape\u001b[0m\u001b[0;34m)\u001b[0m\u001b[0;34m\u001b[0m\u001b[0;34m\u001b[0m\u001b[0m\n\u001b[1;32m    153\u001b[0m                 \u001b[0;32mif\u001b[0m \u001b[0mx\u001b[0m\u001b[0;34m.\u001b[0m\u001b[0mshape\u001b[0m \u001b[0;34m==\u001b[0m \u001b[0mx_out\u001b[0m\u001b[0;34m.\u001b[0m\u001b[0mshape\u001b[0m\u001b[0;34m:\u001b[0m\u001b[0;34m\u001b[0m\u001b[0;34m\u001b[0m\u001b[0m\n",
      "\u001b[0;32m/opt/conda/lib/python3.6/site-packages/torch/nn/modules/module.py\u001b[0m in \u001b[0;36m__call__\u001b[0;34m(self, *input, **kwargs)\u001b[0m\n\u001b[1;32m    530\u001b[0m             \u001b[0mresult\u001b[0m \u001b[0;34m=\u001b[0m \u001b[0mself\u001b[0m\u001b[0;34m.\u001b[0m\u001b[0m_slow_forward\u001b[0m\u001b[0;34m(\u001b[0m\u001b[0;34m*\u001b[0m\u001b[0minput\u001b[0m\u001b[0;34m,\u001b[0m \u001b[0;34m**\u001b[0m\u001b[0mkwargs\u001b[0m\u001b[0;34m)\u001b[0m\u001b[0;34m\u001b[0m\u001b[0;34m\u001b[0m\u001b[0m\n\u001b[1;32m    531\u001b[0m         \u001b[0;32melse\u001b[0m\u001b[0;34m:\u001b[0m\u001b[0;34m\u001b[0m\u001b[0;34m\u001b[0m\u001b[0m\n\u001b[0;32m--> 532\u001b[0;31m             \u001b[0mresult\u001b[0m \u001b[0;34m=\u001b[0m \u001b[0mself\u001b[0m\u001b[0;34m.\u001b[0m\u001b[0mforward\u001b[0m\u001b[0;34m(\u001b[0m\u001b[0;34m*\u001b[0m\u001b[0minput\u001b[0m\u001b[0;34m,\u001b[0m \u001b[0;34m**\u001b[0m\u001b[0mkwargs\u001b[0m\u001b[0;34m)\u001b[0m\u001b[0;34m\u001b[0m\u001b[0;34m\u001b[0m\u001b[0m\n\u001b[0m\u001b[1;32m    533\u001b[0m         \u001b[0;32mfor\u001b[0m \u001b[0mhook\u001b[0m \u001b[0;32min\u001b[0m \u001b[0mself\u001b[0m\u001b[0;34m.\u001b[0m\u001b[0m_forward_hooks\u001b[0m\u001b[0;34m.\u001b[0m\u001b[0mvalues\u001b[0m\u001b[0;34m(\u001b[0m\u001b[0;34m)\u001b[0m\u001b[0;34m:\u001b[0m\u001b[0;34m\u001b[0m\u001b[0;34m\u001b[0m\u001b[0m\n\u001b[1;32m    534\u001b[0m             \u001b[0mhook_result\u001b[0m \u001b[0;34m=\u001b[0m \u001b[0mhook\u001b[0m\u001b[0;34m(\u001b[0m\u001b[0mself\u001b[0m\u001b[0;34m,\u001b[0m \u001b[0minput\u001b[0m\u001b[0;34m,\u001b[0m \u001b[0mresult\u001b[0m\u001b[0;34m)\u001b[0m\u001b[0;34m\u001b[0m\u001b[0;34m\u001b[0m\u001b[0m\n",
      "\u001b[0;32m/opt/conda/lib/python3.6/site-packages/torch/nn/modules/container.py\u001b[0m in \u001b[0;36mforward\u001b[0;34m(self, input)\u001b[0m\n\u001b[1;32m     98\u001b[0m     \u001b[0;32mdef\u001b[0m \u001b[0mforward\u001b[0m\u001b[0;34m(\u001b[0m\u001b[0mself\u001b[0m\u001b[0;34m,\u001b[0m \u001b[0minput\u001b[0m\u001b[0;34m)\u001b[0m\u001b[0;34m:\u001b[0m\u001b[0;34m\u001b[0m\u001b[0;34m\u001b[0m\u001b[0m\n\u001b[1;32m     99\u001b[0m         \u001b[0;32mfor\u001b[0m \u001b[0mmodule\u001b[0m \u001b[0;32min\u001b[0m \u001b[0mself\u001b[0m\u001b[0;34m:\u001b[0m\u001b[0;34m\u001b[0m\u001b[0;34m\u001b[0m\u001b[0m\n\u001b[0;32m--> 100\u001b[0;31m             \u001b[0minput\u001b[0m \u001b[0;34m=\u001b[0m \u001b[0mmodule\u001b[0m\u001b[0;34m(\u001b[0m\u001b[0minput\u001b[0m\u001b[0;34m)\u001b[0m\u001b[0;34m\u001b[0m\u001b[0;34m\u001b[0m\u001b[0m\n\u001b[0m\u001b[1;32m    101\u001b[0m         \u001b[0;32mreturn\u001b[0m \u001b[0minput\u001b[0m\u001b[0;34m\u001b[0m\u001b[0;34m\u001b[0m\u001b[0m\n\u001b[1;32m    102\u001b[0m \u001b[0;34m\u001b[0m\u001b[0m\n",
      "\u001b[0;32m/opt/conda/lib/python3.6/site-packages/torch/nn/modules/module.py\u001b[0m in \u001b[0;36m__call__\u001b[0;34m(self, *input, **kwargs)\u001b[0m\n\u001b[1;32m    530\u001b[0m             \u001b[0mresult\u001b[0m \u001b[0;34m=\u001b[0m \u001b[0mself\u001b[0m\u001b[0;34m.\u001b[0m\u001b[0m_slow_forward\u001b[0m\u001b[0;34m(\u001b[0m\u001b[0;34m*\u001b[0m\u001b[0minput\u001b[0m\u001b[0;34m,\u001b[0m \u001b[0;34m**\u001b[0m\u001b[0mkwargs\u001b[0m\u001b[0;34m)\u001b[0m\u001b[0;34m\u001b[0m\u001b[0;34m\u001b[0m\u001b[0m\n\u001b[1;32m    531\u001b[0m         \u001b[0;32melse\u001b[0m\u001b[0;34m:\u001b[0m\u001b[0;34m\u001b[0m\u001b[0;34m\u001b[0m\u001b[0m\n\u001b[0;32m--> 532\u001b[0;31m             \u001b[0mresult\u001b[0m \u001b[0;34m=\u001b[0m \u001b[0mself\u001b[0m\u001b[0;34m.\u001b[0m\u001b[0mforward\u001b[0m\u001b[0;34m(\u001b[0m\u001b[0;34m*\u001b[0m\u001b[0minput\u001b[0m\u001b[0;34m,\u001b[0m \u001b[0;34m**\u001b[0m\u001b[0mkwargs\u001b[0m\u001b[0;34m)\u001b[0m\u001b[0;34m\u001b[0m\u001b[0;34m\u001b[0m\u001b[0m\n\u001b[0m\u001b[1;32m    533\u001b[0m         \u001b[0;32mfor\u001b[0m \u001b[0mhook\u001b[0m \u001b[0;32min\u001b[0m \u001b[0mself\u001b[0m\u001b[0;34m.\u001b[0m\u001b[0m_forward_hooks\u001b[0m\u001b[0;34m.\u001b[0m\u001b[0mvalues\u001b[0m\u001b[0;34m(\u001b[0m\u001b[0;34m)\u001b[0m\u001b[0;34m:\u001b[0m\u001b[0;34m\u001b[0m\u001b[0;34m\u001b[0m\u001b[0m\n\u001b[1;32m    534\u001b[0m             \u001b[0mhook_result\u001b[0m \u001b[0;34m=\u001b[0m \u001b[0mhook\u001b[0m\u001b[0;34m(\u001b[0m\u001b[0mself\u001b[0m\u001b[0;34m,\u001b[0m \u001b[0minput\u001b[0m\u001b[0;34m,\u001b[0m \u001b[0mresult\u001b[0m\u001b[0;34m)\u001b[0m\u001b[0;34m\u001b[0m\u001b[0;34m\u001b[0m\u001b[0m\n",
      "\u001b[0;32m/opt/conda/lib/python3.6/site-packages/torch/nn/modules/conv.py\u001b[0m in \u001b[0;36mforward\u001b[0;34m(self, input)\u001b[0m\n\u001b[1;32m    343\u001b[0m \u001b[0;34m\u001b[0m\u001b[0m\n\u001b[1;32m    344\u001b[0m     \u001b[0;32mdef\u001b[0m \u001b[0mforward\u001b[0m\u001b[0;34m(\u001b[0m\u001b[0mself\u001b[0m\u001b[0;34m,\u001b[0m \u001b[0minput\u001b[0m\u001b[0;34m)\u001b[0m\u001b[0;34m:\u001b[0m\u001b[0;34m\u001b[0m\u001b[0;34m\u001b[0m\u001b[0m\n\u001b[0;32m--> 345\u001b[0;31m         \u001b[0;32mreturn\u001b[0m \u001b[0mself\u001b[0m\u001b[0;34m.\u001b[0m\u001b[0mconv2d_forward\u001b[0m\u001b[0;34m(\u001b[0m\u001b[0minput\u001b[0m\u001b[0;34m,\u001b[0m \u001b[0mself\u001b[0m\u001b[0;34m.\u001b[0m\u001b[0mweight\u001b[0m\u001b[0;34m)\u001b[0m\u001b[0;34m\u001b[0m\u001b[0;34m\u001b[0m\u001b[0m\n\u001b[0m\u001b[1;32m    346\u001b[0m \u001b[0;34m\u001b[0m\u001b[0m\n\u001b[1;32m    347\u001b[0m \u001b[0;32mclass\u001b[0m \u001b[0mConv3d\u001b[0m\u001b[0;34m(\u001b[0m\u001b[0m_ConvNd\u001b[0m\u001b[0;34m)\u001b[0m\u001b[0;34m:\u001b[0m\u001b[0;34m\u001b[0m\u001b[0;34m\u001b[0m\u001b[0m\n",
      "\u001b[0;32m/opt/conda/lib/python3.6/site-packages/torch/nn/modules/conv.py\u001b[0m in \u001b[0;36mconv2d_forward\u001b[0;34m(self, input, weight)\u001b[0m\n\u001b[1;32m    340\u001b[0m                             _pair(0), self.dilation, self.groups)\n\u001b[1;32m    341\u001b[0m         return F.conv2d(input, weight, self.bias, self.stride,\n\u001b[0;32m--> 342\u001b[0;31m                         self.padding, self.dilation, self.groups)\n\u001b[0m\u001b[1;32m    343\u001b[0m \u001b[0;34m\u001b[0m\u001b[0m\n\u001b[1;32m    344\u001b[0m     \u001b[0;32mdef\u001b[0m \u001b[0mforward\u001b[0m\u001b[0;34m(\u001b[0m\u001b[0mself\u001b[0m\u001b[0;34m,\u001b[0m \u001b[0minput\u001b[0m\u001b[0;34m)\u001b[0m\u001b[0;34m:\u001b[0m\u001b[0;34m\u001b[0m\u001b[0;34m\u001b[0m\u001b[0m\n",
      "\u001b[0;31mRuntimeError\u001b[0m: Input type (torch.cuda.FloatTensor) and weight type (torch.FloatTensor) should be the same"
     ]
    }
   ],
   "source": [
    "for epoch in range(num_epoch):  # loop over the dataset multiple times\n",
    "    \n",
    "#     model.train()\n",
    "    \n",
    "    for i, data in enumerate(trainloader, 0):\n",
    "        # get the inputs; data is a list of [inputs, labels]\n",
    "#         inputs, labels = data\n",
    "#         print(data[1])\n",
    "        inputs, labels = data[0].to(device), data[1].to(device)\n",
    "#         print(labels)\n",
    "\n",
    "        # zero the parameter gradients\n",
    "        optimizer.zero_grad()\n",
    "\n",
    "        # forward + backward + optimize\n",
    "        outputs = model(inputs)\n",
    "        loss = criterion(outputs, labels)\n",
    "#         print('Loss: ', loss)\n",
    "        loss.backward()\n",
    "        optimizer.step()\n",
    "\n",
    "    #Accuracy train and val\n",
    "    correct_train, correct_val = 0, 0\n",
    "    total_train, total_val = 0, 0\n",
    "    with torch.no_grad():\n",
    "        for images, labels in trainloader:\n",
    "            images, labels = images.to(device), labels.to(device)\n",
    "            outputs = model(images)\n",
    "            outputs = outputs.to(device)\n",
    "            _, predicted = torch.max(outputs.data, 1)\n",
    "            total_train += labels.size(0)\n",
    "            correct_train += (predicted == labels).sum().item()\n",
    "        for images, labels in testloader:\n",
    "            images, labels = images.to(device), labels.to(device)\n",
    "            outputs = model(images)\n",
    "            outputs = outputs.to(device)\n",
    "            _, predicted = torch.max(outputs.data, 1)\n",
    "            total_val += labels.size(0)\n",
    "            correct_val += (predicted == labels).sum().item()\n",
    "\n",
    "    print(\"Epoch {}/{}, Loss: {:.3f}, Accuracy_train: {:.3f}, Accuracy_val: {:.3f}\".\n",
    "          format(epoch+1, num_epoch, loss, correct_train/total_train, correct_val/total_val))\n",
    "#     print('Epoch: ', epoch, ' loss:', loss[0], ' accuracy_val: ', accuracy(outputs, labels))\n",
    "\n",
    "       \n",
    "        # print statistics\n",
    "#         running_loss += loss.item()\n",
    "#         if i % 10 == 9:    # print every 2000 mini-batches\n",
    "#             print('[%d, %5d] loss: %.3f' %\n",
    "#                   (epoch + 1, i + 1, loss)) #running_loss / 2000\n",
    "#             print('labels:',  labels)\n",
    "#             print('outputs: ', outputs)\n",
    "#             running_loss = 0.0\n",
    "\n",
    "print('Finished Training')"
   ]
  },
  {
   "cell_type": "code",
   "execution_count": null,
   "metadata": {},
   "outputs": [],
   "source": []
  }
 ],
 "metadata": {
  "kernelspec": {
   "display_name": "Python 3",
   "language": "python",
   "name": "python3"
  },
  "language_info": {
   "codemirror_mode": {
    "name": "ipython",
    "version": 3
   },
   "file_extension": ".py",
   "mimetype": "text/x-python",
   "name": "python",
   "nbconvert_exporter": "python",
   "pygments_lexer": "ipython3",
   "version": "3.6.10"
  }
 },
 "nbformat": 4,
 "nbformat_minor": 4
}
