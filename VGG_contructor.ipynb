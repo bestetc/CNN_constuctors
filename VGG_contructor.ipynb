{
 "cells": [
  {
   "cell_type": "code",
   "execution_count": 1,
   "metadata": {},
   "outputs": [],
   "source": [
    "import torch\n",
    "import torchvision\n",
    "from torch import nn\n",
    "import pandas as pd"
   ]
  },
  {
   "cell_type": "code",
   "execution_count": null,
   "metadata": {},
   "outputs": [],
   "source": [
    "class VGG_construct(dict):\n",
    "    "
   ]
  },
  {
   "cell_type": "code",
   "execution_count": null,
   "metadata": {},
   "outputs": [],
   "source": []
  },
  {
   "cell_type": "code",
   "execution_count": 110,
   "metadata": {},
   "outputs": [
    {
     "name": "stdout",
     "output_type": "stream",
     "text": [
      "5\n"
     ]
    }
   ],
   "source": [
    "# словарь сети\n",
    "\n",
    "params = {\n",
    "    'body_input': [224, 224, 3], # list height, width, channel\n",
    "    'conv_layers': [[2, 1, 1], [2,1,1], [3,1,1],[3,1,1], [3,1,1]], # list of lists. each layer should be list: qty conv layers, stride same or valid, padding\n",
    "    'body_output_shape': [7,7, 512], # list height, width, channel\n",
    "    'linear_layers': [2, 128], # qty linear layers, qty neurons\n",
    "    'class_qty': [10]\n",
    "    \n",
    "}\n",
    "\n",
    "print(len(dict['conv_layers']))"
   ]
  },
  {
   "cell_type": "code",
   "execution_count": 69,
   "metadata": {},
   "outputs": [
    {
     "name": "stdout",
     "output_type": "stream",
     "text": [
      "[10]\n"
     ]
    }
   ],
   "source": [
    "print(params['co'])"
   ]
  },
  {
   "cell_type": "code",
   "execution_count": 111,
   "metadata": {},
   "outputs": [
    {
     "name": "stdout",
     "output_type": "stream",
     "text": [
      "[2, 1, 1]\n",
      "[2, 1, 1]\n",
      "[3, 1, 1]\n",
      "[3, 1, 1]\n",
      "[3, 1, 1]\n"
     ]
    }
   ],
   "source": [
    "for layers in params['conv_layers']:\n",
    "    print(layers)"
   ]
  },
  {
   "cell_type": "code",
   "execution_count": 114,
   "metadata": {},
   "outputs": [],
   "source": [
    "class VGG_like(nn.Module):\n",
    "\n",
    "    def __init__(self, params):\n",
    "        self.body_input = params['body_input']\n",
    "        self.conv_layers = params['conv_layers']\n",
    "        self.body_output_shape = params['body_output_shape']\n",
    "        self.linear_layers = params['linear_layers']\n",
    "        self.class_qty = params['class_qty']\n",
    "        \n",
    "        super().__init__()\n",
    "\n",
    "        self.body = nn.Sequential()\n",
    "        \n",
    "        self.channels_input = self.body_input[2]\n",
    "        i=0\n",
    "        for layer in self.conv_layers:\n",
    "            for qty in range(layer[0]):\n",
    "                self.channels_out = min(64*(2**i), 512)\n",
    "                self.body.add_module(name='Block%2d_Conv_%d'%(i,qty), module=nn.Conv2d(\n",
    "                        self.channels_input, \n",
    "                        self.channels_out, \n",
    "                        kernel_size=3, \n",
    "                        stride=layer[1], \n",
    "                        padding=layer[2])),\n",
    "                self.body.add_module(name='Block%2d_Relu_%d'%(i,qty), module=nn.ReLU()),\n",
    "                self.channels_input = self.channels_out\n",
    "            self.body.add_module(name='Block%2d_MaxPool'%i, module=nn.MaxPool2d(kernel_size=2, stride=2)),\n",
    "#             self.channels_input = self.channels_out\n",
    "            i+=1\n",
    "\n",
    "        self.head = nn.Sequential()\n",
    "        for i in range(self.linear_layers[0]):\n",
    "            # 7x7x512 -> 1x1x4096 -> 1x1x1000 -> softmax\n",
    "            self.input = 112*112*64*(1**2)\n",
    "            self.head.add_module(name='Linear%2d'%i, module=nn.Linear(self.input, self.linear_layers[1])),\n",
    "            self.head.add_module(name='Dropout%2d'%i, module=nn.Dropout(.5)),\n",
    "            self.head.add_module(name='Relu_%2d'%i, module=nn.ReLU()),\n",
    "        self.head.add_module(name='output',module=nn.Linear(self.linear_layers[1], self.class_qty[0]))\n",
    "\n",
    "#     def forward(self, input):\n",
    "#         x = self.body(input)\n",
    "#         x = x.view(x.size(0), -1)\n",
    "# #         print(x.shape)\n",
    "#         out = self.head(x)\n",
    "# #         print(out.shape)\n",
    "#         return out"
   ]
  },
  {
   "cell_type": "code",
   "execution_count": 115,
   "metadata": {},
   "outputs": [
    {
     "name": "stdout",
     "output_type": "stream",
     "text": [
      "VGG_like(\n",
      "  (body): Sequential(\n",
      "    (Block 0_Conv_0): Conv2d(3, 64, kernel_size=(3, 3), stride=(1, 1), padding=(1, 1))\n",
      "    (Block 0_Relu_0): ReLU()\n",
      "    (Block 0_Conv_1): Conv2d(64, 64, kernel_size=(3, 3), stride=(1, 1), padding=(1, 1))\n",
      "    (Block 0_Relu_1): ReLU()\n",
      "    (Block 0_MaxPool): MaxPool2d(kernel_size=2, stride=2, padding=0, dilation=1, ceil_mode=False)\n",
      "    (Block 1_Conv_0): Conv2d(64, 128, kernel_size=(3, 3), stride=(1, 1), padding=(1, 1))\n",
      "    (Block 1_Relu_0): ReLU()\n",
      "    (Block 1_Conv_1): Conv2d(128, 128, kernel_size=(3, 3), stride=(1, 1), padding=(1, 1))\n",
      "    (Block 1_Relu_1): ReLU()\n",
      "    (Block 1_MaxPool): MaxPool2d(kernel_size=2, stride=2, padding=0, dilation=1, ceil_mode=False)\n",
      "    (Block 2_Conv_0): Conv2d(128, 256, kernel_size=(3, 3), stride=(1, 1), padding=(1, 1))\n",
      "    (Block 2_Relu_0): ReLU()\n",
      "    (Block 2_Conv_1): Conv2d(256, 256, kernel_size=(3, 3), stride=(1, 1), padding=(1, 1))\n",
      "    (Block 2_Relu_1): ReLU()\n",
      "    (Block 2_Conv_2): Conv2d(256, 256, kernel_size=(3, 3), stride=(1, 1), padding=(1, 1))\n",
      "    (Block 2_Relu_2): ReLU()\n",
      "    (Block 2_MaxPool): MaxPool2d(kernel_size=2, stride=2, padding=0, dilation=1, ceil_mode=False)\n",
      "    (Block 3_Conv_0): Conv2d(256, 512, kernel_size=(3, 3), stride=(1, 1), padding=(1, 1))\n",
      "    (Block 3_Relu_0): ReLU()\n",
      "    (Block 3_Conv_1): Conv2d(512, 512, kernel_size=(3, 3), stride=(1, 1), padding=(1, 1))\n",
      "    (Block 3_Relu_1): ReLU()\n",
      "    (Block 3_Conv_2): Conv2d(512, 512, kernel_size=(3, 3), stride=(1, 1), padding=(1, 1))\n",
      "    (Block 3_Relu_2): ReLU()\n",
      "    (Block 3_MaxPool): MaxPool2d(kernel_size=2, stride=2, padding=0, dilation=1, ceil_mode=False)\n",
      "    (Block 4_Conv_0): Conv2d(512, 512, kernel_size=(3, 3), stride=(1, 1), padding=(1, 1))\n",
      "    (Block 4_Relu_0): ReLU()\n",
      "    (Block 4_Conv_1): Conv2d(512, 512, kernel_size=(3, 3), stride=(1, 1), padding=(1, 1))\n",
      "    (Block 4_Relu_1): ReLU()\n",
      "    (Block 4_Conv_2): Conv2d(512, 512, kernel_size=(3, 3), stride=(1, 1), padding=(1, 1))\n",
      "    (Block 4_Relu_2): ReLU()\n",
      "    (Block 4_MaxPool): MaxPool2d(kernel_size=2, stride=2, padding=0, dilation=1, ceil_mode=False)\n",
      "  )\n",
      "  (head): Sequential(\n",
      "    (Linear 0): Linear(in_features=802816, out_features=128, bias=True)\n",
      "    (Dropout 0): Dropout(p=0.5, inplace=False)\n",
      "    (Relu_ 0): ReLU()\n",
      "    (Linear 1): Linear(in_features=802816, out_features=128, bias=True)\n",
      "    (Dropout 1): Dropout(p=0.5, inplace=False)\n",
      "    (Relu_ 1): ReLU()\n",
      "    (output): Linear(in_features=128, out_features=10, bias=True)\n",
      "  )\n",
      ")\n"
     ]
    }
   ],
   "source": [
    "print(VGG_like(params))"
   ]
  },
  {
   "cell_type": "code",
   "execution_count": null,
   "metadata": {},
   "outputs": [],
   "source": [
    "5*5"
   ]
  },
  {
   "cell_type": "code",
   "execution_count": null,
   "metadata": {},
   "outputs": [],
   "source": []
  }
 ],
 "metadata": {
  "kernelspec": {
   "display_name": "Python 3",
   "language": "python",
   "name": "python3"
  },
  "language_info": {
   "codemirror_mode": {
    "name": "ipython",
    "version": 3
   },
   "file_extension": ".py",
   "mimetype": "text/x-python",
   "name": "python",
   "nbconvert_exporter": "python",
   "pygments_lexer": "ipython3",
   "version": "3.6.10"
  }
 },
 "nbformat": 4,
 "nbformat_minor": 4
}
