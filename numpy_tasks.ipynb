{
 "cells": [
  {
   "cell_type": "markdown",
   "metadata": {},
   "source": [
    "# Решение задач по numpy.\n",
    "Задачник лежит здесь:\n",
    "https://docs.google.com/spreadsheets/d/1v1_X6zRlwRVjULZSrRvBYAG_raUPjTI0Ceruwh6vNXw/edit#gid=2019320840\n"
   ]
  },
  {
   "cell_type": "code",
   "execution_count": 1,
   "metadata": {},
   "outputs": [],
   "source": [
    "import numpy as np\n",
    "import time"
   ]
  },
  {
   "cell_type": "markdown",
   "metadata": {},
   "source": [
    "## Array attributes"
   ]
  },
  {
   "cell_type": "markdown",
   "metadata": {},
   "source": [
    "Задача 1.\n",
    "\n",
    "Создайте массив длины 10, заполненный нулями\n",
    "Сделайте полученный массив неизменяемым"
   ]
  },
  {
   "cell_type": "code",
   "execution_count": null,
   "metadata": {},
   "outputs": [],
   "source": [
    "a = np.zeros(10)\n",
    "a.setflags(write=False)\n",
    "a"
   ]
  },
  {
   "cell_type": "code",
   "execution_count": null,
   "metadata": {},
   "outputs": [],
   "source": [
    "try:\n",
    "    a[1] = 2\n",
    "    print('Think about it...')\n",
    "except:\n",
    "    print('Done')"
   ]
  },
  {
   "cell_type": "markdown",
   "metadata": {},
   "source": [
    "Задача 2.\n",
    "\n",
    "Создайте массив, содержащий 5 равноотстоящих точек, покрывающих диапазон от 0 до 2*pi\n",
    "Создайте массив, содержащий 5 равноотстоящих в логарифмическом масштабе точек, покрывающих диапазон от 10 до 100\n",
    "Составьте из полученных массивов координатную сеть (meshgrid)"
   ]
  },
  {
   "cell_type": "code",
   "execution_count": null,
   "metadata": {},
   "outputs": [],
   "source": [
    "a = np.linspace(start=0,stop=2*np.pi, num=5)\n",
    "a"
   ]
  },
  {
   "cell_type": "code",
   "execution_count": null,
   "metadata": {},
   "outputs": [],
   "source": [
    "b = np.logspace(base=10, start=1, stop=2,num=5)\n",
    "b"
   ]
  },
  {
   "cell_type": "code",
   "execution_count": null,
   "metadata": {},
   "outputs": [],
   "source": [
    "c = np.meshgrid(a,b)\n",
    "c"
   ]
  },
  {
   "cell_type": "markdown",
   "metadata": {},
   "source": [
    "Задача 3. Создайте двумерный массив 5х5 с элементами 1, 2, 3 и 4 под главной диагональю, остальные элементы заполните нулями"
   ]
  },
  {
   "cell_type": "code",
   "execution_count": null,
   "metadata": {},
   "outputs": [],
   "source": [
    "a = np.zeros(shape=(5,5))\n",
    "for i in range(4):\n",
    "  a[i+1,i] = i + 1\n",
    "a"
   ]
  },
  {
   "cell_type": "code",
   "execution_count": null,
   "metadata": {},
   "outputs": [],
   "source": [
    "a = np.eye(5, k=-1)\n",
    "a = a * range(1,6,1)\n",
    "a"
   ]
  },
  {
   "cell_type": "code",
   "execution_count": null,
   "metadata": {},
   "outputs": [],
   "source": [
    "a = np.diag(range(1,5,1), k=-1)\n",
    "a"
   ]
  },
  {
   "cell_type": "markdown",
   "metadata": {},
   "source": [
    "Задача 4.\n",
    "\n",
    "Создайте функцию-генератор, последовательно возвращающую целые числа от 0 до 9\n",
    "Создайте массив из построенного генератора"
   ]
  },
  {
   "cell_type": "code",
   "execution_count": 14,
   "metadata": {},
   "outputs": [
    {
     "data": {
      "text/plain": [
       "array([0., 1., 2., 3., 4., 5., 6., 7., 8., 9.])"
      ]
     },
     "execution_count": 14,
     "metadata": {},
     "output_type": "execute_result"
    }
   ],
   "source": [
    "def gen(lenght):\n",
    "    c = 0\n",
    "    yield c\n",
    "    while c < lenght-1:\n",
    "        c += 1\n",
    "        yield c\n",
    "\n",
    "arr_lenght = 10\n",
    "arr = np.zeros(arr_lenght)\n",
    "for i in gen(arr_lenght):\n",
    "    arr[i] = i\n",
    "arr"
   ]
  },
  {
   "cell_type": "markdown",
   "metadata": {},
   "source": [
    "## Array arithmetic operations"
   ]
  },
  {
   "cell_type": "markdown",
   "metadata": {},
   "source": [
    "Задача 5. \n",
    "Что будет выведено на экран? a = np.arange(4).reshape(2,2) a += 0.5 print(a)"
   ]
  },
  {
   "cell_type": "code",
   "execution_count": null,
   "metadata": {},
   "outputs": [],
   "source": [
    "a = np.arange(4.).reshape(2,2) #dtype=float\n",
    "a += .5\n",
    "a"
   ]
  },
  {
   "cell_type": "markdown",
   "metadata": {},
   "source": [
    "формулировка задачи приводит в выводу ошибки, т.к. создается массив int. чтобы данная конструкция работала надо явно указать тип переменной. Либо через dtype=float, либо задав значение как 4 с точкой на конце."
   ]
  },
  {
   "cell_type": "markdown",
   "metadata": {},
   "source": [
    "Задача 6. \n",
    "Что будет выведено на экран? a = np.array([1]) if a: print(\"\"True\"\") else: print(\"\"False\"\")\n",
    "a = np.array([1, 2, 3]) if a: print(\"\"True\"\") else: print(\"\"False\"\")"
   ]
  },
  {
   "cell_type": "code",
   "execution_count": null,
   "metadata": {},
   "outputs": [],
   "source": [
    "a = np.array([0])\n",
    "if a:\n",
    "  print('True')\n",
    "else:\n",
    "  print('False')"
   ]
  },
  {
   "cell_type": "markdown",
   "metadata": {},
   "source": [
    "Вернет True при любом значении массива, кроме 0. Или инициализации пустого массива."
   ]
  },
  {
   "cell_type": "code",
   "execution_count": null,
   "metadata": {},
   "outputs": [],
   "source": [
    "a = np.array([0,0,1])\n",
    "if a.all(): #should use any() or all()\n",
    "  print('True')\n",
    "else:\n",
    "  print('False')"
   ]
  },
  {
   "cell_type": "markdown",
   "metadata": {},
   "source": [
    "Вернет ошибку. Чтобы массив длинной >1 обрабатывался корректно нужно использовать all() или any()"
   ]
  },
  {
   "cell_type": "markdown",
   "metadata": {},
   "source": [
    "## Floating Point Special Values"
   ]
  },
  {
   "cell_type": "markdown",
   "metadata": {},
   "source": [
    "Что будет выведено на экран?\n",
    "print(0 * np.nan)\n",
    "print(np.nan - np.nan)\n",
    "print(np.nan == np.nan)\n",
    "print(np.nan is np.nan)\n",
    "print(-np.inf < np.nan < np.inf)"
   ]
  },
  {
   "cell_type": "code",
   "execution_count": null,
   "metadata": {},
   "outputs": [],
   "source": [
    "print(0 * np.nan)"
   ]
  },
  {
   "cell_type": "code",
   "execution_count": null,
   "metadata": {},
   "outputs": [],
   "source": [
    "print(np.nan - np.nan)"
   ]
  },
  {
   "cell_type": "code",
   "execution_count": null,
   "metadata": {},
   "outputs": [],
   "source": [
    "print(np.nan == np.nan)"
   ]
  },
  {
   "cell_type": "markdown",
   "metadata": {},
   "source": [
    "сравнение np.nan == np.nan возвращает False. Что корректно сравнивать np.nan надо использовать специальную функцию."
   ]
  },
  {
   "cell_type": "code",
   "execution_count": 17,
   "metadata": {},
   "outputs": [
    {
     "data": {
      "text/plain": [
       "True"
      ]
     },
     "execution_count": 17,
     "metadata": {},
     "output_type": "execute_result"
    }
   ],
   "source": [
    "import pandas as pd\n",
    "pd.isna(np.nan)"
   ]
  },
  {
   "cell_type": "code",
   "execution_count": 15,
   "metadata": {},
   "outputs": [
    {
     "name": "stdout",
     "output_type": "stream",
     "text": [
      "True\n"
     ]
    }
   ],
   "source": [
    "print(np.nan is np.nan)"
   ]
  },
  {
   "cell_type": "code",
   "execution_count": null,
   "metadata": {},
   "outputs": [],
   "source": [
    "print(-np.inf < np.nan < np.inf)"
   ]
  },
  {
   "cell_type": "markdown",
   "metadata": {},
   "source": [
    "Что будет выведено на экран?\n",
    "print(np.isnan(np.array([np.nan]).astype(np.int)))"
   ]
  },
  {
   "cell_type": "code",
   "execution_count": null,
   "metadata": {},
   "outputs": [],
   "source": [
    "print(np.isnan(np.array([np.nan]).astype(np.int)))"
   ]
  },
  {
   "cell_type": "markdown",
   "metadata": {},
   "source": [
    "Интересно, что в данной контрукции пандас возвращает False"
   ]
  },
  {
   "cell_type": "code",
   "execution_count": 18,
   "metadata": {},
   "outputs": [
    {
     "name": "stdout",
     "output_type": "stream",
     "text": [
      "[False]\n"
     ]
    }
   ],
   "source": [
    "print(pd.isna(np.array([np.nan]).astype(np.int)))"
   ]
  },
  {
   "cell_type": "markdown",
   "metadata": {},
   "source": [
    "## Broadcasting rules"
   ]
  },
  {
   "cell_type": "markdown",
   "metadata": {},
   "source": [
    "Задача 9.\n",
    "1. Создайте масив из четырех элементов: 0, 10, 20, 30\n",
    "2. Создайте двухмерный массив 4x5, в котором первый столбец - массив с шага 1, а каждый элемент каждой строки, начиная со второго,  больше предыдущего элемента этой же строки на 1."
   ]
  },
  {
   "cell_type": "code",
   "execution_count": null,
   "metadata": {},
   "outputs": [],
   "source": [
    "a = np.array([0,10,20,30])\n",
    "b = np.zeros(shape=(4,5))\n",
    "b[:,0] = a.reshape(1,-1)\n",
    "for i in range(1,5):\n",
    "    b[:,i] = b[:,i-1] + 1\n",
    "b"
   ]
  },
  {
   "cell_type": "code",
   "execution_count": null,
   "metadata": {},
   "outputs": [],
   "source": [
    "a = np.arange(0,31,10).reshape(-1,1)\n",
    "b= np.array([0,1,2,3,4])\n",
    "a+b"
   ]
  },
  {
   "cell_type": "markdown",
   "metadata": {},
   "source": [
    "Задача 10.\n",
    "Какой shape будет у результата операции np.arange(5).reshape(1,-1) + np.arange(5).reshape(-1,1)?"
   ]
  },
  {
   "cell_type": "code",
   "execution_count": null,
   "metadata": {},
   "outputs": [],
   "source": [
    "a = np.arange(5).reshape(1,-1) + np.arange(5).reshape(-1,1)\n",
    "a.shape"
   ]
  },
  {
   "cell_type": "markdown",
   "metadata": {},
   "source": [
    "## Basic Slicing and Indexing"
   ]
  },
  {
   "cell_type": "markdown",
   "metadata": {},
   "source": [
    "Задача 11.\n",
    "Создайте двумерный массив 8х8, заполненный 0 и 1 в шахматном порядке."
   ]
  },
  {
   "cell_type": "code",
   "execution_count": null,
   "metadata": {},
   "outputs": [],
   "source": [
    "# %%timeit\n",
    "a = np.zeros([8,8],dtype=int)\n",
    "for i in range(8):\n",
    "    for j in range(8):\n",
    "        if ((i+j) % 2) == 0:\n",
    "            a[i,j] = 1\n",
    "a"
   ]
  },
  {
   "cell_type": "code",
   "execution_count": null,
   "metadata": {},
   "outputs": [],
   "source": [
    "# %%timeit\n",
    "a=[0,1] * 4\n",
    "b = [1, 0] * 4\n",
    "c = np.array([b, a]*4).reshape(-1,8)\n",
    "c"
   ]
  },
  {
   "cell_type": "code",
   "execution_count": 20,
   "metadata": {},
   "outputs": [
    {
     "data": {
      "text/plain": [
       "array([[1, 0, 1, 0, 1, 0, 1, 0],\n",
       "       [0, 1, 0, 1, 0, 1, 0, 1],\n",
       "       [1, 0, 1, 0, 1, 0, 1, 0],\n",
       "       [0, 1, 0, 1, 0, 1, 0, 1],\n",
       "       [1, 0, 1, 0, 1, 0, 1, 0],\n",
       "       [0, 1, 0, 1, 0, 1, 0, 1],\n",
       "       [1, 0, 1, 0, 1, 0, 1, 0],\n",
       "       [0, 1, 0, 1, 0, 1, 0, 1]])"
      ]
     },
     "execution_count": 20,
     "metadata": {},
     "output_type": "execute_result"
    }
   ],
   "source": [
    "n = 8\n",
    "a = np.zeros([n,n], dtype=int)\n",
    "a[[range(0,n,2)], ::2] = 1\n",
    "a[[range(1,n,2)], 1::2] = 1\n",
    "a"
   ]
  },
  {
   "cell_type": "markdown",
   "metadata": {},
   "source": [
    "Задача 12.\n",
    "1. Создайте одномерный массив целых чисел от 1 до 5\n",
    "2. Вставьте 0 между каждой парой соседних элементов"
   ]
  },
  {
   "cell_type": "code",
   "execution_count": null,
   "metadata": {},
   "outputs": [],
   "source": [
    "a = np.arange(1,6,1)\n",
    "b = np.zeros(a.shape[0]*2-1)\n",
    "\n",
    "b[::2] = a\n",
    "print(b)"
   ]
  },
  {
   "cell_type": "markdown",
   "metadata": {},
   "source": [
    "Задача 13.\n",
    "Что будет выведено на экран?\n",
    "x = np.arange(36).reshape(2,3,2,3)\n",
    "print(x[...,0,...])"
   ]
  },
  {
   "cell_type": "code",
   "execution_count": null,
   "metadata": {},
   "outputs": [],
   "source": [
    "x = np.arange(36).reshape(3,4,3)\n",
    "print(x[...,0,...])"
   ]
  },
  {
   "cell_type": "code",
   "execution_count": null,
   "metadata": {},
   "outputs": [],
   "source": [
    "x = np.arange(36).reshape(2,3,2,3) print(x[...,0,...])"
   ]
  },
  {
   "cell_type": "markdown",
   "metadata": {},
   "source": [
    "Будет выведена ошибка, объект Ellipsys можно использовать только один раз. Трактуется как \"добавить столько ':' сколько нужно."
   ]
  },
  {
   "cell_type": "markdown",
   "metadata": {},
   "source": [
    "В чем разница между x[:,0] и x[...,0] ?"
   ]
  },
  {
   "cell_type": "markdown",
   "metadata": {},
   "source": [
    "Двоеточие подразумевает одну размерность, троеточие любое количество."
   ]
  },
  {
   "cell_type": "markdown",
   "metadata": {},
   "source": [
    "Задача 14.\n",
    "Что будет выведено на экран (!!!!)"
   ]
  },
  {
   "cell_type": "code",
   "execution_count": 6,
   "metadata": {},
   "outputs": [
    {
     "name": "stdout",
     "output_type": "stream",
     "text": [
      "[[ 0  1  2  3]\n",
      " [ 4  5  6  7]\n",
      " [ 8  9 10 11]\n",
      " [12 13 14 15]]\n",
      "[[ 0  0  2  3]\n",
      " [ 0  0  6  7]\n",
      " [ 0  0 10 11]\n",
      " [ 0  0 14 15]]\n"
     ]
    }
   ],
   "source": [
    "x = np.arange(16).reshape(4,4)\n",
    "y = x[:,[2,3]]\n",
    "y[:] = 0\n",
    "print(x)\n",
    "y = x[:,:2]\n",
    "y[:] = 0\n",
    "print(x)"
   ]
  },
  {
   "cell_type": "markdown",
   "metadata": {},
   "source": [
    "Важная особенность nupmy в том, что при использовании листа или массива возвращается копия среза массива.\n",
    "Использование только среза или числа возвращает ссылки на первоначальный массив. Через такие массивы возможны операции с первоначальным массивом."
   ]
  },
  {
   "cell_type": "markdown",
   "metadata": {},
   "source": [
    "## Boolean array indexing"
   ]
  },
  {
   "cell_type": "markdown",
   "metadata": {},
   "source": [
    "Задача 15. Замените отрицательные элементы массива нулем."
   ]
  },
  {
   "cell_type": "code",
   "execution_count": null,
   "metadata": {},
   "outputs": [],
   "source": [
    "a = np.arange(-5, 5, 1)\n",
    "a[a<0] = 0\n",
    "a"
   ]
  },
  {
   "cell_type": "markdown",
   "metadata": {},
   "source": [
    "Задача 16.\n",
    "На примере целочисленного массива x = np.array([[1,2,3], [1,1,1], [2,2,1], [2,2,2]], dtype=int) составьте новый массив, не содержащий строки, полностью заполненные одним уникальным значением."
   ]
  },
  {
   "cell_type": "code",
   "execution_count": 48,
   "metadata": {},
   "outputs": [
    {
     "name": "stdout",
     "output_type": "stream",
     "text": [
      "33.1 µs ± 538 ns per loop (mean ± std. dev. of 7 runs, 10000 loops each)\n"
     ]
    }
   ],
   "source": [
    "%%timeit\n",
    "def foo(x):\n",
    "    mask = np.ones(x.shape,dtype=bool)\n",
    "    for i in range(x.shape[0]):\n",
    "        rows = x[i,:]\n",
    "        if len(np.unique(rows)) == 1:\n",
    "            mask[i,:] = False\n",
    "        else:\n",
    "            mask[i,:] = True\n",
    "    return mask\n",
    "\n",
    "\n",
    "x = np.array([[1,2,3], [1,1,1], [2,2,1], [2,2,2]], dtype=int)\n",
    "mask = foo(x)\n",
    "x = x[mask].reshape(-1,x.shape[1])\n",
    "x"
   ]
  },
  {
   "cell_type": "code",
   "execution_count": 47,
   "metadata": {},
   "outputs": [
    {
     "name": "stdout",
     "output_type": "stream",
     "text": [
      "15.3 µs ± 66.1 ns per loop (mean ± std. dev. of 7 runs, 100000 loops each)\n"
     ]
    }
   ],
   "source": [
    "%%timeit\n",
    "x = np.array([[1,2,3], [1,1,1], [2,2,1], [2,2,2]], dtype=int)\n",
    "mask = np.zeros(x.shape, dtype=bool)\n",
    "m = np.array([np.sum(x,axis=1)/x[:,0] != x.shape[1]],)\n",
    "mask.T[:] = m\n",
    "x = x[mask].reshape(-1, x.shape[1])"
   ]
  },
  {
   "cell_type": "code",
   "execution_count": 46,
   "metadata": {},
   "outputs": [
    {
     "name": "stdout",
     "output_type": "stream",
     "text": [
      "8.83 µs ± 115 ns per loop (mean ± std. dev. of 7 runs, 100000 loops each)\n"
     ]
    }
   ],
   "source": [
    "%%timeit\n",
    "x = np.array([[1,2,3], [1,1,1], [2,2,1], [2,2,2]], dtype=int)\n",
    "m = (x[:,0] != x[:,1]) | (x[:,1] != x[:,2])\n",
    "mask = np.zeros(x.shape, dtype=bool)\n",
    "mask.T[:] = m\n",
    "# x = x[mask].reshape(-1, x.shape[1])\n",
    "# print(x[mask])"
   ]
  },
  {
   "cell_type": "code",
   "execution_count": 45,
   "metadata": {},
   "outputs": [
    {
     "name": "stdout",
     "output_type": "stream",
     "text": [
      "11.5 µs ± 49.5 ns per loop (mean ± std. dev. of 7 runs, 100000 loops each)\n"
     ]
    }
   ],
   "source": [
    "%%timeit\n",
    "x = np.array([[1,2,3], [1,1,1], [2,2,1], [2,2,2]], dtype=int)\n",
    "mask = (x[:,[0]] != x[:,1:]).any(axis=1)\n",
    "x = x[mask]\n",
    "x"
   ]
  },
  {
   "cell_type": "markdown",
   "metadata": {},
   "source": [
    "Задача 17.\n",
    "Для заданного одномерного массива x выведите все элементы, не превышающие своих соседей (первый и последний элемент сравниваются только со вторым и предпоследним соответственно)."
   ]
  },
  {
   "cell_type": "code",
   "execution_count": null,
   "metadata": {},
   "outputs": [],
   "source": [
    "%%timeit\n",
    "\n",
    "def foo(arr):\n",
    "    mask = np.zeros(arr.shape,dtype=bool)\n",
    "    for i in range(len(arr)):\n",
    "        if i == 0:\n",
    "            if arr[i] <= arr[i+1]:\n",
    "                mask[i] = True\n",
    "        elif i == (len(arr) - 1):\n",
    "            if arr[i] <= arr[i-1]:\n",
    "                mask[i] = True\n",
    "        else:\n",
    "            if arr[i-1] >= arr[i] <= arr[i+1]:\n",
    "                mask[i] = True\n",
    "    return mask\n",
    "\n",
    "a = np.random.randint(0,5,10)\n",
    "# print(a)\n",
    "mask = foo(a)\n",
    "# print(mask)\n",
    "a = a[mask]\n",
    "a\n"
   ]
  },
  {
   "cell_type": "code",
   "execution_count": 68,
   "metadata": {},
   "outputs": [
    {
     "name": "stdout",
     "output_type": "stream",
     "text": [
      "26 µs ± 332 ns per loop (mean ± std. dev. of 7 runs, 10000 loops each)\n"
     ]
    }
   ],
   "source": [
    "%%timeit\n",
    "a = np.random.randint(0,5,10)\n",
    "# print(a)\n",
    "mask1 = [a[1:]<=a[:-1]]\n",
    "mask2 = [a[:-1]<=a[1:]]\n",
    "mask1 = np.append(True, mask1)\n",
    "mask2 = np.append(mask2, True)\n",
    "mask = mask1 * mask2\n",
    "a = a[mask]\n",
    "a"
   ]
  },
  {
   "cell_type": "code",
   "execution_count": 79,
   "metadata": {},
   "outputs": [
    {
     "name": "stdout",
     "output_type": "stream",
     "text": [
      "17.3 µs ± 853 ns per loop (mean ± std. dev. of 7 runs, 10000 loops each)\n"
     ]
    }
   ],
   "source": [
    "%%timeit\n",
    "a = np.random.randint(0,5,10)\n",
    "# print(a)\n",
    "mask = np.ones(10,dtype=bool)\n",
    "mask[1:] *= (a[1:] <= a[:-1])\n",
    "mask[:-1] *= (a[:-1] <= a[1:])\n",
    "a = a[mask]\n",
    "a"
   ]
  },
  {
   "cell_type": "markdown",
   "metadata": {},
   "source": [
    "## Integer array indexing"
   ]
  },
  {
   "cell_type": "markdown",
   "metadata": {},
   "source": [
    "Задача 18.\n",
    "1. Создайте двумерный массив 3x3, заполненный случайными числами от 0 до 9\n",
    "2. Отсортируйте строки массива по возрастанию значения во втором столбце"
   ]
  },
  {
   "cell_type": "code",
   "execution_count": null,
   "metadata": {},
   "outputs": [],
   "source": [
    "a = np.random.randint(0,9,9).reshape(3,3)\n",
    "print(a)\n",
    "a[:,1] = np.sort(a[:,1])\n",
    "a"
   ]
  },
  {
   "cell_type": "code",
   "execution_count": null,
   "metadata": {},
   "outputs": [],
   "source": [
    "a = np.random.randint(0,9,9).reshape(3,3)\n",
    "print(a, a[:,1], sep='\\n', end='\\n')\n",
    "index = np.argsort(a[:,1], axis=0)\n",
    "print(index)\n",
    "a = a[[index], :]\n",
    "a"
   ]
  },
  {
   "cell_type": "markdown",
   "metadata": {},
   "source": [
    "Задача 19.\n",
    "Поменяйте местами первую и вторую строки двумерного массива."
   ]
  },
  {
   "cell_type": "code",
   "execution_count": null,
   "metadata": {},
   "outputs": [],
   "source": [
    "a = np.random.randint(0,9,9).reshape(3,3)\n",
    "print(a)\n",
    "a = a[[1,0,2], :]\n",
    "a"
   ]
  },
  {
   "cell_type": "markdown",
   "metadata": {},
   "source": [
    "Задача 20\n",
    "1. Создайте массив 3x5, заполненный числами от 0 до 14\n",
    "2. Выберите 1, 3 строки и 2, 4 столбцы, не удаляя элементы из массива"
   ]
  },
  {
   "cell_type": "code",
   "execution_count": null,
   "metadata": {},
   "outputs": [],
   "source": [
    "a = np.arange(0,15,1).reshape(3,5)\n",
    "print(a)\n",
    "print(a[[0,2],:][:,[1,3]])\n",
    "print(a)"
   ]
  },
  {
   "cell_type": "markdown",
   "metadata": {},
   "source": [
    "Задача 21\n",
    "Что будет выведено на экран?\n"
   ]
  },
  {
   "cell_type": "code",
   "execution_count": null,
   "metadata": {},
   "outputs": [],
   "source": [
    "x = np.arange(5)\n",
    "print(x[[0,0,1]])\n",
    "# x[[0,0,1]] = range(3)\n",
    "# print(x)\n",
    "# x[[1,2,1]] += 1 # x[[1,2,1]] = x[[1,2,1]] + 1\n",
    "print(x)"
   ]
  },
  {
   "cell_type": "code",
   "execution_count": null,
   "metadata": {},
   "outputs": [],
   "source": [
    "x[[1,2,1]] + 1"
   ]
  },
  {
   "cell_type": "markdown",
   "metadata": {},
   "source": [
    "## Functions and Methods Overview"
   ]
  },
  {
   "cell_type": "markdown",
   "metadata": {},
   "source": [
    "Задача 22.\n",
    "Перечислите все известные вам способы преобразования заданного n-мерного массива в одномерный. Какой из способов работает быстрее и почему?"
   ]
  },
  {
   "cell_type": "code",
   "execution_count": null,
   "metadata": {},
   "outputs": [],
   "source": [
    "a = np.arange(0,1600,1).reshape(40, 40)"
   ]
  },
  {
   "cell_type": "code",
   "execution_count": null,
   "metadata": {},
   "outputs": [],
   "source": [
    "%%timeit\n",
    "a.flatten()"
   ]
  },
  {
   "cell_type": "code",
   "execution_count": null,
   "metadata": {},
   "outputs": [],
   "source": [
    "%%timeit\n",
    "a.ravel()"
   ]
  },
  {
   "cell_type": "code",
   "execution_count": null,
   "metadata": {},
   "outputs": [],
   "source": [
    "%%timeit\n",
    "a.reshape(-1,)"
   ]
  },
  {
   "cell_type": "code",
   "execution_count": null,
   "metadata": {},
   "outputs": [],
   "source": [
    "import timeit\n",
    "a = np.arange(0,1500,1).reshape(30,50)\n",
    "timeit.timeit(lambda: a.resize((a.shape[0]*a.shape[1],)),number=1)\n",
    "# print(a)"
   ]
  },
  {
   "cell_type": "markdown",
   "metadata": {},
   "source": [
    "Задача 23.\n",
    "1. Создайте массив, заполненный случайными значениями\n",
    "2. Замените максимальные значения массива средним\n"
   ]
  },
  {
   "cell_type": "code",
   "execution_count": null,
   "metadata": {},
   "outputs": [],
   "source": [
    "a = np.random.randint(0,5,10)\n",
    "a = a.astype(np.float32)\n",
    "print(a)\n",
    "max_ind = np.argwhere(a == np.max(a))\n",
    "print(np.mean(a))\n",
    "a[max_ind] = np.mean(a)\n",
    "a"
   ]
  },
  {
   "cell_type": "markdown",
   "metadata": {},
   "source": [
    "Задача 24.\n",
    "1. Создайте двумерный массив 6x6, заполненный случайными значениями\n",
    "2. Сумму по каждой строке поделите на минимальный элемент из столбца с тем же индексом"
   ]
  },
  {
   "cell_type": "code",
   "execution_count": 80,
   "metadata": {},
   "outputs": [
    {
     "name": "stdout",
     "output_type": "stream",
     "text": [
      "[[2 5 5 5 5 5]\n",
      " [4 5 2 3 5 4]\n",
      " [5 2 2 5 5 2]\n",
      " [2 2 3 2 5 3]\n",
      " [3 3 4 4 3 5]\n",
      " [4 4 4 3 5 5]]\n",
      "[27 23 21 17 22 25]\n",
      "[2 2 2 2 3 2]\n"
     ]
    },
    {
     "data": {
      "text/plain": [
       "array([13.5       , 11.5       , 10.5       ,  8.5       ,  7.33333333,\n",
       "       12.5       ])"
      ]
     },
     "execution_count": 80,
     "metadata": {},
     "output_type": "execute_result"
    }
   ],
   "source": [
    "a = np.random.randint(2,6,size=(6,6))\n",
    "print(a)\n",
    "sum = np.sum(a, axis=1)\n",
    "print(sum)\n",
    "min_col = np.min(a, axis=0)\n",
    "print(min_col)\n",
    "answer = sum / min_col\n",
    "answer"
   ]
  },
  {
   "cell_type": "markdown",
   "metadata": {},
   "source": [
    "Задача 25.\n",
    "1. Создайте одномерный массив длины 10, заполненный случайными значениями\n",
    "2. Линейно отобразите элементы массива в отрезок [0, 1], при этом минимальный элемент должен отобразиться в 0, а максимальный - в 1"
   ]
  },
  {
   "cell_type": "code",
   "execution_count": 81,
   "metadata": {},
   "outputs": [
    {
     "data": {
      "text/plain": [
       "array([0.        , 0.73319714, 0.71607321, 0.21066266, 0.78464417,\n",
       "       0.71659463, 0.43438248, 0.56620262, 0.52478215, 1.        ])"
      ]
     },
     "execution_count": 81,
     "metadata": {},
     "output_type": "execute_result"
    }
   ],
   "source": [
    "a = np.random.uniform(1,8,10)\n",
    "a = (a - a.min()) / (a.max()-a.min())\n",
    "a"
   ]
  },
  {
   "cell_type": "markdown",
   "metadata": {},
   "source": [
    "Задача 26.\n",
    "Замените все вхождения nan в двумерный массив средним значением по соответствующему столбцу"
   ]
  },
  {
   "cell_type": "code",
   "execution_count": 88,
   "metadata": {},
   "outputs": [
    {
     "name": "stdout",
     "output_type": "stream",
     "text": [
      "[[       nan        nan        nan        nan]\n",
      " [0.91439397 0.19076393 0.43063015 0.86955866]\n",
      " [       nan        nan        nan        nan]\n",
      " [0.77808264 0.01462579 0.15081033 0.34785065]\n",
      " [       nan        nan        nan        nan]\n",
      " [0.20291167 0.2004062  0.66808397 0.77515709]]\n"
     ]
    },
    {
     "data": {
      "text/plain": [
       "array([[0.63179609, 0.13526531, 0.41650815, 0.6641888 ],\n",
       "       [0.91439397, 0.19076393, 0.43063015, 0.86955866],\n",
       "       [0.63179609, 0.13526531, 0.41650815, 0.6641888 ],\n",
       "       [0.77808264, 0.01462579, 0.15081033, 0.34785065],\n",
       "       [0.63179609, 0.13526531, 0.41650815, 0.6641888 ],\n",
       "       [0.20291167, 0.2004062 , 0.66808397, 0.77515709]])"
      ]
     },
     "execution_count": 88,
     "metadata": {},
     "output_type": "execute_result"
    }
   ],
   "source": [
    "a = np.random.uniform(size=(6,4))\n",
    "a[::2, 0::1] = np.nan\n",
    "print(a)\n",
    "mean = np.nanmean(a, axis=0)\n",
    "# print(mean)\n",
    "cell = np.argwhere([np.isnan(a) == True])\n",
    "# print(cell[:])\n",
    "nan_value = mean[cell[:,2]]\n",
    "# print(nan_value)\n",
    "a[np.isnan(a) == True] = nan_value\n",
    "a\n",
    "# a[mask_nan].reshape(-1,a.shape[1]) = mean\n",
    "# a"
   ]
  },
  {
   "cell_type": "markdown",
   "metadata": {},
   "source": [
    "Задача 27.\n",
    "Проверьте, есть ли в двумерном массиве столбец, полностью заполненый нулями."
   ]
  },
  {
   "cell_type": "code",
   "execution_count": 96,
   "metadata": {},
   "outputs": [
    {
     "name": "stdout",
     "output_type": "stream",
     "text": [
      "[[0 1 1 0 0 1]\n",
      " [1 1 1 0 0 0]\n",
      " [1 0 0 0 1 0]]\n"
     ]
    },
    {
     "data": {
      "text/plain": [
       "True"
      ]
     },
     "execution_count": 96,
     "metadata": {},
     "output_type": "execute_result"
    }
   ],
   "source": [
    "a = np.random.randint(0,2,size=(3,6))\n",
    "print(a)\n",
    "mask = (a==0)\n",
    "# print(mask)\n",
    "pos = mask.all(axis=0).any()\n",
    "pos"
   ]
  },
  {
   "cell_type": "code",
   "execution_count": 94,
   "metadata": {},
   "outputs": [],
   "source": [
    "#apply_along_axis "
   ]
  },
  {
   "cell_type": "markdown",
   "metadata": {},
   "source": [
    "Задача 28.\n",
    "1. Создайте массив случайных чисел от 0 до 9 размером 3x4x3x4\n",
    "2. Вычислите суммы элементов по двум последним осям"
   ]
  },
  {
   "cell_type": "code",
   "execution_count": 100,
   "metadata": {
    "collapsed": true,
    "jupyter": {
     "outputs_hidden": true
    }
   },
   "outputs": [
    {
     "name": "stdout",
     "output_type": "stream",
     "text": [
      "[[[19 14 18  4]\n",
      "  [10 14 19  8]\n",
      "  [11  6 12 16]\n",
      "  [ 7 13 12 11]]\n",
      "\n",
      " [[17 17 10 21]\n",
      "  [ 2  3 17 12]\n",
      "  [15 19 16 10]\n",
      "  [14 15 16 16]]\n",
      "\n",
      " [[ 9 11 14 13]\n",
      "  [10  6 17 22]\n",
      "  [10  7 24 15]\n",
      "  [17 20 11 17]]]\n",
      "[[[12 25 18]\n",
      "  [10 19 22]\n",
      "  [19 18  8]\n",
      "  [16 15 12]]\n",
      "\n",
      " [[23 17 25]\n",
      "  [20 11  3]\n",
      "  [18 20 22]\n",
      "  [26 16 19]]\n",
      "\n",
      " [[19 14 14]\n",
      "  [25 16 14]\n",
      "  [15 24 17]\n",
      "  [22 10 33]]]\n"
     ]
    }
   ],
   "source": [
    "a = np.random.randint(0,10,size=(3,4,3,4))\n",
    "# print(np.sum(a, axis=(-2,-1))) # одна трактовка\n",
    "print(np.sum(a, axis=-2)) #другая трактовка (сумма по одной и по другой оси)\n",
    "print(np.sum(a, axis=-1))"
   ]
  },
  {
   "cell_type": "markdown",
   "metadata": {},
   "source": [
    "Задача 29.\n",
    "1. Любым способом создайте два массива одинаковой длины\n",
    "2. Создайте массив, в котором на четных позициях будут стоять элементы с соответствующих позиций первого массива, а на нечетных - с соответствующих позиций второго"
   ]
  },
  {
   "cell_type": "code",
   "execution_count": 153,
   "metadata": {},
   "outputs": [
    {
     "name": "stdout",
     "output_type": "stream",
     "text": [
      "17.4 µs ± 75.6 ns per loop (mean ± std. dev. of 7 runs, 10000 loops each)\n"
     ]
    }
   ],
   "source": [
    "%%timeit\n",
    "a = np.random.randint(0,10,100)\n",
    "b = np.random.uniform(0,2,100)\n",
    "c = np.zeros(200)\n",
    "c[::2] = a\n",
    "c[1::2] = b\n",
    "c"
   ]
  },
  {
   "cell_type": "code",
   "execution_count": 154,
   "metadata": {},
   "outputs": [
    {
     "name": "stdout",
     "output_type": "stream",
     "text": [
      "32.8 µs ± 167 ns per loop (mean ± std. dev. of 7 runs, 10000 loops each)\n"
     ]
    }
   ],
   "source": [
    "%%timeit\n",
    "a = np.random.randint(0,10,100)\n",
    "# print(a)\n",
    "b = np.random.uniform(0,2,100)\n",
    "# print(b)\n",
    "c = np.tile([0,1.],100)\n",
    "# print(c)\n",
    "# c = np.stack([a,b], axis=1)\n",
    "np.place(c, c==0, a)\n",
    "# print(c)\n",
    "np.place(c, c==1, b)\n",
    "# print(c)\n",
    "c"
   ]
  },
  {
   "cell_type": "code",
   "execution_count": 157,
   "metadata": {},
   "outputs": [
    {
     "name": "stdout",
     "output_type": "stream",
     "text": [
      "20.9 µs ± 61.2 ns per loop (mean ± std. dev. of 7 runs, 10000 loops each)\n"
     ]
    }
   ],
   "source": [
    "%%timeit\n",
    "a = np.random.randint(0,10,100)\n",
    "# print(a)\n",
    "b = np.random.uniform(0,2,100)\n",
    "# print(b)\n",
    "c = np.vstack([a,b])\n",
    "c = c.T.flatten()\n",
    "c"
   ]
  },
  {
   "cell_type": "code",
   "execution_count": 156,
   "metadata": {},
   "outputs": [
    {
     "name": "stdout",
     "output_type": "stream",
     "text": [
      "20.8 µs ± 94.1 ns per loop (mean ± std. dev. of 7 runs, 10000 loops each)\n"
     ]
    }
   ],
   "source": [
    "%%timeit\n",
    "a = np.random.randint(0,10,100)\n",
    "# print(a)\n",
    "b = np.random.uniform(0,2,100)\n",
    "# print(b)\n",
    "c = np.vstack([a,b])\n",
    "c = c.T.ravel()\n",
    "c"
   ]
  },
  {
   "cell_type": "markdown",
   "metadata": {},
   "source": [
    "Задача 30.\n",
    "На примере массива x = np.array([[1., 2.], [np.nan, 3.], [5., 5.], [np.nan, np.nan]]) вычислите долю пропущенных значений."
   ]
  },
  {
   "cell_type": "code",
   "execution_count": 105,
   "metadata": {},
   "outputs": [
    {
     "data": {
      "text/plain": [
       "0.375"
      ]
     },
     "execution_count": 105,
     "metadata": {},
     "output_type": "execute_result"
    }
   ],
   "source": [
    "x = np.array([[1., 2.], [np.nan, 3.], [5., 5.], [np.nan, np.nan]])\n",
    "answer = np.isnan(x).sum() / (x.shape[0] * x.shape[1])\n",
    "answer"
   ]
  },
  {
   "cell_type": "markdown",
   "metadata": {},
   "source": [
    "Задача 31.\n",
    "На примере массива x = np.array([[1., 2.], [np.nan, 3.], [5., 5.], [np.nan, np.nan]]) составьте массив из уникальных значений массива без учета nan"
   ]
  },
  {
   "cell_type": "code",
   "execution_count": 112,
   "metadata": {},
   "outputs": [
    {
     "data": {
      "text/plain": [
       "array([1., 2., 3., 5.])"
      ]
     },
     "execution_count": 112,
     "metadata": {},
     "output_type": "execute_result"
    }
   ],
   "source": [
    "x = np.array([[1., 2.], [np.nan, 3.], [5., 5.], [np.nan, np.nan]])\n",
    "uniq = np.unique(x[~np.isnan(x)])\n",
    "uniq"
   ]
  },
  {
   "cell_type": "markdown",
   "metadata": {},
   "source": [
    "Задача 32.\n",
    "На примере массива x = np.array([6, 2, 0, 3, 0, 0, 5, 7, 0]) найдите максимальный элемент в массиве среди элементов, перед которыми стоит нулевой"
   ]
  },
  {
   "cell_type": "code",
   "execution_count": 173,
   "metadata": {},
   "outputs": [
    {
     "data": {
      "text/plain": [
       "5"
      ]
     },
     "execution_count": 173,
     "metadata": {},
     "output_type": "execute_result"
    }
   ],
   "source": [
    "x = np.array([6, 2, 0, 3, 0, 0, 5, 7, 0])\n",
    "i, = np.where(x==0)\n",
    "i = i + 1\n",
    "maximum = np.choose(i, x, mode='clip').max()\n",
    "maximum"
   ]
  },
  {
   "cell_type": "code",
   "execution_count": 166,
   "metadata": {},
   "outputs": [
    {
     "data": {
      "text/plain": [
       "array([2, 0, 3, 0, 0, 5, 7, 0, 0])"
      ]
     },
     "execution_count": 166,
     "metadata": {},
     "output_type": "execute_result"
    }
   ],
   "source": [
    "np.append(x[1:],0)"
   ]
  },
  {
   "cell_type": "markdown",
   "metadata": {},
   "source": [
    "Задача 33.\n",
    "Пусть заданы два массива одинакового размера. Поэлементно разделите один массив на другой. В случае, если делитель равен нулю, соответствующему элементу результирующего массива присвойте нуль."
   ]
  },
  {
   "cell_type": "code",
   "execution_count": 188,
   "metadata": {},
   "outputs": [
    {
     "name": "stdout",
     "output_type": "stream",
     "text": [
      "[1 3 4 0 0 2 2 1 0 2] [2 2 1 0 0 0 1 0 1 2]\n"
     ]
    },
    {
     "data": {
      "text/plain": [
       "array([0.5, 1.5, 4. , 0. , 0. , 0. , 2. , 0. , 0. , 1. ])"
      ]
     },
     "execution_count": 188,
     "metadata": {},
     "output_type": "execute_result"
    }
   ],
   "source": [
    "a = np.random.randint(0,5,10)\n",
    "b = np.random.randint(0,3,10)\n",
    "print(a,b)\n",
    "non_zero, = np.nonzero(b)\n",
    "c = np.zeros(10)\n",
    "c[non_zero] = a[non_zero] / b[non_zero]\n",
    "c"
   ]
  },
  {
   "cell_type": "markdown",
   "metadata": {},
   "source": [
    "Задача 34.\n",
    "Пусть заданы два массива x = np.ones(10) и i = np.array([0, 1, 2, 3, 5, 5, 5, 8]). Прибавьте единицу к тем элементам массива x, индексы которых указаны в массиве i. \n",
    "В случае, если некоторый индекс встретился в массиве i несколько раз, прибавьте к соответствующему элементу массива x число вхождений данного индекса в массив i."
   ]
  },
  {
   "cell_type": "code",
   "execution_count": 189,
   "metadata": {},
   "outputs": [
    {
     "data": {
      "text/plain": [
       "array([2., 2., 2., 2., 1., 4., 1., 1., 2., 2.])"
      ]
     },
     "execution_count": 189,
     "metadata": {},
     "output_type": "execute_result"
    }
   ],
   "source": [
    "x = np.ones(10)\n",
    "i = np.array([0,1,2,3,5,5,5,8])\n",
    "x += np.resize(np.bincount(i), x.shape)\n",
    "x"
   ]
  },
  {
   "cell_type": "markdown",
   "metadata": {},
   "source": [
    "Задача 35.\n",
    "По заданному массиву y = np.bincount([0, 0, 3, 8, 10, 10, 11]) постройте массив x такой, чтобы np.bincount(x) = y"
   ]
  },
  {
   "cell_type": "code",
   "execution_count": 151,
   "metadata": {},
   "outputs": [
    {
     "name": "stdout",
     "output_type": "stream",
     "text": [
      "29 µs ± 1.49 µs per loop (mean ± std. dev. of 7 runs, 10000 loops each)\n"
     ]
    }
   ],
   "source": [
    "%%timeit\n",
    "# с точностью до перестановки\n",
    "def rebincount(arr):\n",
    "    # arr = arr.astype('uint')\n",
    "    result = np.array([],dtype=int)\n",
    "    for i in range(arr.max()):\n",
    "        result = np.append(result, np.nonzero(arr))\n",
    "        arr[np.nonzero(arr)] = arr[np.nonzero(arr)] - 1\n",
    "    return result\n",
    "\n",
    "y = np.bincount([0, 0, 3, 8, 10, 10, 11])\n",
    "answer = rebincount(y)\n",
    "answer"
   ]
  },
  {
   "cell_type": "code",
   "execution_count": 149,
   "metadata": {},
   "outputs": [
    {
     "name": "stdout",
     "output_type": "stream",
     "text": [
      "23.5 µs ± 68.3 ns per loop (mean ± std. dev. of 7 runs, 10000 loops each)\n"
     ]
    }
   ],
   "source": [
    "%%timeit\n",
    "def rebincount(arr):\n",
    "    # arr = arr.astype('uint')\n",
    "    result = np.array([],dtype=int)\n",
    "    for i in range(arr.max()):\n",
    "        indices = np.nonzero(arr)\n",
    "        result = np.append(result, indices)\n",
    "        arr[indices] = arr[indices] - 1\n",
    "    return result\n",
    "\n",
    "y = np.bincount([0, 0, 3, 8, 10, 10, 11])\n",
    "answer = rebincount(y)\n",
    "answer"
   ]
  },
  {
   "cell_type": "markdown",
   "metadata": {},
   "source": [
    "Интересно, что результат np.nonzero(arr) не хранится в буфере и перевычисляется."
   ]
  },
  {
   "cell_type": "code",
   "execution_count": 155,
   "metadata": {},
   "outputs": [
    {
     "name": "stdout",
     "output_type": "stream",
     "text": [
      "4.02 µs ± 163 ns per loop (mean ± std. dev. of 7 runs, 100000 loops each)\n"
     ]
    }
   ],
   "source": [
    "%%timeit\n",
    "y = np.bincount([0, 0, 3, 8, 10, 10, 11])\n",
    "x = np.repeat(np.arange(y.size),y)\n",
    "x"
   ]
  },
  {
   "cell_type": "markdown",
   "metadata": {},
   "source": [
    "Задача 36.\n",
    "Определите самые часто встречающиеся элементы в массиве целых неотрицательных чисел.\n",
    "Решите задачу на примере массива x = np.array([0,1,2,0,6,6,7,4,5,4])."
   ]
  },
  {
   "cell_type": "code",
   "execution_count": 162,
   "metadata": {},
   "outputs": [
    {
     "name": "stdout",
     "output_type": "stream",
     "text": [
      "4.71 µs ± 176 ns per loop (mean ± std. dev. of 7 runs, 100000 loops each)\n"
     ]
    }
   ],
   "source": [
    "%%timeit\n",
    "x = np.array([0,1,2,0,6,6,7,4,5,4])\n",
    "i = np.bincount(x)\n",
    "m = np.bincount(i)\n",
    "answer, = np.where(i == len(m)-1)\n",
    "answer"
   ]
  },
  {
   "cell_type": "code",
   "execution_count": 163,
   "metadata": {},
   "outputs": [
    {
     "name": "stdout",
     "output_type": "stream",
     "text": [
      "6.83 µs ± 149 ns per loop (mean ± std. dev. of 7 runs, 100000 loops each)\n"
     ]
    }
   ],
   "source": [
    "%%timeit\n",
    "x = np.array([0,1,2,0,6,6,7,4,5,4])\n",
    "i = np.bincount(x)\n",
    "answer, = np.where(i == i.max())\n",
    "answer"
   ]
  },
  {
   "cell_type": "markdown",
   "metadata": {},
   "source": [
    "Задача 37.\n",
    "Разбейте двумерный массив на список двумерных массивов по уникальным значениям в первом столбце.\n",
    "Решите задачу на примере массива x = np.array([[1, 2], [1, 3], [2, 2], [3, 4], [3, 5]]), \n",
    "в результате должен получиться список [array([[1, 2], [1, 3]]), array([[2, 2]]), array([[3, 4], [3, 5]])]."
   ]
  },
  {
   "cell_type": "code",
   "execution_count": 68,
   "metadata": {},
   "outputs": [
    {
     "name": "stdout",
     "output_type": "stream",
     "text": [
      "49.9 µs ± 58.8 ns per loop (mean ± std. dev. of 7 runs, 10000 loops each)\n"
     ]
    }
   ],
   "source": [
    "%%timeit\n",
    "def split_arr(arr):\n",
    "    m = np.unique(arr[:,0])\n",
    "    arr_list = []\n",
    "    for i in m:\n",
    "        arr_list.append(np.squeeze(arr[np.argwhere(arr[:,0] == i)]))\n",
    "    return arr_list\n",
    "\n",
    "x = np.array([[1, 2], [1, 3], [2, 2], [3, 4], [3, 5]])\n",
    "\n",
    "split_arr(x)"
   ]
  },
  {
   "cell_type": "code",
   "execution_count": 69,
   "metadata": {},
   "outputs": [
    {
     "name": "stdout",
     "output_type": "stream",
     "text": [
      "38.1 µs ± 146 ns per loop (mean ± std. dev. of 7 runs, 10000 loops each)\n"
     ]
    }
   ],
   "source": [
    "%%timeit\n",
    "x = np.array([[1, 2], [1, 3], [2, 2], [3, 4], [3, 5]])\n",
    "bincount = np.bincount(x[:,0])\n",
    "indices = np.zeros(len(bincount),dtype=int)\n",
    "for i in range(len(bincount)):\n",
    "    indices[i] = bincount[:i].sum()\n",
    "indices = np.trim_zeros(indices)\n",
    "arr_split = np.split(x, indices, axis=0)\n",
    "arr_split"
   ]
  },
  {
   "cell_type": "code",
   "execution_count": 164,
   "metadata": {},
   "outputs": [
    {
     "data": {
      "text/plain": [
       "[array([[1, 2],\n",
       "        [1, 3]]),\n",
       " array([[2, 2]]),\n",
       " array([[3, 4],\n",
       "        [3, 5]])]"
      ]
     },
     "execution_count": 164,
     "metadata": {},
     "output_type": "execute_result"
    }
   ],
   "source": [
    "# %%timeit\n",
    "x = np.array([[1, 2], [1, 3], [2, 2], [3, 4], [3, 5]])\n",
    "bincount = np.bincount(x[:,0])\n",
    "bincount = bincount[bincount.nonzero()].cumsum()\n",
    "arr_split = np.split(x, bincount[:-1], axis=0)\n",
    "arr_split"
   ]
  },
  {
   "cell_type": "markdown",
   "metadata": {},
   "source": [
    "Notes:\n",
    "\n",
    "indices[indices.nonzero()] работает сильно быстрее чем np.trim_zeros(indices)"
   ]
  },
  {
   "cell_type": "markdown",
   "metadata": {},
   "source": [
    "Задача 38.\n",
    "По заданному одномерному массиву неотрицательных чисел постройте список подмассивов, \n",
    "содержащих элементы из полуинтервалов [i * 10, (i+1) * 10), i = 0, 1, 2, … ]\n",
    "Решите задачу на примере массива x = np.array([8, 2, 34, 0, 11, 18, 13, 2, 24, 10, 20]), \n",
    "в результате должен получиться список [array([0, 2, 2, 8]), array([10, 11, 13, 18]), array([20, 24]), array([34])]."
   ]
  },
  {
   "cell_type": "code",
   "execution_count": 72,
   "metadata": {},
   "outputs": [
    {
     "name": "stdout",
     "output_type": "stream",
     "text": [
      "23.9 µs ± 209 ns per loop (mean ± std. dev. of 7 runs, 10000 loops each)\n"
     ]
    }
   ],
   "source": [
    "%%timeit\n",
    "def split_arr(arr,indices):\n",
    "    list_arr = []\n",
    "    for i in range(indices.max()+1):\n",
    "        list_arr.append(np.sort(arr[np.where(indices == i)]))\n",
    "    return list_arr\n",
    "\n",
    "x = np.array([8, 2, 34, 0, 11, 18, 13, 2, 24, 10, 20])\n",
    "y = x // 10\n",
    "split_arr(x,y)"
   ]
  },
  {
   "cell_type": "code",
   "execution_count": 114,
   "metadata": {},
   "outputs": [
    {
     "name": "stdout",
     "output_type": "stream",
     "text": [
      "19 µs ± 1.66 µs per loop (mean ± std. dev. of 7 runs, 10000 loops each)\n"
     ]
    }
   ],
   "source": [
    "%%timeit\n",
    "x = np.array([8, 2, 34, 0, 11, 18, 13, 2, 24, 10, 20])\n",
    "y = x // 10\n",
    "bincount = np.bincount(y)\n",
    "indices = bincount.cumsum()\n",
    "answer = np.split(np.sort(x), indices[:-1])\n",
    "answer"
   ]
  },
  {
   "cell_type": "markdown",
   "metadata": {},
   "source": [
    "## Vector Stacking"
   ]
  },
  {
   "cell_type": "markdown",
   "metadata": {},
   "source": [
    "Задача 39.\n",
    "Перечислите все известные вам способы соединения заданных двумерных массивов по вертикали. Какой из способов работает быстрее?"
   ]
  },
  {
   "cell_type": "code",
   "execution_count": 130,
   "metadata": {},
   "outputs": [],
   "source": [
    "arrays = [np.eye(3)*(i+1) for i in range(400)]"
   ]
  },
  {
   "cell_type": "code",
   "execution_count": 122,
   "metadata": {},
   "outputs": [
    {
     "data": {
      "text/plain": [
       "[array([[1., 0., 0.],\n",
       "        [0., 1., 0.],\n",
       "        [0., 0., 1.]]),\n",
       " array([[2., 0., 0.],\n",
       "        [0., 2., 0.],\n",
       "        [0., 0., 2.]]),\n",
       " array([[3., 0., 0.],\n",
       "        [0., 3., 0.],\n",
       "        [0., 0., 3.]]),\n",
       " array([[4., 0., 0.],\n",
       "        [0., 4., 0.],\n",
       "        [0., 0., 4.]])]"
      ]
     },
     "execution_count": 122,
     "metadata": {},
     "output_type": "execute_result"
    }
   ],
   "source": [
    "arrays"
   ]
  },
  {
   "cell_type": "code",
   "execution_count": 131,
   "metadata": {},
   "outputs": [
    {
     "name": "stdout",
     "output_type": "stream",
     "text": [
      "237 µs ± 500 ns per loop (mean ± std. dev. of 7 runs, 1000 loops each)\n"
     ]
    }
   ],
   "source": [
    "%%timeit\n",
    "np.hstack(arrays)"
   ]
  },
  {
   "cell_type": "markdown",
   "metadata": {},
   "source": [
    "преображает массивы в 2d и concatenate их"
   ]
  },
  {
   "cell_type": "code",
   "execution_count": 132,
   "metadata": {},
   "outputs": [
    {
     "name": "stdout",
     "output_type": "stream",
     "text": [
      "826 µs ± 27.2 µs per loop (mean ± std. dev. of 7 runs, 1000 loops each)\n"
     ]
    }
   ],
   "source": [
    "%%timeit\n",
    "np.block(arrays)"
   ]
  },
  {
   "cell_type": "code",
   "execution_count": 133,
   "metadata": {},
   "outputs": [
    {
     "name": "stdout",
     "output_type": "stream",
     "text": [
      "69.2 µs ± 73.3 ns per loop (mean ± std. dev. of 7 runs, 10000 loops each)\n"
     ]
    }
   ],
   "source": [
    "%%timeit\n",
    "np.concatenate(arrays,axis=1)"
   ]
  },
  {
   "cell_type": "markdown",
   "metadata": {},
   "source": [
    "concatenate возвращает masked array, в котором масками задается отображением массивов, которые мы хотим сцепить.\n",
    "\n",
    "stack создает новую ось и конкатеринует вдоль неё"
   ]
  },
  {
   "cell_type": "code",
   "execution_count": 175,
   "metadata": {},
   "outputs": [
    {
     "data": {
      "text/plain": [
       "array([[1., 0., 0.],\n",
       "       [0., 1., 0.],\n",
       "       [0., 0., 1.],\n",
       "       [2., 0., 0.],\n",
       "       [0., 2., 0.],\n",
       "       [0., 0., 2.]])"
      ]
     },
     "execution_count": 175,
     "metadata": {},
     "output_type": "execute_result"
    }
   ],
   "source": [
    "np.append(arrays[0], arrays[1],axis=0)"
   ]
  },
  {
   "cell_type": "code",
   "execution_count": null,
   "metadata": {},
   "outputs": [],
   "source": [
    "np.append работает медленее всех."
   ]
  },
  {
   "cell_type": "markdown",
   "metadata": {},
   "source": [
    "Задача 40.\n",
    "\n",
    "Для двух одномерных массивов x = np.arange(3) и y = np.arange(5) постройте двумерный массив строки которого - всевозможные пары элементов из x и y."
   ]
  },
  {
   "cell_type": "code",
   "execution_count": 57,
   "metadata": {},
   "outputs": [
    {
     "data": {
      "text/plain": [
       "array([[0, 0],\n",
       "       [0, 1],\n",
       "       [0, 2],\n",
       "       [0, 3],\n",
       "       [0, 4],\n",
       "       [1, 0],\n",
       "       [1, 1],\n",
       "       [1, 2],\n",
       "       [1, 3],\n",
       "       [1, 4],\n",
       "       [2, 0],\n",
       "       [2, 1],\n",
       "       [2, 2],\n",
       "       [2, 3],\n",
       "       [2, 4]])"
      ]
     },
     "execution_count": 57,
     "metadata": {},
     "output_type": "execute_result"
    }
   ],
   "source": [
    "x = np.arange(3)\n",
    "y = np.arange(5)\n",
    "z = np.dstack((np.repeat(x, len(y)), np.tile(y, len(x)))).squeeze()\n",
    "z"
   ]
  },
  {
   "cell_type": "code",
   "execution_count": 72,
   "metadata": {},
   "outputs": [
    {
     "ename": "ValueError",
     "evalue": "shape mismatch: objects cannot be broadcast to a single shape",
     "output_type": "error",
     "traceback": [
      "\u001b[0;31m---------------------------------------------------------------------------\u001b[0m",
      "\u001b[0;31mValueError\u001b[0m                                Traceback (most recent call last)",
      "\u001b[0;32m<ipython-input-72-f7dd80d822e2>\u001b[0m in \u001b[0;36m<module>\u001b[0;34m\u001b[0m\n\u001b[1;32m      1\u001b[0m \u001b[0mx\u001b[0m \u001b[0;34m=\u001b[0m \u001b[0mnp\u001b[0m\u001b[0;34m.\u001b[0m\u001b[0marange\u001b[0m\u001b[0;34m(\u001b[0m\u001b[0;36m3\u001b[0m\u001b[0;34m)\u001b[0m\u001b[0;34m\u001b[0m\u001b[0;34m\u001b[0m\u001b[0m\n\u001b[1;32m      2\u001b[0m \u001b[0my\u001b[0m \u001b[0;34m=\u001b[0m \u001b[0mnp\u001b[0m\u001b[0;34m.\u001b[0m\u001b[0marange\u001b[0m\u001b[0;34m(\u001b[0m\u001b[0;36m5\u001b[0m\u001b[0;34m)\u001b[0m\u001b[0;34m\u001b[0m\u001b[0;34m\u001b[0m\u001b[0m\n\u001b[0;32m----> 3\u001b[0;31m \u001b[0mz\u001b[0m \u001b[0;34m=\u001b[0m \u001b[0mnp\u001b[0m\u001b[0;34m.\u001b[0m\u001b[0mbroadcast\u001b[0m\u001b[0;34m(\u001b[0m\u001b[0mx\u001b[0m\u001b[0;34m,\u001b[0m\u001b[0my\u001b[0m\u001b[0;34m)\u001b[0m\u001b[0;34m\u001b[0m\u001b[0;34m\u001b[0m\u001b[0m\n\u001b[0m\u001b[1;32m      4\u001b[0m \u001b[0mz\u001b[0m\u001b[0;34m\u001b[0m\u001b[0;34m\u001b[0m\u001b[0m\n",
      "\u001b[0;31mValueError\u001b[0m: shape mismatch: objects cannot be broadcast to a single shape"
     ]
    }
   ],
   "source": [
    "x = np.arange(3)\n",
    "y = np.arange(5)\n",
    "z = np.broadcast(x,y)\n",
    "z"
   ]
  },
  {
   "cell_type": "markdown",
   "metadata": {},
   "source": [
    "Задача 41.\n",
    "\n",
    "По двум входным одномерным массивам одинаковой длины составьте массив пар элементов с одинаковыми индексами.\n",
    "Решите задачу на примере массивов x = np.array([1,2,3,4]) и y = np.array([5,6,7,8])."
   ]
  },
  {
   "cell_type": "code",
   "execution_count": 60,
   "metadata": {},
   "outputs": [
    {
     "data": {
      "text/plain": [
       "array([[[1, 5],\n",
       "        [2, 6],\n",
       "        [3, 7],\n",
       "        [4, 8]]])"
      ]
     },
     "execution_count": 60,
     "metadata": {},
     "output_type": "execute_result"
    }
   ],
   "source": [
    "x = np.array([1,2,3,4])\n",
    "y = np.array([5,6,7,8])\n",
    "z = np.dstack((x,y))\n",
    "z"
   ]
  },
  {
   "cell_type": "markdown",
   "metadata": {},
   "source": [
    "Задача 42.\n",
    "\n",
    "По заданному непустому списку двумерных массивов одинаковых размеров составьте трехмерный массив в котором вдоль нулевой оси расположены массивы из списка, между каждой парой которых вставлен массив полностью заполненный нулями.\n",
    "Решите задачу для списка l = [np.array([[1, 2], [3, 4]]), np.array([[5, 6], [7, 8]]), np.array([[9, 10], [11, 12]])]."
   ]
  },
  {
   "cell_type": "code",
   "execution_count": 85,
   "metadata": {},
   "outputs": [
    {
     "data": {
      "text/plain": [
       "array([[[ 1.,  2.],\n",
       "        [ 3.,  4.]],\n",
       "\n",
       "       [[ 0.,  0.],\n",
       "        [ 0.,  0.]],\n",
       "\n",
       "       [[ 5.,  6.],\n",
       "        [ 7.,  8.]],\n",
       "\n",
       "       [[ 0.,  0.],\n",
       "        [ 0.,  0.]],\n",
       "\n",
       "       [[ 9., 10.],\n",
       "        [11., 12.]]])"
      ]
     },
     "execution_count": 85,
     "metadata": {},
     "output_type": "execute_result"
    }
   ],
   "source": [
    "l = [np.array([[1, 2], [3, 4]]), np.array([[5, 6], [7, 8]]), np.array([[9, 10], [11, 12]])]\n",
    "l = np.asarray(l)\n",
    "shape = list(l.shape)\n",
    "shape[0] = shape[0]*2 -1\n",
    "answer = np.zeros(shape=shape)\n",
    "answer[::2,:,:] = l\n",
    "answer"
   ]
  },
  {
   "cell_type": "markdown",
   "metadata": {},
   "source": [
    "## Stride Tricks"
   ]
  },
  {
   "cell_type": "markdown",
   "metadata": {},
   "source": [
    "Задача 43.\n",
    "\n",
    "Преобразуйте одномерный массив x = np.array([3,7,2,5,0,9,8,2,4,5]) в двумерный массив, первая строка которого - элементы массива x с индексами от 0 до 4, вторая строка - с 1 до 5 и т.д."
   ]
  },
  {
   "cell_type": "code",
   "execution_count": 112,
   "metadata": {},
   "outputs": [
    {
     "name": "stdout",
     "output_type": "stream",
     "text": [
      "(80, 8)\n"
     ]
    },
    {
     "data": {
      "text/plain": [
       "array([[3, 7, 2, 5, 0],\n",
       "       [7, 2, 5, 0, 9],\n",
       "       [2, 5, 0, 9, 8],\n",
       "       [5, 0, 9, 8, 2],\n",
       "       [0, 9, 8, 2, 4]])"
      ]
     },
     "execution_count": 112,
     "metadata": {},
     "output_type": "execute_result"
    }
   ],
   "source": [
    "from numpy.lib.stride_tricks import as_strided\n",
    "\n",
    "x = np.array([3,7,2,5,0,9,8,2,4,5]).reshape(1,-1)\n",
    "shape = [5, x.shape[1]-5]\n",
    "answer = as_strided(x, shape=shape, strides=(8,8))\n",
    "answer"
   ]
  },
  {
   "cell_type": "markdown",
   "metadata": {},
   "source": [
    "Задача 44.\n",
    "\n",
    "Для заданного двумерного массива постройте трехмерный массив, содержащий всевозможные неперекрывающиеся блоки размера 3x3, начиная с левого верхнего угла. Если высота/ширина исходного массива не кратна трем, исключите из рассмотрения последние строки/столбцы.\n",
    "Решите задачу на примере массива x = np.arange(49).reshape(7,7)."
   ]
  },
  {
   "cell_type": "code",
   "execution_count": 29,
   "metadata": {},
   "outputs": [
    {
     "name": "stdout",
     "output_type": "stream",
     "text": [
      "[[ 0  1  2  3  4  5  6]\n",
      " [ 7  8  9 10 11 12 13]\n",
      " [14 15 16 17 18 19 20]\n",
      " [21 22 23 24 25 26 27]\n",
      " [28 29 30 31 32 33 34]\n",
      " [35 36 37 38 39 40 41]\n",
      " [42 43 44 45 46 47 48]]\n",
      "(56, 8)\n"
     ]
    },
    {
     "data": {
      "text/plain": [
       "array([[[ 0,  1,  2],\n",
       "        [ 7,  8,  9],\n",
       "        [14, 15, 16]],\n",
       "\n",
       "       [[ 3,  4,  5],\n",
       "        [10, 11, 12],\n",
       "        [17, 18, 19]],\n",
       "\n",
       "       [[21, 22, 23],\n",
       "        [28, 29, 30],\n",
       "        [35, 36, 37]],\n",
       "\n",
       "       [[24, 25, 26],\n",
       "        [31, 32, 33],\n",
       "        [38, 39, 40]]])"
      ]
     },
     "execution_count": 29,
     "metadata": {},
     "output_type": "execute_result"
    }
   ],
   "source": [
    "from numpy.lib.stride_tricks import as_strided\n",
    "\n",
    "x = np.arange(49).reshape(7,7)\n",
    "kernel = np.array([3,3])\n",
    "print(x)\n",
    "shape = [x.shape[0] // 3, x.shape[1] // 3]\n",
    "qty_sq = sum(shape)\n",
    "\n",
    "print(x.strides)\n",
    "(as_strided(x, \n",
    "            shape=(shape[0],shape[1], kernel[0], kernel[1]), \n",
    "            strides=(x.strides[0]*kernel[0],x.strides[1]*kernel[1], x.strides[0], x.strides[1]))\n",
    " .reshape([shape[0]*shape[1], kernel[0], kernel[1]]))\n"
   ]
  },
  {
   "cell_type": "markdown",
   "metadata": {},
   "source": [
    "## Masked arrays"
   ]
  },
  {
   "cell_type": "markdown",
   "metadata": {},
   "source": [
    "Задача 45.\n",
    "Примените маску к элементам одномерного массива, отличающимся от среднего на величину, большую чем 3 стандартных отклонения.\n",
    "Решите задачу на примере массива из 20 элеметнов, первый из которых равен 100, а остальные равны 0."
   ]
  },
  {
   "cell_type": "code",
   "execution_count": 35,
   "metadata": {},
   "outputs": [
    {
     "name": "stdout",
     "output_type": "stream",
     "text": [
      "1.0 9.9498743710662 99.0\n"
     ]
    }
   ],
   "source": [
    "x = np.zeros(100)\n",
    "x[0] = 100\n",
    "mean = np.mean(x)\n",
    "std = np.std(x)\n",
    "var = np.var(x)\n",
    "print(mean, std, var)\n"
   ]
  },
  {
   "cell_type": "code",
   "execution_count": null,
   "metadata": {},
   "outputs": [],
   "source": []
  }
 ],
 "metadata": {
  "kernelspec": {
   "display_name": "Python 3",
   "language": "python",
   "name": "python3"
  },
  "language_info": {
   "codemirror_mode": {
    "name": "ipython",
    "version": 3
   },
   "file_extension": ".py",
   "mimetype": "text/x-python",
   "name": "python",
   "nbconvert_exporter": "python",
   "pygments_lexer": "ipython3",
   "version": "3.6.10"
  }
 },
 "nbformat": 4,
 "nbformat_minor": 4
}
