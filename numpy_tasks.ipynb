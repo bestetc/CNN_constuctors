{
 "cells": [
  {
   "cell_type": "markdown",
   "metadata": {},
   "source": [
    "# Решение задач по numpy.\n",
    "Задачник лежит здесь:\n",
    "https://docs.google.com/spreadsheets/d/1v1_X6zRlwRVjULZSrRvBYAG_raUPjTI0Ceruwh6vNXw/edit#gid=2019320840\n"
   ]
  },
  {
   "cell_type": "code",
   "execution_count": 1,
   "metadata": {},
   "outputs": [],
   "source": [
    "import numpy as np\n",
    "import time"
   ]
  },
  {
   "cell_type": "markdown",
   "metadata": {},
   "source": [
    "## Array attributes"
   ]
  },
  {
   "cell_type": "markdown",
   "metadata": {},
   "source": [
    "Задача 1.\n",
    "\n",
    "Создайте массив длины 10, заполненный нулями\n",
    "Сделайте полученный массив неизменяемым"
   ]
  },
  {
   "cell_type": "code",
   "execution_count": 7,
   "metadata": {},
   "outputs": [
    {
     "data": {
      "text/plain": [
       "array([0., 0., 0., 0., 0., 0., 0., 0., 0., 0.])"
      ]
     },
     "execution_count": 7,
     "metadata": {},
     "output_type": "execute_result"
    }
   ],
   "source": [
    "a = np.zeros(10)\n",
    "a.setflags(write=False)\n",
    "a"
   ]
  },
  {
   "cell_type": "code",
   "execution_count": 10,
   "metadata": {},
   "outputs": [
    {
     "name": "stdout",
     "output_type": "stream",
     "text": [
      "Done\n"
     ]
    }
   ],
   "source": [
    "try:\n",
    "    a[1] = 2\n",
    "    print('Think about it...')\n",
    "except:\n",
    "    print('Done')"
   ]
  },
  {
   "cell_type": "markdown",
   "metadata": {},
   "source": [
    "Задача 2.\n",
    "\n",
    "Создайте массив, содержащий 5 равноотстоящих точек, покрывающих диапазон от 0 до 2*pi\n",
    "Создайте массив, содержащий 5 равноотстоящих в логарифмическом масштабе точек, покрывающих диапазон от 10 до 100\n",
    "Составьте из полученных массивов координатную сеть (meshgrid)"
   ]
  },
  {
   "cell_type": "code",
   "execution_count": null,
   "metadata": {},
   "outputs": [],
   "source": [
    "a = np.linspace(start=0,stop=2*np.pi, num=5)\n",
    "a"
   ]
  },
  {
   "cell_type": "code",
   "execution_count": null,
   "metadata": {},
   "outputs": [],
   "source": [
    "b = np.logspace(base=10, start=1, stop=2,num=5)\n",
    "b"
   ]
  },
  {
   "cell_type": "code",
   "execution_count": null,
   "metadata": {},
   "outputs": [],
   "source": [
    "c = np.meshgrid(a,b)\n",
    "c"
   ]
  },
  {
   "cell_type": "markdown",
   "metadata": {},
   "source": [
    "Задача 3. Создайте двумерный массив 5х5 с элементами 1, 2, 3 и 4 под главной диагональю, остальные элементы заполните нулями"
   ]
  },
  {
   "cell_type": "code",
   "execution_count": 12,
   "metadata": {},
   "outputs": [
    {
     "data": {
      "text/plain": [
       "array([[0., 0., 0., 0., 0.],\n",
       "       [1., 0., 0., 0., 0.],\n",
       "       [0., 2., 0., 0., 0.],\n",
       "       [0., 0., 3., 0., 0.],\n",
       "       [0., 0., 0., 4., 0.]])"
      ]
     },
     "execution_count": 12,
     "metadata": {},
     "output_type": "execute_result"
    }
   ],
   "source": [
    "a = np.zeros(shape=(5,5))\n",
    "for i in range(4):\n",
    "  a[i+1,i] = i + 1\n",
    "a"
   ]
  },
  {
   "cell_type": "code",
   "execution_count": 17,
   "metadata": {},
   "outputs": [
    {
     "data": {
      "text/plain": [
       "array([[0., 0., 0., 0., 0.],\n",
       "       [1., 0., 0., 0., 0.],\n",
       "       [0., 2., 0., 0., 0.],\n",
       "       [0., 0., 3., 0., 0.],\n",
       "       [0., 0., 0., 4., 0.]])"
      ]
     },
     "execution_count": 17,
     "metadata": {},
     "output_type": "execute_result"
    }
   ],
   "source": [
    "a = np.eye(5, k=-1)\n",
    "a = a * range(1,6,1)\n",
    "a"
   ]
  },
  {
   "cell_type": "code",
   "execution_count": 21,
   "metadata": {},
   "outputs": [
    {
     "data": {
      "text/plain": [
       "array([[0, 0, 0, 0, 0],\n",
       "       [1, 0, 0, 0, 0],\n",
       "       [0, 2, 0, 0, 0],\n",
       "       [0, 0, 3, 0, 0],\n",
       "       [0, 0, 0, 4, 0]])"
      ]
     },
     "execution_count": 21,
     "metadata": {},
     "output_type": "execute_result"
    }
   ],
   "source": [
    "a = np.diag(range(1,5,1), k=-1)\n",
    "a"
   ]
  },
  {
   "cell_type": "markdown",
   "metadata": {},
   "source": [
    "Задача 4.\n",
    "\n",
    "Создайте функцию-генератор, последовательно возвращающую целые числа от 0 до 9\n",
    "Создайте массив из построенного генератора"
   ]
  },
  {
   "cell_type": "code",
   "execution_count": null,
   "metadata": {},
   "outputs": [],
   "source": [
    "c = 0\n",
    "def gen():\n",
    "    global c\n",
    "    c += 1\n",
    "    return c\n",
    "\n",
    "arr_lenght = 10\n",
    "arr = np.zeros(arr_lenght)\n",
    "for i in range(arr_lenght):\n",
    "  arr[i] = gen() - 1\n",
    "arr"
   ]
  },
  {
   "cell_type": "markdown",
   "metadata": {},
   "source": [
    "## Array arithmetic operations"
   ]
  },
  {
   "cell_type": "markdown",
   "metadata": {},
   "source": [
    "Задача 5. \n",
    "Что будет выведено на экран? a = np.arange(4).reshape(2,2) a += 0.5 print(a)"
   ]
  },
  {
   "cell_type": "code",
   "execution_count": 22,
   "metadata": {},
   "outputs": [
    {
     "data": {
      "text/plain": [
       "array([[0.5, 1.5],\n",
       "       [2.5, 3.5]])"
      ]
     },
     "execution_count": 22,
     "metadata": {},
     "output_type": "execute_result"
    }
   ],
   "source": [
    "a = np.arange(4.).reshape(2,2) #dtype=float\n",
    "a += .5\n",
    "a"
   ]
  },
  {
   "cell_type": "markdown",
   "metadata": {},
   "source": [
    "формулировка задачи приводит в выводу ошибки, т.к. создается массив int. чтобы данная конструкция работала надо явно указать тип переменной. Либо через dtype=float, либо задав значение как 4 с точкой на конце."
   ]
  },
  {
   "cell_type": "markdown",
   "metadata": {},
   "source": [
    "Задача 6. \n",
    "Что будет выведено на экран? a = np.array([1]) if a: print(\"\"True\"\") else: print(\"\"False\"\")\n",
    "a = np.array([1, 2, 3]) if a: print(\"\"True\"\") else: print(\"\"False\"\")"
   ]
  },
  {
   "cell_type": "code",
   "execution_count": null,
   "metadata": {},
   "outputs": [],
   "source": [
    "a = np.array([0])\n",
    "if a:\n",
    "  print('True')\n",
    "else:\n",
    "  print('False')"
   ]
  },
  {
   "cell_type": "markdown",
   "metadata": {},
   "source": [
    "Вернет True при любом значении массива, кроме 0. Или инициализации пустого массива."
   ]
  },
  {
   "cell_type": "code",
   "execution_count": null,
   "metadata": {},
   "outputs": [],
   "source": [
    "a = np.array([0,0,1])\n",
    "if a.all(): #should use any() or all()\n",
    "  print('True')\n",
    "else:\n",
    "  print('False')"
   ]
  },
  {
   "cell_type": "markdown",
   "metadata": {},
   "source": [
    "Вернет ошибку. Чтобы массив длинной >1 обрабатывался корректно нужно использовать all() или any()"
   ]
  },
  {
   "cell_type": "markdown",
   "metadata": {},
   "source": [
    "## Floating Point Special Values"
   ]
  },
  {
   "cell_type": "markdown",
   "metadata": {},
   "source": [
    "Что будет выведено на экран?\n",
    "print(0 * np.nan)\n",
    "print(np.nan - np.nan)\n",
    "print(np.nan == np.nan)\n",
    "print(np.nan is np.nan)\n",
    "print(-np.inf < np.nan < np.inf)"
   ]
  },
  {
   "cell_type": "code",
   "execution_count": null,
   "metadata": {},
   "outputs": [],
   "source": [
    "print(0 * np.nan)"
   ]
  },
  {
   "cell_type": "code",
   "execution_count": null,
   "metadata": {},
   "outputs": [],
   "source": [
    "print(np.nan - np.nan)"
   ]
  },
  {
   "cell_type": "code",
   "execution_count": 23,
   "metadata": {},
   "outputs": [
    {
     "name": "stdout",
     "output_type": "stream",
     "text": [
      "False\n"
     ]
    }
   ],
   "source": [
    "print(np.nan == np.nan)"
   ]
  },
  {
   "cell_type": "markdown",
   "metadata": {},
   "source": [
    "сравнение np.nan == np.nan возвращает False. Что корректно сравнивать np.nan надо использовать специальную функцию."
   ]
  },
  {
   "cell_type": "code",
   "execution_count": 24,
   "metadata": {},
   "outputs": [
    {
     "data": {
      "text/plain": [
       "True"
      ]
     },
     "execution_count": 24,
     "metadata": {},
     "output_type": "execute_result"
    }
   ],
   "source": [
    "import pandas as pd\n",
    "pd.isna(np.nan)"
   ]
  },
  {
   "cell_type": "code",
   "execution_count": 25,
   "metadata": {},
   "outputs": [
    {
     "name": "stdout",
     "output_type": "stream",
     "text": [
      "True\n"
     ]
    }
   ],
   "source": [
    "print(np.nan is np.nan)"
   ]
  },
  {
   "cell_type": "code",
   "execution_count": 26,
   "metadata": {},
   "outputs": [
    {
     "name": "stdout",
     "output_type": "stream",
     "text": [
      "False\n"
     ]
    }
   ],
   "source": [
    "print(-np.inf < np.nan < np.inf)"
   ]
  },
  {
   "cell_type": "markdown",
   "metadata": {},
   "source": [
    "Что будет выведено на экран?\n",
    "print(np.isnan(np.array([np.nan]).astype(np.int)))"
   ]
  },
  {
   "cell_type": "code",
   "execution_count": 35,
   "metadata": {},
   "outputs": [
    {
     "name": "stdout",
     "output_type": "stream",
     "text": [
      "[False]\n"
     ]
    }
   ],
   "source": [
    "print(np.isnan(np.array([np.nan]).astype(np.int)))"
   ]
  },
  {
   "cell_type": "markdown",
   "metadata": {},
   "source": [
    "Интересно, что в данной контрукции пандас возвращает False"
   ]
  },
  {
   "cell_type": "code",
   "execution_count": 34,
   "metadata": {},
   "outputs": [
    {
     "name": "stdout",
     "output_type": "stream",
     "text": [
      "[False]\n"
     ]
    }
   ],
   "source": [
    "print(pd.isna(np.array([np.nan]).astype(np.int)))"
   ]
  },
  {
   "cell_type": "markdown",
   "metadata": {},
   "source": [
    "## Broadcasting rules"
   ]
  },
  {
   "cell_type": "markdown",
   "metadata": {},
   "source": [
    "Задача 9.\n",
    "1. Создайте масив из четырех элементов: 0, 10, 20, 30\n",
    "2. Создайте двухмерный массив 4x5, в котором первый столбец - массив с шага 1, а каждый элемент каждой строки, начиная со второго,  больше предыдущего элемента этой же строки на 1."
   ]
  },
  {
   "cell_type": "code",
   "execution_count": 36,
   "metadata": {},
   "outputs": [
    {
     "data": {
      "text/plain": [
       "array([[ 0.,  1.,  2.,  3.,  4.],\n",
       "       [10., 11., 12., 13., 14.],\n",
       "       [20., 21., 22., 23., 24.],\n",
       "       [30., 31., 32., 33., 34.]])"
      ]
     },
     "execution_count": 36,
     "metadata": {},
     "output_type": "execute_result"
    }
   ],
   "source": [
    "a = np.array([0,10,20,30])\n",
    "b = np.zeros(shape=(4,5))\n",
    "b[:,0] = a.reshape(1,-1)\n",
    "for i in range(1,5):\n",
    "    b[:,i] = b[:,i-1] + 1\n",
    "b"
   ]
  },
  {
   "cell_type": "code",
   "execution_count": 37,
   "metadata": {},
   "outputs": [
    {
     "data": {
      "text/plain": [
       "array([[ 0,  1,  2,  3,  4],\n",
       "       [10, 11, 12, 13, 14],\n",
       "       [20, 21, 22, 23, 24],\n",
       "       [30, 31, 32, 33, 34]])"
      ]
     },
     "execution_count": 37,
     "metadata": {},
     "output_type": "execute_result"
    }
   ],
   "source": [
    "a = np.arange(0,31,10).reshape(-1,1)\n",
    "b= np.array([0,1,2,3,4])\n",
    "a+b"
   ]
  },
  {
   "cell_type": "markdown",
   "metadata": {},
   "source": [
    "Задача 10.\n",
    "Какой shape будет у результата операции np.arange(5).reshape(1,-1) + np.arange(5).reshape(-1,1)?"
   ]
  },
  {
   "cell_type": "code",
   "execution_count": 39,
   "metadata": {},
   "outputs": [
    {
     "data": {
      "text/plain": [
       "(5, 5)"
      ]
     },
     "execution_count": 39,
     "metadata": {},
     "output_type": "execute_result"
    }
   ],
   "source": [
    "a = np.arange(5).reshape(1,-1) + np.arange(5).reshape(-1,1)\n",
    "a.shape"
   ]
  },
  {
   "cell_type": "markdown",
   "metadata": {},
   "source": [
    "## Basic Slicing and Indexing"
   ]
  },
  {
   "cell_type": "markdown",
   "metadata": {},
   "source": [
    "Задача 11.\n",
    "Создайте двумерный массив 8х8, заполненный 0 и 1 в шахматном порядке."
   ]
  },
  {
   "cell_type": "code",
   "execution_count": null,
   "metadata": {},
   "outputs": [],
   "source": [
    "# %%timeit\n",
    "a = np.zeros([8,8],dtype=int)\n",
    "for i in range(8):\n",
    "    for j in range(8):\n",
    "        if ((i+j) % 2) == 0:\n",
    "            a[i,j] = 1\n",
    "a"
   ]
  },
  {
   "cell_type": "code",
   "execution_count": null,
   "metadata": {},
   "outputs": [],
   "source": [
    "# %%timeit\n",
    "a=[0,1] * 4\n",
    "b = [1, 0] * 4\n",
    "c = np.array([b, a]*4).reshape(-1,8)\n",
    "c"
   ]
  },
  {
   "cell_type": "code",
   "execution_count": 3,
   "metadata": {},
   "outputs": [
    {
     "data": {
      "text/plain": [
       "array([[1, 0, 1, 0, 1, 0, 1, 0],\n",
       "       [0, 1, 0, 1, 0, 1, 0, 1],\n",
       "       [1, 0, 1, 0, 1, 0, 1, 0],\n",
       "       [0, 1, 0, 1, 0, 1, 0, 1],\n",
       "       [1, 0, 1, 0, 1, 0, 1, 0],\n",
       "       [0, 1, 0, 1, 0, 1, 0, 1],\n",
       "       [1, 0, 1, 0, 1, 0, 1, 0],\n",
       "       [0, 1, 0, 1, 0, 1, 0, 1]])"
      ]
     },
     "execution_count": 3,
     "metadata": {},
     "output_type": "execute_result"
    }
   ],
   "source": [
    "a = np.zeros([8,8], dtype=int)\n",
    "a[[0,2,4,6], ::2] = 1\n",
    "a[[1,3,5,7], 1::2] = 1\n",
    "a"
   ]
  },
  {
   "cell_type": "markdown",
   "metadata": {},
   "source": [
    "Задача 12.\n",
    "1. Создайте одномерный массив целых чисел от 1 до 5\n",
    "2. Вставьте 0 между каждой парой соседних элементов"
   ]
  },
  {
   "cell_type": "code",
   "execution_count": null,
   "metadata": {},
   "outputs": [],
   "source": [
    "a = np.arange(1,6,1)\n",
    "b = np.zeros(a.shape[0]*2-1)\n",
    "\n",
    "b[::2] = a\n",
    "print(b)"
   ]
  },
  {
   "cell_type": "markdown",
   "metadata": {},
   "source": [
    "Задача 13.\n",
    "Что будет выведено на экран?\n",
    "x = np.arange(36).reshape(2,3,2,3)\n",
    "print(x[...,0,...])"
   ]
  },
  {
   "cell_type": "code",
   "execution_count": 40,
   "metadata": {},
   "outputs": [
    {
     "ename": "SyntaxError",
     "evalue": "invalid syntax (<ipython-input-40-27fb716ac2fe>, line 1)",
     "output_type": "error",
     "traceback": [
      "\u001b[0;36m  File \u001b[0;32m\"<ipython-input-40-27fb716ac2fe>\"\u001b[0;36m, line \u001b[0;32m1\u001b[0m\n\u001b[0;31m    x = np.arange(36).reshape(2,3,2,3) print(x[...,0,...])\u001b[0m\n\u001b[0m                                           ^\u001b[0m\n\u001b[0;31mSyntaxError\u001b[0m\u001b[0;31m:\u001b[0m invalid syntax\n"
     ]
    }
   ],
   "source": [
    "x = np.arange(36).reshape(2,3,2,3) print(x[...,0,...])"
   ]
  },
  {
   "cell_type": "markdown",
   "metadata": {},
   "source": [
    "Будет выведена ошибка, троеточие можно использовать один раз, иначе создается неопределенность выбора."
   ]
  },
  {
   "cell_type": "markdown",
   "metadata": {},
   "source": [
    "В чем разница между x[:,0] и x[...,0] ?"
   ]
  },
  {
   "cell_type": "markdown",
   "metadata": {},
   "source": [
    "Двоеточие подразумевает одну размерность, троеточие любое количество."
   ]
  },
  {
   "cell_type": "markdown",
   "metadata": {},
   "source": [
    "Задача 14.\n",
    "Что будет выведено на экран (!!!!)"
   ]
  },
  {
   "cell_type": "code",
   "execution_count": null,
   "metadata": {},
   "outputs": [],
   "source": [
    "x = np.arange(16).reshape(4,4)\n",
    "y = x[:,[2,3]]\n",
    "y[:] = 0\n",
    "print(x)\n",
    "y = x[:,:2]\n",
    "y[:] = 0\n",
    "print(x)"
   ]
  },
  {
   "cell_type": "markdown",
   "metadata": {},
   "source": [
    "Важная особенность nupmy в том, что при использовании маски возвращается копия среза массива.\n",
    "Использование среза возвращает ссылки на сам массив. Через ссылки возможны операции с самим массивом."
   ]
  },
  {
   "cell_type": "markdown",
   "metadata": {},
   "source": [
    "## Boolean array indexing"
   ]
  },
  {
   "cell_type": "markdown",
   "metadata": {},
   "source": [
    "Задача 15. Замените отрицательные элементы массива нулем."
   ]
  },
  {
   "cell_type": "code",
   "execution_count": null,
   "metadata": {},
   "outputs": [],
   "source": [
    "a = np.arange(-5, 5, 1)\n",
    "a[a<0] = 0\n",
    "a"
   ]
  },
  {
   "cell_type": "markdown",
   "metadata": {},
   "source": [
    "Задача 16.\n",
    "На примере целочисленного массива x = np.array([[1,2,3], [1,1,1], [2,2,1], [2,2,2]], dtype=int) составьте новый массив, не содержащий строки, полностью заполненные одним уникальным значением."
   ]
  },
  {
   "cell_type": "code",
   "execution_count": 44,
   "metadata": {},
   "outputs": [
    {
     "name": "stdout",
     "output_type": "stream",
     "text": [
      "32.3 µs ± 77.7 ns per loop (mean ± std. dev. of 7 runs, 10000 loops each)\n"
     ]
    }
   ],
   "source": [
    "%%timeit\n",
    "def foo(x):\n",
    "    mask = np.ones(x.shape,dtype=bool)\n",
    "    for i in range(x.shape[0]):\n",
    "        rows = x[i,:]\n",
    "        if len(np.unique(rows)) == 1:\n",
    "            mask[i,:] = False\n",
    "        else:\n",
    "            mask[i,:] = True\n",
    "    return mask\n",
    "\n",
    "\n",
    "x = np.array([[1,2,3], [1,1,1], [2,2,1], [2,2,2]], dtype=int)\n",
    "mask = foo(x)\n",
    "x = x[mask].reshape(-1,x.shape[1])\n",
    "x"
   ]
  },
  {
   "cell_type": "code",
   "execution_count": 43,
   "metadata": {},
   "outputs": [
    {
     "name": "stdout",
     "output_type": "stream",
     "text": [
      "14.3 µs ± 93.7 ns per loop (mean ± std. dev. of 7 runs, 100000 loops each)\n"
     ]
    }
   ],
   "source": [
    "%%timeit\n",
    "x = np.array([[1,2,3], [1,1,1], [2,2,1], [2,2,2]], dtype=int)\n",
    "mask = np.zeros(x.shape, dtype=bool)\n",
    "m = np.array([np.sum(x,axis=1)/x[:,0] != x.shape[1]],)\n",
    "mask.T[:] = m\n",
    "x = x[mask].reshape(-1, x.shape[1])\n",
    "x"
   ]
  },
  {
   "cell_type": "code",
   "execution_count": 56,
   "metadata": {},
   "outputs": [
    {
     "name": "stdout",
     "output_type": "stream",
     "text": [
      "[[1 2 3 1]\n",
      " [1 1 1 1]\n",
      " [2 2 1 2]\n",
      " [2 2 2 2]]\n",
      "[1 2 3 1] [1 1 2 2]\n"
     ]
    }
   ],
   "source": [
    "# %%timeit\n",
    "x = np.array([[1,2,3], [1,1,1], [2,2,1], [2,2,2]], dtype=int)\n",
    "x = np.column_stack((x, x[:, 0]))\n",
    "print(x)\n",
    "mask = np.zeros(x.shape, dtype=bool)\n",
    "print(x[0,:], x[:,0])\n",
    "\n",
    "# mask.T[:] = m\n",
    "# x = x[m]\n",
    "# x"
   ]
  },
  {
   "cell_type": "markdown",
   "metadata": {},
   "source": [
    "Задача 17.\n",
    "Для заданного одномерного массива x выведите все элементы, не превышающие своих соседей (первый и последний элемент сравниваются только со вторым и предпоследним соответственно)."
   ]
  },
  {
   "cell_type": "code",
   "execution_count": null,
   "metadata": {},
   "outputs": [],
   "source": [
    "%%timeit\n",
    "\n",
    "def foo(arr):\n",
    "    mask = np.zeros(arr.shape,dtype=bool)\n",
    "    for i in range(len(arr)):\n",
    "        if i == 0:\n",
    "            if arr[i] <= arr[i+1]:\n",
    "                mask[i] = True\n",
    "        elif i == (len(arr) - 1):\n",
    "            if arr[i] <= arr[i-1]:\n",
    "                mask[i] = True\n",
    "        else:\n",
    "            if arr[i-1] >= arr[i] <= arr[i+1]:\n",
    "                mask[i] = True\n",
    "    return mask\n",
    "\n",
    "a = np.random.randint(0,5,10)\n",
    "# print(a)\n",
    "mask = foo(a)\n",
    "# print(mask)\n",
    "a = a[mask]\n",
    "a\n"
   ]
  },
  {
   "cell_type": "code",
   "execution_count": null,
   "metadata": {},
   "outputs": [],
   "source": [
    "%%timeit\n",
    "a = np.random.randint(0,5,10)\n",
    "mask1 = [a[1:]<=a[:-1]]\n",
    "mask2 = [a[:-1]<=a[1:]]\n",
    "mask1 = np.append(True, mask1)\n",
    "mask2 = np.append(mask2, True)\n",
    "mask = mask1 * mask2\n",
    "a = a[mask]\n",
    "a"
   ]
  },
  {
   "cell_type": "markdown",
   "metadata": {},
   "source": [
    "## Integer array indexing"
   ]
  },
  {
   "cell_type": "markdown",
   "metadata": {},
   "source": [
    "Задача 18.\n",
    "1. Создайте двумерный массив 3x3, заполненный случайными числами от 0 до 9\n",
    "2. Отсортируйте строки массива по возрастанию значения во втором столбце"
   ]
  },
  {
   "cell_type": "code",
   "execution_count": null,
   "metadata": {},
   "outputs": [],
   "source": [
    "a = np.random.randint(0,9,9).reshape(3,3)\n",
    "print(a)\n",
    "a[:,1] = np.sort(a[:,1])\n",
    "a"
   ]
  },
  {
   "cell_type": "code",
   "execution_count": null,
   "metadata": {},
   "outputs": [],
   "source": [
    "a = np.random.randint(0,9,9).reshape(3,3)\n",
    "print(a, a[:,1], sep='\\n', end='\\n')\n",
    "index = np.argsort(a[:,1], axis=0)\n",
    "print(index)\n",
    "a = a[[index], :]\n",
    "a"
   ]
  },
  {
   "cell_type": "markdown",
   "metadata": {},
   "source": [
    "Задача 19.\n",
    "Поменяйте местами первую и вторую строки двумерного массива."
   ]
  },
  {
   "cell_type": "code",
   "execution_count": null,
   "metadata": {},
   "outputs": [],
   "source": [
    "a = np.random.randint(0,9,9).reshape(3,3)\n",
    "print(a)\n",
    "a = a[[1,0,2], :]\n",
    "a"
   ]
  },
  {
   "cell_type": "markdown",
   "metadata": {},
   "source": [
    "Задача 20\n",
    "1. Создайте массив 3x5, заполненный числами от 0 до 14\n",
    "2. Выберите 1, 3 строки и 2, 4 столбцы, не удаляя элементы из массива"
   ]
  },
  {
   "cell_type": "code",
   "execution_count": null,
   "metadata": {},
   "outputs": [],
   "source": [
    "a = np.arange(0,15,1).reshape(3,5)\n",
    "print(a)\n",
    "print(a[[0,2],:][:,[1,3]])\n",
    "print(a)\n"
   ]
  },
  {
   "cell_type": "markdown",
   "metadata": {},
   "source": [
    "Задача 21\n",
    "Что будет выведено на экран?\n"
   ]
  },
  {
   "cell_type": "code",
   "execution_count": null,
   "metadata": {},
   "outputs": [],
   "source": [
    "x = np.arange(5)\n",
    "print(x[[0,0,1]])\n",
    "# x[[0,0,1]] = range(3)\n",
    "# print(x)\n",
    "# x[[1,2,1]] += 1 # x[[1,2,1]] = x[[1,2,1]] + 1\n",
    "print(x)"
   ]
  },
  {
   "cell_type": "code",
   "execution_count": null,
   "metadata": {},
   "outputs": [],
   "source": [
    "x[[1,2,1]] + 1"
   ]
  },
  {
   "cell_type": "markdown",
   "metadata": {},
   "source": [
    "## Functions and Methods Overview"
   ]
  },
  {
   "cell_type": "markdown",
   "metadata": {},
   "source": [
    "Задача 22.\n",
    "Перечислите все известные вам способы преобразования заданного n-мерного массива в одномерный. Какой из способов работает быстрее и почему?"
   ]
  },
  {
   "cell_type": "code",
   "execution_count": null,
   "metadata": {},
   "outputs": [],
   "source": [
    "a = np.arange(0,1500,1).reshape(30,50)"
   ]
  },
  {
   "cell_type": "code",
   "execution_count": null,
   "metadata": {},
   "outputs": [],
   "source": [
    "%%timeit\n",
    "a.flatten()"
   ]
  },
  {
   "cell_type": "code",
   "execution_count": null,
   "metadata": {},
   "outputs": [],
   "source": [
    "%%timeit\n",
    "a.ravel()"
   ]
  },
  {
   "cell_type": "code",
   "execution_count": null,
   "metadata": {},
   "outputs": [],
   "source": [
    "%%timeit\n",
    "a.reshape(-1,)"
   ]
  },
  {
   "cell_type": "code",
   "execution_count": null,
   "metadata": {},
   "outputs": [],
   "source": [
    "import timeit\n",
    "a = np.arange(0,1500,1).reshape(30,50)\n",
    "timeit.timeit(lambda: a.resize((a.shape[0]*a.shape[1],)),number=1)\n",
    "# print(a)"
   ]
  },
  {
   "cell_type": "code",
   "execution_count": null,
   "metadata": {},
   "outputs": [],
   "source": [
    "%%timeit\n",
    "a.shape = (-1,)\n",
    "# print(a)"
   ]
  },
  {
   "cell_type": "markdown",
   "metadata": {},
   "source": [
    "Задача 23.\n",
    "1. Создайте массив, заполненный случайными значениями\n",
    "2. Замените максимальные значения массива средним\n"
   ]
  },
  {
   "cell_type": "code",
   "execution_count": null,
   "metadata": {},
   "outputs": [],
   "source": [
    "a = np.random.randint(0,5,10)\n",
    "print(a)\n",
    "max_ind = np.argmax(a)\n",
    "a[max_ind] = np.max(a) / "
   ]
  },
  {
   "cell_type": "code",
   "execution_count": null,
   "metadata": {},
   "outputs": [],
   "source": []
  }
 ],
 "metadata": {
  "kernelspec": {
   "display_name": "Python 3",
   "language": "python",
   "name": "python3"
  },
  "language_info": {
   "codemirror_mode": {
    "name": "ipython",
    "version": 3
   },
   "file_extension": ".py",
   "mimetype": "text/x-python",
   "name": "python",
   "nbconvert_exporter": "python",
   "pygments_lexer": "ipython3",
   "version": "3.6.10"
  }
 },
 "nbformat": 4,
 "nbformat_minor": 4
}
