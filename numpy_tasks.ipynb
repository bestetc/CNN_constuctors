{
 "cells": [
  {
   "cell_type": "markdown",
   "metadata": {},
   "source": [
    "# Решение задач по numpy.\n",
    "Задачник лежит здесь:\n",
    "https://docs.google.com/spreadsheets/d/1v1_X6zRlwRVjULZSrRvBYAG_raUPjTI0Ceruwh6vNXw/edit#gid=2019320840\n"
   ]
  },
  {
   "cell_type": "markdown",
   "metadata": {},
   "source": [
    "## Содержание\n",
    "[Array attributes](#Array-attributes)<br>\n",
    "[Array arithmetic operations](#Array-arithmetic-operations)<br>\n",
    "[Floating point special values](#Floating-point-special-values)<br>\n",
    "[Broadcasting rules](#Broadcasting-rules)<br>\n",
    "[Basic slicing and indexing](#Basic-slicing-and-indexing)<br>\n",
    "[Boolean array indexing](#Boolean-array-indexing)<br>\n",
    "[Integer array indexing](#Integer-array-indexing)<br>\n",
    "[Functions and methods overview](#Functions-and-methods-overview)<br>\n",
    "[Vector stacking](#Vector-stacking)<br>\n",
    "[Stride tricks](#Stride-tricks)<br>\n",
    "[Masked arrays](#Masked-arrays)<br>\n",
    "[Iterating over arrays](#Iterating-over-arrays)<br>"
   ]
  },
  {
   "cell_type": "code",
   "execution_count": 1,
   "metadata": {},
   "outputs": [],
   "source": [
    "import time\n",
    "import timeit\n",
    "\n",
    "import numpy as np"
   ]
  },
  {
   "cell_type": "markdown",
   "metadata": {},
   "source": [
    "## Array attributes"
   ]
  },
  {
   "cell_type": "markdown",
   "metadata": {},
   "source": [
    "Задача 1.\n",
    "\n",
    "Создайте массив длины 10, заполненный нулями\n",
    "Сделайте полученный массив неизменяемым"
   ]
  },
  {
   "cell_type": "code",
   "execution_count": 2,
   "metadata": {},
   "outputs": [
    {
     "data": {
      "text/plain": [
       "array([0., 0., 0., 0., 0., 0., 0., 0., 0., 0.])"
      ]
     },
     "execution_count": 2,
     "metadata": {},
     "output_type": "execute_result"
    }
   ],
   "source": [
    "a = np.zeros(10)\n",
    "a.setflags(write=False)\n",
    "a"
   ]
  },
  {
   "cell_type": "code",
   "execution_count": 3,
   "metadata": {},
   "outputs": [
    {
     "name": "stdout",
     "output_type": "stream",
     "text": [
      "Done\n"
     ]
    }
   ],
   "source": [
    "try:\n",
    "    a[1] = 2\n",
    "    print('Think about it...')\n",
    "except:\n",
    "    print('Done')"
   ]
  },
  {
   "cell_type": "markdown",
   "metadata": {},
   "source": [
    "Задача 2.\n",
    "\n",
    "Создайте массив, содержащий 5 равноотстоящих точек, покрывающих диапазон от 0 до 2*pi\n",
    "Создайте массив, содержащий 5 равноотстоящих в логарифмическом масштабе точек, покрывающих диапазон от 10 до 100\n",
    "Составьте из полученных массивов координатную сеть (meshgrid)"
   ]
  },
  {
   "cell_type": "code",
   "execution_count": 4,
   "metadata": {},
   "outputs": [
    {
     "data": {
      "text/plain": [
       "array([0.        , 1.57079633, 3.14159265, 4.71238898, 6.28318531])"
      ]
     },
     "execution_count": 4,
     "metadata": {},
     "output_type": "execute_result"
    }
   ],
   "source": [
    "a = np.linspace(start=0, stop=2*np.pi, num=5)\n",
    "a"
   ]
  },
  {
   "cell_type": "code",
   "execution_count": 5,
   "metadata": {},
   "outputs": [
    {
     "data": {
      "text/plain": [
       "array([ 10.        ,  17.7827941 ,  31.6227766 ,  56.23413252,\n",
       "       100.        ])"
      ]
     },
     "execution_count": 5,
     "metadata": {},
     "output_type": "execute_result"
    }
   ],
   "source": [
    "b = np.logspace(base=10, start=1, stop=2, num=5)\n",
    "b"
   ]
  },
  {
   "cell_type": "code",
   "execution_count": 6,
   "metadata": {},
   "outputs": [
    {
     "data": {
      "text/plain": [
       "[array([[0.        , 1.57079633, 3.14159265, 4.71238898, 6.28318531],\n",
       "        [0.        , 1.57079633, 3.14159265, 4.71238898, 6.28318531],\n",
       "        [0.        , 1.57079633, 3.14159265, 4.71238898, 6.28318531],\n",
       "        [0.        , 1.57079633, 3.14159265, 4.71238898, 6.28318531],\n",
       "        [0.        , 1.57079633, 3.14159265, 4.71238898, 6.28318531]]),\n",
       " array([[ 10.        ,  10.        ,  10.        ,  10.        ,\n",
       "          10.        ],\n",
       "        [ 17.7827941 ,  17.7827941 ,  17.7827941 ,  17.7827941 ,\n",
       "          17.7827941 ],\n",
       "        [ 31.6227766 ,  31.6227766 ,  31.6227766 ,  31.6227766 ,\n",
       "          31.6227766 ],\n",
       "        [ 56.23413252,  56.23413252,  56.23413252,  56.23413252,\n",
       "          56.23413252],\n",
       "        [100.        , 100.        , 100.        , 100.        ,\n",
       "         100.        ]])]"
      ]
     },
     "execution_count": 6,
     "metadata": {},
     "output_type": "execute_result"
    }
   ],
   "source": [
    "c = np.meshgrid(a, b)\n",
    "c"
   ]
  },
  {
   "cell_type": "markdown",
   "metadata": {},
   "source": [
    "Задача 3. Создайте двумерный массив 5х5 с элементами 1, 2, 3 и 4 под главной диагональю, остальные элементы заполните нулями"
   ]
  },
  {
   "cell_type": "code",
   "execution_count": 7,
   "metadata": {},
   "outputs": [
    {
     "data": {
      "text/plain": [
       "array([[0, 0, 0, 0, 0],\n",
       "       [1, 0, 0, 0, 0],\n",
       "       [0, 2, 0, 0, 0],\n",
       "       [0, 0, 3, 0, 0],\n",
       "       [0, 0, 0, 4, 0]])"
      ]
     },
     "execution_count": 7,
     "metadata": {},
     "output_type": "execute_result"
    }
   ],
   "source": [
    "a = np.diag(range(1, 5, 1), k=-1)\n",
    "a"
   ]
  },
  {
   "cell_type": "markdown",
   "metadata": {},
   "source": [
    "Задача 4.\n",
    "\n",
    "Создайте функцию-генератор, последовательно возвращающую целые числа от 0 до 9\n",
    "Создайте массив из построенного генератора"
   ]
  },
  {
   "cell_type": "code",
   "execution_count": 8,
   "metadata": {},
   "outputs": [
    {
     "data": {
      "text/plain": [
       "array([0, 1, 2, 3, 4, 5, 6, 7, 8, 9])"
      ]
     },
     "execution_count": 8,
     "metadata": {},
     "output_type": "execute_result"
    }
   ],
   "source": [
    "def gen(lenght, n=0):\n",
    "    while n < lenght:\n",
    "        yield n\n",
    "        n += 1\n",
    "        \n",
    "lenght = 10\n",
    "arr = np.fromiter(gen(lenght), int)\n",
    "arr"
   ]
  },
  {
   "cell_type": "markdown",
   "metadata": {},
   "source": [
    "## Array arithmetic operations"
   ]
  },
  {
   "cell_type": "markdown",
   "metadata": {},
   "source": [
    "Задача 5. \n",
    "Что будет выведено на экран? a = np.arange(4).reshape(2,2) a += 0.5 print(a)"
   ]
  },
  {
   "cell_type": "code",
   "execution_count": 9,
   "metadata": {},
   "outputs": [
    {
     "data": {
      "text/plain": [
       "array([[0.5, 1.5],\n",
       "       [2.5, 3.5]])"
      ]
     },
     "execution_count": 9,
     "metadata": {},
     "output_type": "execute_result"
    }
   ],
   "source": [
    "a = np.arange(4.).reshape(2, 2) #dtype=float\n",
    "a += .5\n",
    "a"
   ]
  },
  {
   "cell_type": "markdown",
   "metadata": {},
   "source": [
    "формулировка задачи приводит в выводу ошибки, т.к. создается массив int. чтобы данная конструкция работала надо явно указать тип переменной. Либо через dtype=float, либо задав значение как 4 с точкой на конце."
   ]
  },
  {
   "cell_type": "markdown",
   "metadata": {},
   "source": [
    "Задача 6. \n",
    "Что будет выведено на экран? a = np.array([1]) if a: print(\"\"True\"\") else: print(\"\"False\"\")\n",
    "a = np.array([1, 2, 3]) if a: print(\"\"True\"\") else: print(\"\"False\"\")"
   ]
  },
  {
   "cell_type": "code",
   "execution_count": 10,
   "metadata": {},
   "outputs": [
    {
     "name": "stdout",
     "output_type": "stream",
     "text": [
      "False\n"
     ]
    }
   ],
   "source": [
    "a = np.array([0])\n",
    "if a:\n",
    "  print('True')\n",
    "else:\n",
    "  print('False')"
   ]
  },
  {
   "cell_type": "markdown",
   "metadata": {},
   "source": [
    "Вернет True при любом значении массива, кроме 0. Или инициализации пустого массива."
   ]
  },
  {
   "cell_type": "code",
   "execution_count": 11,
   "metadata": {},
   "outputs": [
    {
     "name": "stdout",
     "output_type": "stream",
     "text": [
      "False\n"
     ]
    }
   ],
   "source": [
    "a = np.array([0, 0, 1])\n",
    "if a.all(): #should use any() or all()\n",
    "  print('True')\n",
    "else:\n",
    "  print('False')"
   ]
  },
  {
   "cell_type": "markdown",
   "metadata": {},
   "source": [
    "Вернет ошибку. Чтобы массив длинной >1 обрабатывался корректно нужно использовать all() или any()"
   ]
  },
  {
   "cell_type": "markdown",
   "metadata": {},
   "source": [
    "## Floating point special values"
   ]
  },
  {
   "cell_type": "markdown",
   "metadata": {},
   "source": [
    "Что будет выведено на экран?\n",
    "print(0 * np.nan)\n",
    "print(np.nan - np.nan)\n",
    "print(np.nan == np.nan)\n",
    "print(np.nan is np.nan)\n",
    "print(-np.inf < np.nan < np.inf)"
   ]
  },
  {
   "cell_type": "code",
   "execution_count": 12,
   "metadata": {},
   "outputs": [
    {
     "name": "stdout",
     "output_type": "stream",
     "text": [
      "nan\n"
     ]
    }
   ],
   "source": [
    "print(0 * np.nan)"
   ]
  },
  {
   "cell_type": "code",
   "execution_count": 13,
   "metadata": {},
   "outputs": [
    {
     "name": "stdout",
     "output_type": "stream",
     "text": [
      "nan\n"
     ]
    }
   ],
   "source": [
    "print(np.nan - np.nan)"
   ]
  },
  {
   "cell_type": "code",
   "execution_count": 14,
   "metadata": {},
   "outputs": [
    {
     "name": "stdout",
     "output_type": "stream",
     "text": [
      "False\n"
     ]
    }
   ],
   "source": [
    "print(np.nan == np.nan)"
   ]
  },
  {
   "cell_type": "markdown",
   "metadata": {},
   "source": [
    "сравнение np.nan == np.nan возвращает False. Что корректно сравнивать np.nan надо использовать специальную функцию."
   ]
  },
  {
   "cell_type": "code",
   "execution_count": 15,
   "metadata": {},
   "outputs": [
    {
     "data": {
      "text/plain": [
       "True"
      ]
     },
     "execution_count": 15,
     "metadata": {},
     "output_type": "execute_result"
    }
   ],
   "source": [
    "import pandas as pd\n",
    "pd.isna(np.nan)"
   ]
  },
  {
   "cell_type": "code",
   "execution_count": 16,
   "metadata": {},
   "outputs": [
    {
     "name": "stdout",
     "output_type": "stream",
     "text": [
      "True\n"
     ]
    }
   ],
   "source": [
    "print(np.nan is np.nan)"
   ]
  },
  {
   "cell_type": "code",
   "execution_count": 17,
   "metadata": {},
   "outputs": [
    {
     "name": "stdout",
     "output_type": "stream",
     "text": [
      "False\n"
     ]
    }
   ],
   "source": [
    "print(-np.inf < np.nan < np.inf)"
   ]
  },
  {
   "cell_type": "markdown",
   "metadata": {},
   "source": [
    "Что будет выведено на экран?\n",
    "print(np.isnan(np.array([np.nan]).astype(np.int)))"
   ]
  },
  {
   "cell_type": "code",
   "execution_count": 18,
   "metadata": {},
   "outputs": [
    {
     "name": "stdout",
     "output_type": "stream",
     "text": [
      "[False]\n"
     ]
    }
   ],
   "source": [
    "print(np.isnan(np.array([np.nan]).astype(np.int)))"
   ]
  },
  {
   "cell_type": "markdown",
   "metadata": {},
   "source": [
    "Интересно, что в данной контрукции пандас возвращает False"
   ]
  },
  {
   "cell_type": "code",
   "execution_count": 19,
   "metadata": {},
   "outputs": [
    {
     "name": "stdout",
     "output_type": "stream",
     "text": [
      "[False]\n"
     ]
    }
   ],
   "source": [
    "print(pd.isna(np.array([np.nan]).astype(np.int)))"
   ]
  },
  {
   "cell_type": "markdown",
   "metadata": {},
   "source": [
    "## Broadcasting rules"
   ]
  },
  {
   "cell_type": "markdown",
   "metadata": {},
   "source": [
    "Задача 9.\n",
    "1. Создайте масив из четырех элементов: 0, 10, 20, 30\n",
    "2. Создайте двухмерный массив 4x5, в котором первый столбец - массив с шага 1, а каждый элемент каждой строки, начиная со второго,  больше предыдущего элемента этой же строки на 1."
   ]
  },
  {
   "cell_type": "code",
   "execution_count": 20,
   "metadata": {},
   "outputs": [
    {
     "data": {
      "text/plain": [
       "array([[ 0,  1,  2,  3,  4],\n",
       "       [10, 11, 12, 13, 14],\n",
       "       [20, 21, 22, 23, 24],\n",
       "       [30, 31, 32, 33, 34]])"
      ]
     },
     "execution_count": 20,
     "metadata": {},
     "output_type": "execute_result"
    }
   ],
   "source": [
    "a = np.arange(0, 31, 10).reshape(-1, 1)\n",
    "b = np.arange(5)\n",
    "a + b"
   ]
  },
  {
   "cell_type": "markdown",
   "metadata": {},
   "source": [
    "Задача 10.\n",
    "Какой shape будет у результата операции np.arange(5).reshape(1,-1) + np.arange(5).reshape(-1,1)?"
   ]
  },
  {
   "cell_type": "code",
   "execution_count": 21,
   "metadata": {},
   "outputs": [
    {
     "data": {
      "text/plain": [
       "(5, 5)"
      ]
     },
     "execution_count": 21,
     "metadata": {},
     "output_type": "execute_result"
    }
   ],
   "source": [
    "a = np.arange(5).reshape(1, -1) + np.arange(5).reshape(-1, 1)\n",
    "a.shape"
   ]
  },
  {
   "cell_type": "markdown",
   "metadata": {},
   "source": [
    "## Basic slicing and indexing"
   ]
  },
  {
   "cell_type": "markdown",
   "metadata": {},
   "source": [
    "Задача 11.\n",
    "Создайте двумерный массив 8х8, заполненный 0 и 1 в шахматном порядке."
   ]
  },
  {
   "cell_type": "code",
   "execution_count": 22,
   "metadata": {},
   "outputs": [
    {
     "data": {
      "text/plain": [
       "array([[1, 0, 1, 0, 1, 0, 1, 0],\n",
       "       [0, 1, 0, 1, 0, 1, 0, 1],\n",
       "       [1, 0, 1, 0, 1, 0, 1, 0],\n",
       "       [0, 1, 0, 1, 0, 1, 0, 1],\n",
       "       [1, 0, 1, 0, 1, 0, 1, 0],\n",
       "       [0, 1, 0, 1, 0, 1, 0, 1],\n",
       "       [1, 0, 1, 0, 1, 0, 1, 0],\n",
       "       [0, 1, 0, 1, 0, 1, 0, 1]])"
      ]
     },
     "execution_count": 22,
     "metadata": {},
     "output_type": "execute_result"
    }
   ],
   "source": [
    "n = 8\n",
    "a = np.zeros([n, n], dtype=int)\n",
    "a[[range(0, n,2 )], ::2] = 1\n",
    "a[[range(1, n, 2)], 1::2] = 1\n",
    "a"
   ]
  },
  {
   "cell_type": "code",
   "execution_count": 23,
   "metadata": {},
   "outputs": [
    {
     "data": {
      "text/plain": [
       "array([[1, 0, 1, 0, 1, 0, 1, 0],\n",
       "       [0, 1, 0, 1, 0, 1, 0, 1],\n",
       "       [1, 0, 1, 0, 1, 0, 1, 0],\n",
       "       [0, 1, 0, 1, 0, 1, 0, 1],\n",
       "       [1, 0, 1, 0, 1, 0, 1, 0],\n",
       "       [0, 1, 0, 1, 0, 1, 0, 1],\n",
       "       [1, 0, 1, 0, 1, 0, 1, 0],\n",
       "       [0, 1, 0, 1, 0, 1, 0, 1]])"
      ]
     },
     "execution_count": 23,
     "metadata": {},
     "output_type": "execute_result"
    }
   ],
   "source": [
    "n = 8\n",
    "a = np.zeros([n, n], dtype=int)\n",
    "a[[range(0, n, 2)], ::2] = 1\n",
    "a[[range(1, n, 2)], 1::2] = 1\n",
    "a"
   ]
  },
  {
   "cell_type": "markdown",
   "metadata": {},
   "source": [
    "Задача 12.\n",
    "1. Создайте одномерный массив целых чисел от 1 до 5\n",
    "2. Вставьте 0 между каждой парой соседних элементов"
   ]
  },
  {
   "cell_type": "code",
   "execution_count": 24,
   "metadata": {},
   "outputs": [
    {
     "name": "stdout",
     "output_type": "stream",
     "text": [
      "[1. 0. 2. 0. 3. 0. 4. 0. 5.]\n"
     ]
    }
   ],
   "source": [
    "a = np.arange(1, 6, 1)\n",
    "b = np.zeros(a.shape[0]*2 - 1)\n",
    "\n",
    "b[::2] = a\n",
    "print(b)"
   ]
  },
  {
   "cell_type": "markdown",
   "metadata": {},
   "source": [
    "Задача 13.\n",
    "Что будет выведено на экран?\n",
    "x = np.arange(36).reshape(2,3,2,3)\n",
    "print(x[...,0,...])"
   ]
  },
  {
   "cell_type": "code",
   "execution_count": 25,
   "metadata": {},
   "outputs": [],
   "source": [
    "x = np.arange(36).reshape(3, 4, 3)\n",
    "# print(x[...,0,...])"
   ]
  },
  {
   "cell_type": "markdown",
   "metadata": {},
   "source": [
    "Будет выведена ошибка, объект Ellipsys можно использовать только один раз. Трактуется как \"добавить столько ':' сколько нужно."
   ]
  },
  {
   "cell_type": "markdown",
   "metadata": {},
   "source": [
    "В чем разница между x[:,0] и x[...,0] ?"
   ]
  },
  {
   "cell_type": "markdown",
   "metadata": {},
   "source": [
    "Двоеточие подразумевает одну размерность, троеточие любое количество."
   ]
  },
  {
   "cell_type": "markdown",
   "metadata": {},
   "source": [
    "Задача 14.\n",
    "Что будет выведено на экран? (!!!!)"
   ]
  },
  {
   "cell_type": "code",
   "execution_count": 26,
   "metadata": {},
   "outputs": [
    {
     "name": "stdout",
     "output_type": "stream",
     "text": [
      "[[ 0  1  2  3]\n",
      " [ 4  5  6  7]\n",
      " [ 8  9 10 11]\n",
      " [12 13 14 15]]\n"
     ]
    }
   ],
   "source": [
    "x = np.arange(16).reshape(4, 4)\n",
    "y = x[:, [2, 3]]\n",
    "y[:] = 0\n",
    "print(x)"
   ]
  },
  {
   "cell_type": "code",
   "execution_count": 27,
   "metadata": {},
   "outputs": [
    {
     "name": "stdout",
     "output_type": "stream",
     "text": [
      "[[ 0  0  2  3]\n",
      " [ 0  0  6  7]\n",
      " [ 0  0 10 11]\n",
      " [ 0  0 14 15]]\n"
     ]
    }
   ],
   "source": [
    "x = np.arange(16).reshape(4, 4)\n",
    "y = x[:, :2]\n",
    "y[:] = 0\n",
    "print(x)"
   ]
  },
  {
   "cell_type": "markdown",
   "metadata": {},
   "source": [
    "Важная особенность nupmy в том, что при использовании листа или массива возвращается копия среза массива.\n",
    "Использование только среза или числа возвращает ссылки на первоначальный массив. Через такие массивы возможны операции с первоначальным массивом."
   ]
  },
  {
   "cell_type": "markdown",
   "metadata": {},
   "source": [
    "## Boolean array indexing"
   ]
  },
  {
   "cell_type": "markdown",
   "metadata": {},
   "source": [
    "Задача 15. Замените отрицательные элементы массива нулем."
   ]
  },
  {
   "cell_type": "code",
   "execution_count": 28,
   "metadata": {},
   "outputs": [
    {
     "data": {
      "text/plain": [
       "array([0, 0, 0, 0, 0, 0, 1, 2, 3, 4])"
      ]
     },
     "execution_count": 28,
     "metadata": {},
     "output_type": "execute_result"
    }
   ],
   "source": [
    "a = np.arange(-5, 5, 1)\n",
    "a[a < 0] = 0\n",
    "a"
   ]
  },
  {
   "cell_type": "markdown",
   "metadata": {},
   "source": [
    "Задача 16.\n",
    "На примере целочисленного массива x = np.array([[1,2,3], [1,1,1], [2,2,1], [2,2,2]], dtype=int) составьте новый массив, не содержащий строки, полностью заполненные одним уникальным значением."
   ]
  },
  {
   "cell_type": "code",
   "execution_count": 29,
   "metadata": {},
   "outputs": [
    {
     "data": {
      "text/plain": [
       "array([[1, 2, 3],\n",
       "       [2, 2, 1]])"
      ]
     },
     "execution_count": 29,
     "metadata": {},
     "output_type": "execute_result"
    }
   ],
   "source": [
    "x = np.array([[1,2,3], [1,1,1], [2,2,1], [2,2,2]], dtype=int)\n",
    "mask = (x[:, [0]] != x[:, 1:]).any(axis=1)\n",
    "x = x[mask]\n",
    "x"
   ]
  },
  {
   "cell_type": "markdown",
   "metadata": {},
   "source": [
    "Задача 17.\n",
    "Для заданного одномерного массива x выведите все элементы, не превышающие своих соседей (первый и последний элемент сравниваются только со вторым и предпоследним соответственно)."
   ]
  },
  {
   "cell_type": "code",
   "execution_count": 30,
   "metadata": {},
   "outputs": [
    {
     "name": "stdout",
     "output_type": "stream",
     "text": [
      "[0 0 0 0 1 0 1 1 4 1]\n"
     ]
    },
    {
     "data": {
      "text/plain": [
       "array([0, 0, 0, 0, 0, 1, 1])"
      ]
     },
     "execution_count": 30,
     "metadata": {},
     "output_type": "execute_result"
    }
   ],
   "source": [
    "a = np.random.randint(0, 5, 10)\n",
    "print(a)\n",
    "mask = np.ones(10, dtype=bool)\n",
    "mask[1:] *= (a[1:] <= a[:-1])\n",
    "mask[:-1] *= (a[:-1] <= a[1:])\n",
    "a = a[mask]\n",
    "a"
   ]
  },
  {
   "cell_type": "markdown",
   "metadata": {},
   "source": [
    "## Integer array indexing"
   ]
  },
  {
   "cell_type": "markdown",
   "metadata": {},
   "source": [
    "Задача 18.\n",
    "1. Создайте двумерный массив 3x3, заполненный случайными числами от 0 до 9\n",
    "2. Отсортируйте строки массива по возрастанию значения во втором столбце"
   ]
  },
  {
   "cell_type": "code",
   "execution_count": 31,
   "metadata": {},
   "outputs": [
    {
     "name": "stdout",
     "output_type": "stream",
     "text": [
      "[[2 6 8]\n",
      " [4 7 8]\n",
      " [0 1 8]]\n"
     ]
    },
    {
     "data": {
      "text/plain": [
       "array([[2, 1, 8],\n",
       "       [4, 6, 8],\n",
       "       [0, 7, 8]])"
      ]
     },
     "execution_count": 31,
     "metadata": {},
     "output_type": "execute_result"
    }
   ],
   "source": [
    "a = np.random.randint(0, 9, 9).reshape(3, 3)\n",
    "print(a)\n",
    "a[:, 1] = np.sort(a[:, 1])\n",
    "a"
   ]
  },
  {
   "cell_type": "code",
   "execution_count": 32,
   "metadata": {},
   "outputs": [
    {
     "name": "stdout",
     "output_type": "stream",
     "text": [
      "[[7 2 6]\n",
      " [1 8 8]\n",
      " [4 7 5]]\n"
     ]
    },
    {
     "data": {
      "text/plain": [
       "array([[7, 2, 6],\n",
       "       [4, 7, 5],\n",
       "       [1, 8, 8]])"
      ]
     },
     "execution_count": 32,
     "metadata": {},
     "output_type": "execute_result"
    }
   ],
   "source": [
    "a = np.random.randint(0, 9, 9).reshape(3, 3)\n",
    "print(a)\n",
    "index = np.argsort(a[:, 1], axis=0)\n",
    "a = a[index, :]\n",
    "a"
   ]
  },
  {
   "cell_type": "markdown",
   "metadata": {},
   "source": [
    "Задача 19.\n",
    "Поменяйте местами первую и вторую строки двумерного массива."
   ]
  },
  {
   "cell_type": "code",
   "execution_count": 33,
   "metadata": {},
   "outputs": [
    {
     "name": "stdout",
     "output_type": "stream",
     "text": [
      "[[5 7 3]\n",
      " [4 3 1]\n",
      " [4 2 6]]\n"
     ]
    },
    {
     "data": {
      "text/plain": [
       "array([[4, 3, 1],\n",
       "       [5, 7, 3],\n",
       "       [4, 2, 6]])"
      ]
     },
     "execution_count": 33,
     "metadata": {},
     "output_type": "execute_result"
    }
   ],
   "source": [
    "a = np.random.randint(0, 9, 9).reshape(3, 3)\n",
    "print(a)\n",
    "a[[0, 1], :] = a[[1, 0], :]\n",
    "a"
   ]
  },
  {
   "cell_type": "markdown",
   "metadata": {},
   "source": [
    "Задача 20\n",
    "1. Создайте массив 3x5, заполненный числами от 0 до 14\n",
    "2. Выберите 1, 3 строки и 2, 4 столбцы, не удаляя элементы из массива"
   ]
  },
  {
   "cell_type": "code",
   "execution_count": 34,
   "metadata": {},
   "outputs": [
    {
     "name": "stdout",
     "output_type": "stream",
     "text": [
      "[[ 0  1  2  3  4]\n",
      " [ 5  6  7  8  9]\n",
      " [10 11 12 13 14]]\n",
      "[[ 1  3]\n",
      " [11 13]]\n",
      "[[ 0  1  2  3  4]\n",
      " [ 5  6  7  8  9]\n",
      " [10 11 12 13 14]]\n"
     ]
    }
   ],
   "source": [
    "a = np.arange(0, 15, 1).reshape(3, 5)\n",
    "print(a)\n",
    "print(a[np.ix_([0, 2], [1, 3])])\n",
    "print(a)"
   ]
  },
  {
   "cell_type": "markdown",
   "metadata": {},
   "source": [
    "Задача 21\n",
    "Что будет выведено на экран?\n"
   ]
  },
  {
   "cell_type": "code",
   "execution_count": 35,
   "metadata": {},
   "outputs": [
    {
     "name": "stdout",
     "output_type": "stream",
     "text": [
      "[0 0 1]\n",
      "[1 2 2 3 4]\n",
      "[1 3 3 3 4]\n"
     ]
    }
   ],
   "source": [
    "x = np.arange(5)\n",
    "print(x[[0, 0, 1]])\n",
    "x[[0,0,1]] = range(3)\n",
    "print(x)\n",
    "x[[1,2,1]] += 1 # x[[1,2,1]] = x[[1,2,1]] + 1\n",
    "print(x)"
   ]
  },
  {
   "cell_type": "code",
   "execution_count": 36,
   "metadata": {},
   "outputs": [
    {
     "data": {
      "text/plain": [
       "array([3, 3, 3])"
      ]
     },
     "execution_count": 36,
     "metadata": {},
     "output_type": "execute_result"
    }
   ],
   "source": [
    "x[[1,2,1]]"
   ]
  },
  {
   "cell_type": "markdown",
   "metadata": {},
   "source": [
    "## Functions and methods overview"
   ]
  },
  {
   "cell_type": "markdown",
   "metadata": {},
   "source": [
    "Задача 22.\n",
    "Перечислите все известные вам способы преобразования заданного n-мерного массива в одномерный. Какой из способов работает быстрее и почему?"
   ]
  },
  {
   "cell_type": "code",
   "execution_count": 37,
   "metadata": {},
   "outputs": [],
   "source": [
    "a = np.arange(0, 1600, 1).reshape(40, 40)"
   ]
  },
  {
   "cell_type": "code",
   "execution_count": 38,
   "metadata": {},
   "outputs": [
    {
     "name": "stdout",
     "output_type": "stream",
     "text": [
      "813 ns ± 27.8 ns per loop (mean ± std. dev. of 7 runs, 1000000 loops each)\n"
     ]
    }
   ],
   "source": [
    "%%timeit\n",
    "a.flatten()"
   ]
  },
  {
   "cell_type": "code",
   "execution_count": 39,
   "metadata": {},
   "outputs": [
    {
     "name": "stdout",
     "output_type": "stream",
     "text": [
      "197 ns ± 5.77 ns per loop (mean ± std. dev. of 7 runs, 10000000 loops each)\n"
     ]
    }
   ],
   "source": [
    "%%timeit\n",
    "a.ravel()"
   ]
  },
  {
   "cell_type": "code",
   "execution_count": 40,
   "metadata": {},
   "outputs": [
    {
     "name": "stdout",
     "output_type": "stream",
     "text": [
      "543 ns ± 4.19 ns per loop (mean ± std. dev. of 7 runs, 1000000 loops each)\n"
     ]
    }
   ],
   "source": [
    "%%timeit\n",
    "a.reshape(-1,)"
   ]
  },
  {
   "cell_type": "code",
   "execution_count": 41,
   "metadata": {},
   "outputs": [
    {
     "data": {
      "text/plain": [
       "3.85381281375885e-06"
      ]
     },
     "execution_count": 41,
     "metadata": {},
     "output_type": "execute_result"
    }
   ],
   "source": [
    "a = np.arange(0, 1500, 1).reshape(30, 50)\n",
    "timeit.timeit(lambda: a.resize((1500,)), number=1)\n",
    "# print(a)"
   ]
  },
  {
   "cell_type": "markdown",
   "metadata": {},
   "source": [
    "Задача 23.\n",
    "1. Создайте массив, заполненный случайными значениями\n",
    "2. Замените максимальные значения массива средним\n"
   ]
  },
  {
   "cell_type": "code",
   "execution_count": 42,
   "metadata": {},
   "outputs": [
    {
     "name": "stdout",
     "output_type": "stream",
     "text": [
      "[3. 0. 3. 0. 4. 0. 0. 1. 2. 0.]\n",
      "1.3\n"
     ]
    },
    {
     "data": {
      "text/plain": [
       "array([3. , 0. , 3. , 0. , 1.3, 0. , 0. , 1. , 2. , 0. ], dtype=float32)"
      ]
     },
     "execution_count": 42,
     "metadata": {},
     "output_type": "execute_result"
    }
   ],
   "source": [
    "a = np.random.randint(0, 5, 10).astype(np.float32)\n",
    "print(a)\n",
    "print(np.mean(a))\n",
    "a = np.where(a == np.max(a), np.mean(a), a)\n",
    "a"
   ]
  },
  {
   "cell_type": "markdown",
   "metadata": {},
   "source": [
    "Задача 24.\n",
    "1. Создайте двумерный массив 6x6, заполненный случайными значениями\n",
    "2. Сумму по каждой строке поделите на минимальный элемент из столбца с тем же индексом"
   ]
  },
  {
   "cell_type": "code",
   "execution_count": 43,
   "metadata": {},
   "outputs": [
    {
     "name": "stdout",
     "output_type": "stream",
     "text": [
      "[[2 4 2 3 4 1]\n",
      " [5 3 1 3 4 3]\n",
      " [4 5 2 4 2 3]\n",
      " [2 3 5 2 1 4]\n",
      " [1 5 3 1 3 3]\n",
      " [2 5 2 4 3 5]]\n"
     ]
    },
    {
     "data": {
      "text/plain": [
       "array([16.        ,  6.33333333, 20.        , 17.        , 16.        ,\n",
       "       21.        ])"
      ]
     },
     "execution_count": 43,
     "metadata": {},
     "output_type": "execute_result"
    }
   ],
   "source": [
    "a = np.random.randint(1, 6, size=(6, 6))\n",
    "print(a)\n",
    "answer = a.sum(axis=1) / a.min(axis=0)\n",
    "answer"
   ]
  },
  {
   "cell_type": "markdown",
   "metadata": {},
   "source": [
    "Задача 25.\n",
    "1. Создайте одномерный массив длины 10, заполненный случайными значениями\n",
    "2. Линейно отобразите элементы массива в отрезок [0, 1], при этом минимальный элемент должен отобразиться в 0, а максимальный - в 1"
   ]
  },
  {
   "cell_type": "code",
   "execution_count": 44,
   "metadata": {},
   "outputs": [
    {
     "data": {
      "text/plain": [
       "array([1.        , 0.66847026, 0.41676924, 0.00979242, 0.66533349,\n",
       "       0.30978189, 0.10625157, 0.        , 0.43973279, 0.92166662])"
      ]
     },
     "execution_count": 44,
     "metadata": {},
     "output_type": "execute_result"
    }
   ],
   "source": [
    "a = np.random.uniform(1, 8, 10)\n",
    "a = (a - a.min()) / (a.max()-a.min())\n",
    "a"
   ]
  },
  {
   "cell_type": "markdown",
   "metadata": {},
   "source": [
    "Задача 26.\n",
    "Замените все вхождения nan в двумерный массив средним значением по соответствующему столбцу"
   ]
  },
  {
   "cell_type": "code",
   "execution_count": 45,
   "metadata": {},
   "outputs": [
    {
     "name": "stdout",
     "output_type": "stream",
     "text": [
      "[[       nan        nan        nan        nan]\n",
      " [0.49768796 0.54119255 0.12310847 0.7307055 ]\n",
      " [       nan        nan        nan        nan]\n",
      " [0.70023168 0.59429912 0.31725446 0.69573133]\n",
      " [       nan        nan        nan        nan]\n",
      " [0.16494286 0.96218916 0.98648827 0.80672057]]\n"
     ]
    },
    {
     "data": {
      "text/plain": [
       "array([[0.4542875 , 0.69922694, 0.47561707, 0.7443858 ],\n",
       "       [0.49768796, 0.54119255, 0.12310847, 0.7307055 ],\n",
       "       [0.4542875 , 0.69922694, 0.47561707, 0.7443858 ],\n",
       "       [0.70023168, 0.59429912, 0.31725446, 0.69573133],\n",
       "       [0.4542875 , 0.69922694, 0.47561707, 0.7443858 ],\n",
       "       [0.16494286, 0.96218916, 0.98648827, 0.80672057]])"
      ]
     },
     "execution_count": 45,
     "metadata": {},
     "output_type": "execute_result"
    }
   ],
   "source": [
    "a = np.random.uniform(size=(6, 4))\n",
    "a[::2, 0::1] = np.nan\n",
    "print(a)\n",
    "\n",
    "mean = np.nanmean(a, axis=0)\n",
    "cell = np.argwhere([np.isnan(a)])\n",
    "nan_value = mean[cell[:, 2]]\n",
    "a[np.isnan(a)] = nan_value\n",
    "a"
   ]
  },
  {
   "cell_type": "markdown",
   "metadata": {},
   "source": [
    "Задача 27.\n",
    "Проверьте, есть ли в двумерном массиве столбец, полностью заполненый нулями."
   ]
  },
  {
   "cell_type": "code",
   "execution_count": 46,
   "metadata": {},
   "outputs": [
    {
     "name": "stdout",
     "output_type": "stream",
     "text": [
      "[[1 0 1 0 0 0]\n",
      " [1 0 0 0 1 0]\n",
      " [0 0 0 1 1 1]]\n"
     ]
    },
    {
     "data": {
      "text/plain": [
       "True"
      ]
     },
     "execution_count": 46,
     "metadata": {},
     "output_type": "execute_result"
    }
   ],
   "source": [
    "a = np.random.randint(0, 2, size=(3, 6))\n",
    "print(a)\n",
    "mask = (a==0)\n",
    "pos = mask.all(axis=0).any()\n",
    "pos"
   ]
  },
  {
   "cell_type": "markdown",
   "metadata": {},
   "source": [
    "Задача 28.\n",
    "1. Создайте массив случайных чисел от 0 до 9 размером 3x4x3x4\n",
    "2. Вычислите суммы элементов по двум последним осям"
   ]
  },
  {
   "cell_type": "code",
   "execution_count": 47,
   "metadata": {},
   "outputs": [
    {
     "name": "stdout",
     "output_type": "stream",
     "text": [
      "[[[15 17 12 11]\n",
      "  [ 3 15  7 22]\n",
      "  [22 18 14  7]\n",
      "  [23  9 20 13]]\n",
      "\n",
      " [[11  9 14 12]\n",
      "  [ 8  5 10  5]\n",
      "  [11 19 19 15]\n",
      "  [10 10 11  7]]\n",
      "\n",
      " [[18 22 12 11]\n",
      "  [16  8 11 24]\n",
      "  [11  7 12 10]\n",
      "  [12 14 15 21]]]\n",
      "[[[22 15 18]\n",
      "  [19 13 15]\n",
      "  [29 10 22]\n",
      "  [20 32 13]]\n",
      "\n",
      " [[20 13 13]\n",
      "  [ 8 13  7]\n",
      "  [21 29 14]\n",
      "  [ 8 17 13]]\n",
      "\n",
      " [[18 19 26]\n",
      "  [21 21 17]\n",
      "  [11 16 13]\n",
      "  [29  7 26]]]\n"
     ]
    }
   ],
   "source": [
    "a = np.random.randint(0, 10, size=(3, 4, 3, 4))\n",
    "# print(np.sum(a, axis=(-2,-1))) # одна трактовка\n",
    "print(np.sum(a, axis=-2)) # другая трактовка (сумма по одной и по другой оси)\n",
    "print(np.sum(a, axis=-1))"
   ]
  },
  {
   "cell_type": "markdown",
   "metadata": {},
   "source": [
    "Задача 29.\n",
    "1. Любым способом создайте два массива одинаковой длины\n",
    "2. Создайте массив, в котором на четных позициях будут стоять элементы с соответствующих позиций первого массива, а на нечетных - с соответствующих позиций второго"
   ]
  },
  {
   "cell_type": "code",
   "execution_count": 48,
   "metadata": {},
   "outputs": [
    {
     "name": "stdout",
     "output_type": "stream",
     "text": [
      "14.4 µs ± 41.6 ns per loop (mean ± std. dev. of 7 runs, 100000 loops each)\n"
     ]
    }
   ],
   "source": [
    "%%timeit\n",
    "a = np.random.randint(0, 10, 100)\n",
    "b = np.random.uniform(0, 2, 100)\n",
    "c = np.zeros(200)\n",
    "c[::2] = a\n",
    "c[1::2] = b\n",
    "c"
   ]
  },
  {
   "cell_type": "code",
   "execution_count": 49,
   "metadata": {},
   "outputs": [
    {
     "name": "stdout",
     "output_type": "stream",
     "text": [
      "28.4 µs ± 71.2 ns per loop (mean ± std. dev. of 7 runs, 10000 loops each)\n"
     ]
    }
   ],
   "source": [
    "%%timeit\n",
    "a = np.random.randint(0, 10, 100)\n",
    "# print(a)\n",
    "b = np.random.uniform(0, 2, 100)\n",
    "# print(b)\n",
    "c = np.tile([0, 1.], 100)\n",
    "# print(c)\n",
    "# c = np.stack([a,b], axis=1)\n",
    "np.place(c, c==0, a)\n",
    "# print(c)\n",
    "np.place(c, c==1, b)\n",
    "# print(c)\n",
    "c"
   ]
  },
  {
   "cell_type": "code",
   "execution_count": 50,
   "metadata": {},
   "outputs": [
    {
     "name": "stdout",
     "output_type": "stream",
     "text": [
      "21 µs ± 110 ns per loop (mean ± std. dev. of 7 runs, 10000 loops each)\n"
     ]
    }
   ],
   "source": [
    "%%timeit\n",
    "a = np.random.randint(0, 10, 100)\n",
    "# print(a)\n",
    "b = np.random.uniform(0, 2, 100)\n",
    "# print(b)\n",
    "c = np.vstack([a, b])\n",
    "c = c.T.flatten()\n",
    "c"
   ]
  },
  {
   "cell_type": "code",
   "execution_count": 51,
   "metadata": {},
   "outputs": [
    {
     "name": "stdout",
     "output_type": "stream",
     "text": [
      "21.1 µs ± 102 ns per loop (mean ± std. dev. of 7 runs, 10000 loops each)\n"
     ]
    }
   ],
   "source": [
    "%%timeit\n",
    "a = np.random.randint(0, 10, 100)\n",
    "# print(a)\n",
    "b = np.random.uniform(0, 2, 100)\n",
    "# print(b)\n",
    "c = np.vstack([a, b])\n",
    "c = c.T.ravel()\n",
    "c"
   ]
  },
  {
   "cell_type": "markdown",
   "metadata": {},
   "source": [
    "Задача 30.\n",
    "На примере массива x = np.array([[1., 2.], [np.nan, 3.], [5., 5.], [np.nan, np.nan]]) вычислите долю пропущенных значений."
   ]
  },
  {
   "cell_type": "code",
   "execution_count": 52,
   "metadata": {},
   "outputs": [
    {
     "data": {
      "text/plain": [
       "0.375"
      ]
     },
     "execution_count": 52,
     "metadata": {},
     "output_type": "execute_result"
    }
   ],
   "source": [
    "x = np.array([[1., 2.], [np.nan, 3.], [5., 5.], [np.nan, np.nan]])\n",
    "answer = np.isnan(x).sum() / np.prod(x.shape)\n",
    "answer"
   ]
  },
  {
   "cell_type": "markdown",
   "metadata": {},
   "source": [
    "Задача 31.\n",
    "На примере массива x = np.array([[1., 2.], [np.nan, 3.], [5., 5.], [np.nan, np.nan]]) составьте массив из уникальных значений массива без учета nan"
   ]
  },
  {
   "cell_type": "code",
   "execution_count": 53,
   "metadata": {},
   "outputs": [
    {
     "data": {
      "text/plain": [
       "array([1., 2., 3., 5.])"
      ]
     },
     "execution_count": 53,
     "metadata": {},
     "output_type": "execute_result"
    }
   ],
   "source": [
    "x = np.array([[1., 2.], [np.nan, 3.], [5., 5.], [np.nan, np.nan]])\n",
    "uniq = np.unique(x[~np.isnan(x)])\n",
    "uniq"
   ]
  },
  {
   "cell_type": "markdown",
   "metadata": {},
   "source": [
    "Задача 32.\n",
    "На примере массива x = np.array([6, 2, 0, 3, 0, 0, 5, 7, 0]) найдите максимальный элемент в массиве среди элементов, перед которыми стоит нулевой"
   ]
  },
  {
   "cell_type": "code",
   "execution_count": 54,
   "metadata": {},
   "outputs": [
    {
     "data": {
      "text/plain": [
       "5"
      ]
     },
     "execution_count": 54,
     "metadata": {},
     "output_type": "execute_result"
    }
   ],
   "source": [
    "x = np.array([6, 2, 0, 3, 0, 0, 5, 7, 0])\n",
    "i, = np.where(x == 0)\n",
    "maximum = x[i[:-1] + 1].max()\n",
    "maximum"
   ]
  },
  {
   "cell_type": "markdown",
   "metadata": {},
   "source": [
    "Задача 33.\n",
    "Пусть заданы два массива одинакового размера. Поэлементно разделите один массив на другой. В случае, если делитель равен нулю, соответствующему элементу результирующего массива присвойте нуль."
   ]
  },
  {
   "cell_type": "code",
   "execution_count": 55,
   "metadata": {},
   "outputs": [
    {
     "name": "stdout",
     "output_type": "stream",
     "text": [
      "[4 3 1 2 0 4 3 4 2 0]\n",
      "[2 2 1 0 2 2 0 2 2 1]\n"
     ]
    },
    {
     "name": "stderr",
     "output_type": "stream",
     "text": [
      "/opt/conda/lib/python3.6/site-packages/ipykernel_launcher.py:4: RuntimeWarning: divide by zero encountered in true_divide\n",
      "  after removing the cwd from sys.path.\n"
     ]
    },
    {
     "data": {
      "text/plain": [
       "array([2. , 1.5, 1. , 0. , 0. , 2. , 0. , 2. , 1. , 0. ])"
      ]
     },
     "execution_count": 55,
     "metadata": {},
     "output_type": "execute_result"
    }
   ],
   "source": [
    "a = np.random.randint(0, 5, 10)\n",
    "b = np.random.randint(0, 3, 10)\n",
    "print(a, b, sep='\\n')\n",
    "c = np.where(b == 0, 0, a / b)\n",
    "c"
   ]
  },
  {
   "cell_type": "markdown",
   "metadata": {},
   "source": [
    "Задача 34.\n",
    "Пусть заданы два массива x = np.ones(10) и i = np.array([0, 1, 2, 3, 5, 5, 5, 8]). Прибавьте единицу к тем элементам массива x, индексы которых указаны в массиве i. \n",
    "В случае, если некоторый индекс встретился в массиве i несколько раз, прибавьте к соответствующему элементу массива x число вхождений данного индекса в массив i."
   ]
  },
  {
   "cell_type": "code",
   "execution_count": 56,
   "metadata": {},
   "outputs": [
    {
     "name": "stdout",
     "output_type": "stream",
     "text": [
      "[1 1 1 1 0 3 0 0 1]\n"
     ]
    },
    {
     "data": {
      "text/plain": [
       "array([2., 2., 2., 2., 1., 4., 1., 1., 2., 1.])"
      ]
     },
     "execution_count": 56,
     "metadata": {},
     "output_type": "execute_result"
    }
   ],
   "source": [
    "x = np.ones(10)\n",
    "i = np.array([0, 1, 2, 3, 5, 5, 5, 8])\n",
    "print(np.bincount(i))\n",
    "x += np.pad(np.bincount(i), [0, 1], 'constant', constant_values=(0, 0))\n",
    "x"
   ]
  },
  {
   "cell_type": "markdown",
   "metadata": {},
   "source": [
    "Задача 35.\n",
    "По заданному массиву y = np.bincount([0, 0, 3, 8, 10, 10, 11]) постройте массив x такой, чтобы np.bincount(x) = y"
   ]
  },
  {
   "cell_type": "markdown",
   "metadata": {},
   "source": [
    "Интересно, что результат np.nonzero(arr) не хранится в буфере и перевычисляется."
   ]
  },
  {
   "cell_type": "code",
   "execution_count": 57,
   "metadata": {},
   "outputs": [
    {
     "data": {
      "text/plain": [
       "array([ 0,  0,  3,  8, 10, 10, 11])"
      ]
     },
     "execution_count": 57,
     "metadata": {},
     "output_type": "execute_result"
    }
   ],
   "source": [
    "y = np.bincount([0, 0, 3, 8, 10, 10, 11])\n",
    "x = np.repeat(np.arange(y.size), y)\n",
    "x"
   ]
  },
  {
   "cell_type": "markdown",
   "metadata": {},
   "source": [
    "Задача 36.\n",
    "Определите самые часто встречающиеся элементы в массиве целых неотрицательных чисел.\n",
    "Решите задачу на примере массива x = np.array([0,1,2,0,6,6,7,4,5,4])."
   ]
  },
  {
   "cell_type": "code",
   "execution_count": 58,
   "metadata": {},
   "outputs": [
    {
     "data": {
      "text/plain": [
       "array([0, 4, 6])"
      ]
     },
     "execution_count": 58,
     "metadata": {},
     "output_type": "execute_result"
    }
   ],
   "source": [
    "x = np.array([0, 1, 2, 0, 6, 6, 7, 4, 5, 4])\n",
    "i = np.bincount(x)\n",
    "answer, = np.where(i == i.max())\n",
    "answer"
   ]
  },
  {
   "cell_type": "markdown",
   "metadata": {},
   "source": [
    "Задача 37.\n",
    "Разбейте двумерный массив на список двумерных массивов по уникальным значениям в первом столбце.\n",
    "Решите задачу на примере массива x = np.array([[1, 2], [1, 3], [2, 2], [3, 4], [3, 5]]), \n",
    "в результате должен получиться список [array([[1, 2], [1, 3]]), array([[2, 2]]), array([[3, 4], [3, 5]])]."
   ]
  },
  {
   "cell_type": "code",
   "execution_count": 59,
   "metadata": {},
   "outputs": [
    {
     "data": {
      "text/plain": [
       "[array([[1, 2],\n",
       "        [1, 3]]),\n",
       " array([[2, 2]]),\n",
       " array([[3, 4],\n",
       "        [3, 5]])]"
      ]
     },
     "execution_count": 59,
     "metadata": {},
     "output_type": "execute_result"
    }
   ],
   "source": [
    "x = np.array([[1, 2], [1, 3], [2, 2], [3, 4], [3, 5]])\n",
    "m = np.unique(x[:, 0])\n",
    "arr_list = [x[x[:, 0] == i] for i in m]\n",
    "arr_list"
   ]
  },
  {
   "cell_type": "markdown",
   "metadata": {},
   "source": [
    "Notes: indices[indices.nonzero()] работает сильно быстрее чем np.trim_zeros(indices)"
   ]
  },
  {
   "cell_type": "markdown",
   "metadata": {},
   "source": [
    "Задача 38.\n",
    "По заданному одномерному массиву неотрицательных чисел постройте список подмассивов, \n",
    "содержащих элементы из полуинтервалов [i * 10, (i+1) * 10), i = 0, 1, 2, … ]\n",
    "Решите задачу на примере массива x = np.array([8, 2, 34, 0, 11, 18, 13, 2, 24, 10, 20]), \n",
    "в результате должен получиться список [array([0, 2, 2, 8]), array([10, 11, 13, 18]), array([20, 24]), array([34])]."
   ]
  },
  {
   "cell_type": "code",
   "execution_count": 60,
   "metadata": {},
   "outputs": [
    {
     "data": {
      "text/plain": [
       "[array([0, 2, 2, 8]), array([10, 11, 13, 18]), array([20, 24]), array([44])]"
      ]
     },
     "execution_count": 60,
     "metadata": {},
     "output_type": "execute_result"
    }
   ],
   "source": [
    "x = np.array([8, 2, 44, 0, 11, 18, 13, 2, 24, 10, 20])\n",
    "y = x // 10\n",
    "bincount = np.bincount(y)\n",
    "indices = np.unique(bincount.cumsum())\n",
    "answer = np.split(np.sort(x), indices[:-1])\n",
    "answer"
   ]
  },
  {
   "cell_type": "markdown",
   "metadata": {},
   "source": [
    "## Vector stacking"
   ]
  },
  {
   "cell_type": "markdown",
   "metadata": {},
   "source": [
    "Задача 39.\n",
    "Перечислите все известные вам способы соединения заданных двумерных массивов по вертикали. Какой из способов работает быстрее?"
   ]
  },
  {
   "cell_type": "code",
   "execution_count": 61,
   "metadata": {},
   "outputs": [],
   "source": [
    "arrays = [np.eye(3) * (i + 1) for i in range(400)]"
   ]
  },
  {
   "cell_type": "code",
   "execution_count": 62,
   "metadata": {},
   "outputs": [
    {
     "name": "stdout",
     "output_type": "stream",
     "text": [
      "237 µs ± 133 ns per loop (mean ± std. dev. of 7 runs, 1000 loops each)\n"
     ]
    }
   ],
   "source": [
    "%%timeit\n",
    "np.hstack(arrays)"
   ]
  },
  {
   "cell_type": "markdown",
   "metadata": {},
   "source": [
    "преображает массивы в 2d и concatenate их"
   ]
  },
  {
   "cell_type": "code",
   "execution_count": 63,
   "metadata": {},
   "outputs": [
    {
     "name": "stdout",
     "output_type": "stream",
     "text": [
      "789 µs ± 2.95 µs per loop (mean ± std. dev. of 7 runs, 1000 loops each)\n"
     ]
    }
   ],
   "source": [
    "%%timeit\n",
    "np.block(arrays)"
   ]
  },
  {
   "cell_type": "code",
   "execution_count": 64,
   "metadata": {},
   "outputs": [
    {
     "name": "stdout",
     "output_type": "stream",
     "text": [
      "69.3 µs ± 75.2 ns per loop (mean ± std. dev. of 7 runs, 10000 loops each)\n"
     ]
    }
   ],
   "source": [
    "%%timeit\n",
    "np.concatenate(arrays, axis=1)"
   ]
  },
  {
   "cell_type": "markdown",
   "metadata": {},
   "source": [
    "concatenate возвращает masked array, в котором масками задается отображением массивов, которые мы хотим сцепить.\n",
    "\n",
    "stack создает новую ось и конкатеринует вдоль неё"
   ]
  },
  {
   "cell_type": "code",
   "execution_count": 65,
   "metadata": {},
   "outputs": [
    {
     "data": {
      "text/plain": [
       "array([[1., 0., 0.],\n",
       "       [0., 1., 0.],\n",
       "       [0., 0., 1.],\n",
       "       [2., 0., 0.],\n",
       "       [0., 2., 0.],\n",
       "       [0., 0., 2.]])"
      ]
     },
     "execution_count": 65,
     "metadata": {},
     "output_type": "execute_result"
    }
   ],
   "source": [
    "np.append(arrays[0], arrays[1], axis=0)"
   ]
  },
  {
   "cell_type": "markdown",
   "metadata": {},
   "source": [
    "np.append работает медленее всех."
   ]
  },
  {
   "cell_type": "markdown",
   "metadata": {},
   "source": [
    "Задача 40.\n",
    "\n",
    "Для двух одномерных массивов x = np.arange(3) и y = np.arange(5) постройте двумерный массив строки которого - всевозможные пары элементов из x и y."
   ]
  },
  {
   "cell_type": "code",
   "execution_count": 66,
   "metadata": {},
   "outputs": [
    {
     "data": {
      "text/plain": [
       "array([[0, 0],\n",
       "       [0, 1],\n",
       "       [0, 2],\n",
       "       [0, 3],\n",
       "       [0, 4],\n",
       "       [1, 0],\n",
       "       [1, 1],\n",
       "       [1, 2],\n",
       "       [1, 3],\n",
       "       [1, 4],\n",
       "       [2, 0],\n",
       "       [2, 1],\n",
       "       [2, 2],\n",
       "       [2, 3],\n",
       "       [2, 4]])"
      ]
     },
     "execution_count": 66,
     "metadata": {},
     "output_type": "execute_result"
    }
   ],
   "source": [
    "x = np.arange(3)\n",
    "y = np.arange(5)\n",
    "z = np.stack([np.repeat(x, len(y)), np.tile(y, len(x))], axis=1)\n",
    "z"
   ]
  },
  {
   "cell_type": "markdown",
   "metadata": {},
   "source": [
    "Задача 41.\n",
    "\n",
    "По двум входным одномерным массивам одинаковой длины составьте массив пар элементов с одинаковыми индексами.\n",
    "Решите задачу на примере массивов x = np.array([1,2,3,4]) и y = np.array([5,6,7,8])."
   ]
  },
  {
   "cell_type": "code",
   "execution_count": 67,
   "metadata": {},
   "outputs": [
    {
     "data": {
      "text/plain": [
       "array([[1, 5],\n",
       "       [2, 6],\n",
       "       [3, 7],\n",
       "       [4, 8]])"
      ]
     },
     "execution_count": 67,
     "metadata": {},
     "output_type": "execute_result"
    }
   ],
   "source": [
    "x = np.array([1, 2, 3, 4])\n",
    "y = np.array([5, 6, 7, 8])\n",
    "z = np.stack([x, y], axis=1)\n",
    "z"
   ]
  },
  {
   "cell_type": "markdown",
   "metadata": {},
   "source": [
    "Задача 42.\n",
    "\n",
    "По заданному непустому списку двумерных массивов одинаковых размеров составьте трехмерный массив в котором вдоль нулевой оси расположены массивы из списка, между каждой парой которых вставлен массив полностью заполненный нулями.\n",
    "Решите задачу для списка l = [np.array([[1, 2], [3, 4]]), np.array([[5, 6], [7, 8]]), np.array([[9, 10], [11, 12]])]."
   ]
  },
  {
   "cell_type": "code",
   "execution_count": 68,
   "metadata": {},
   "outputs": [
    {
     "name": "stdout",
     "output_type": "stream",
     "text": [
      "[3, 2, 2]\n"
     ]
    },
    {
     "data": {
      "text/plain": [
       "array([[[ 1.,  2.],\n",
       "        [ 3.,  4.]],\n",
       "\n",
       "       [[ 0.,  0.],\n",
       "        [ 0.,  0.]],\n",
       "\n",
       "       [[ 5.,  6.],\n",
       "        [ 7.,  8.]],\n",
       "\n",
       "       [[ 0.,  0.],\n",
       "        [ 0.,  0.]],\n",
       "\n",
       "       [[ 9., 10.],\n",
       "        [11., 12.]]])"
      ]
     },
     "execution_count": 68,
     "metadata": {},
     "output_type": "execute_result"
    }
   ],
   "source": [
    "lst = [np.array([[1, 2], [3, 4]]), np.array([[5, 6], [7, 8]]), np.array([[9, 10], [11, 12]])]\n",
    "lst = np.asarray(lst)\n",
    "shape = list(lst.shape)\n",
    "print(shape)\n",
    "shape[0] = shape[0]*2 -1\n",
    "answer = np.zeros(shape=shape)\n",
    "answer[::2, :, :] = lst\n",
    "answer"
   ]
  },
  {
   "cell_type": "markdown",
   "metadata": {},
   "source": [
    "## Stride tricks"
   ]
  },
  {
   "cell_type": "code",
   "execution_count": 69,
   "metadata": {},
   "outputs": [],
   "source": [
    "from numpy.lib.stride_tricks import as_strided"
   ]
  },
  {
   "cell_type": "markdown",
   "metadata": {},
   "source": [
    "Задача 43.\n",
    "\n",
    "Преобразуйте одномерный массив x = np.array([3,7,2,5,0,9,8,2,4,5]) в двумерный массив, первая строка которого - элементы массива x с индексами от 0 до 4, вторая строка - с 1 до 5 и т.д."
   ]
  },
  {
   "cell_type": "code",
   "execution_count": 70,
   "metadata": {},
   "outputs": [
    {
     "data": {
      "text/plain": [
       "array([[3, 7, 2],\n",
       "       [7, 2, 5],\n",
       "       [2, 5, 0],\n",
       "       [5, 0, 9],\n",
       "       [0, 9, 8],\n",
       "       [9, 8, 2],\n",
       "       [8, 2, 4],\n",
       "       [2, 4, 5]])"
      ]
     },
     "execution_count": 70,
     "metadata": {},
     "output_type": "execute_result"
    }
   ],
   "source": [
    "x = np.array([3, 7, 2, 5, 0, 9, 8, 2, 4, 5])\n",
    "window = 3\n",
    "shape = [x.shape[0] - window + 1, window]\n",
    "answer = as_strided(x, shape=shape, strides=(x.strides[0], x.strides[0]))\n",
    "answer"
   ]
  },
  {
   "cell_type": "markdown",
   "metadata": {},
   "source": [
    "Задача 44.\n",
    "\n",
    "Для заданного двумерного массива постройте трехмерный массив, содержащий всевозможные неперекрывающиеся блоки размера 3x3, начиная с левого верхнего угла. Если высота/ширина исходного массива не кратна трем, исключите из рассмотрения последние строки/столбцы.\n",
    "Решите задачу на примере массива x = np.arange(49).reshape(7,7)."
   ]
  },
  {
   "cell_type": "code",
   "execution_count": 71,
   "metadata": {},
   "outputs": [
    {
     "name": "stdout",
     "output_type": "stream",
     "text": [
      "[[ 0  1  2  3  4  5  6]\n",
      " [ 7  8  9 10 11 12 13]\n",
      " [14 15 16 17 18 19 20]\n",
      " [21 22 23 24 25 26 27]\n",
      " [28 29 30 31 32 33 34]\n",
      " [35 36 37 38 39 40 41]\n",
      " [42 43 44 45 46 47 48]]\n",
      "(56, 8)\n"
     ]
    },
    {
     "data": {
      "text/plain": [
       "array([[[ 0,  1,  2],\n",
       "        [ 7,  8,  9],\n",
       "        [14, 15, 16]],\n",
       "\n",
       "       [[ 3,  4,  5],\n",
       "        [10, 11, 12],\n",
       "        [17, 18, 19]],\n",
       "\n",
       "       [[21, 22, 23],\n",
       "        [28, 29, 30],\n",
       "        [35, 36, 37]],\n",
       "\n",
       "       [[24, 25, 26],\n",
       "        [31, 32, 33],\n",
       "        [38, 39, 40]]])"
      ]
     },
     "execution_count": 71,
     "metadata": {},
     "output_type": "execute_result"
    }
   ],
   "source": [
    "x = np.arange(49).reshape(7, 7)\n",
    "print(x)\n",
    "print(x.strides)\n",
    "kernel = np.array([3, 3])\n",
    "shape = [x.shape[0] // 3, x.shape[1] // 3]\n",
    "(as_strided(x, \n",
    "            shape=(shape[0], shape[1], kernel[0], kernel[1]), \n",
    "            strides=(x.strides[0]*kernel[0], x.strides[1]*kernel[1], x.strides[0], x.strides[1]))\n",
    "            .reshape([shape[0]*shape[1], kernel[0], kernel[1]]))"
   ]
  },
  {
   "cell_type": "markdown",
   "metadata": {},
   "source": [
    "## Masked arrays"
   ]
  },
  {
   "cell_type": "markdown",
   "metadata": {},
   "source": [
    "Задача 45.\n",
    "\n",
    "Примените маску к элементам одномерного массива, отличающимся от среднего на величину, большую чем 3 стандартных отклонения.\n",
    "Решите задачу на примере массива из 20 элеметнов, первый из которых равен 100, а остальные равны 0."
   ]
  },
  {
   "cell_type": "code",
   "execution_count": 72,
   "metadata": {},
   "outputs": [
    {
     "data": {
      "text/plain": [
       "masked_array(data=[--, 0.0, 0.0, 0.0, 0.0, 0.0, 0.0, 0.0, 0.0, 0.0, 0.0,\n",
       "                   0.0, 0.0, 0.0, 0.0, 0.0, 0.0, 0.0, 0.0, 0.0, 0.0, 0.0,\n",
       "                   0.0, 0.0, 0.0, 0.0, 0.0, 0.0, 0.0, 0.0, 0.0, 0.0, 0.0,\n",
       "                   0.0, 0.0, 0.0, 0.0, 0.0, 0.0, 0.0, 0.0, 0.0, 0.0, 0.0,\n",
       "                   0.0, 0.0, 0.0, 0.0, 0.0, 0.0, 0.0, 0.0, 0.0, 0.0, 0.0,\n",
       "                   0.0, 0.0, 0.0, 0.0, 0.0, 0.0, 0.0, 0.0, 0.0, 0.0, 0.0,\n",
       "                   0.0, 0.0, 0.0, 0.0, 0.0, 0.0, 0.0, 0.0, 0.0, 0.0, 0.0,\n",
       "                   0.0, 0.0, 0.0, 0.0, 0.0, 0.0, 0.0, 0.0, 0.0, 0.0, 0.0,\n",
       "                   0.0, 0.0, 0.0, 0.0, 0.0, 0.0, 0.0, 0.0, 0.0, 0.0, 0.0,\n",
       "                   0.0],\n",
       "             mask=[ True, False, False, False, False, False, False, False,\n",
       "                   False, False, False, False, False, False, False, False,\n",
       "                   False, False, False, False, False, False, False, False,\n",
       "                   False, False, False, False, False, False, False, False,\n",
       "                   False, False, False, False, False, False, False, False,\n",
       "                   False, False, False, False, False, False, False, False,\n",
       "                   False, False, False, False, False, False, False, False,\n",
       "                   False, False, False, False, False, False, False, False,\n",
       "                   False, False, False, False, False, False, False, False,\n",
       "                   False, False, False, False, False, False, False, False,\n",
       "                   False, False, False, False, False, False, False, False,\n",
       "                   False, False, False, False, False, False, False, False,\n",
       "                   False, False, False, False],\n",
       "       fill_value=1e+20)"
      ]
     },
     "execution_count": 72,
     "metadata": {},
     "output_type": "execute_result"
    }
   ],
   "source": [
    "x = np.zeros(100)\n",
    "x[0] = 100\n",
    "mean, std = np.mean(x), np.std(x)\n",
    "x_mask = np.ma.masked_outside(x, mean - 3 * std, mean + 3 * std)\n",
    "x_mask"
   ]
  },
  {
   "cell_type": "markdown",
   "metadata": {},
   "source": [
    "Задача 46.\n",
    "\n",
    "Удалите из двумерного массива столбцы, ко всем элементам которых применена маска.\n",
    "Решите задачу на примере массива x = np.ma.array([[1, 2, 3], [4, 5, 6]], mask=[[1, 1, 0], [0, 1, 0]])."
   ]
  },
  {
   "cell_type": "code",
   "execution_count": 73,
   "metadata": {},
   "outputs": [
    {
     "data": {
      "text/plain": [
       "masked_array(\n",
       "  data=[[1, 3],\n",
       "        [4, 6]],\n",
       "  mask=False,\n",
       "  fill_value=999999)"
      ]
     },
     "execution_count": 73,
     "metadata": {},
     "output_type": "execute_result"
    }
   ],
   "source": [
    "x = np.ma.array([[1, 2, 3], [4, 5, 6]], mask=[[1, 1, 0], [0, 1, 0]])\n",
    "new_mask = np.all(np.ma.getmask(x), axis=0, keepdims=True)\n",
    "x = np.delete(x, new_mask.squeeze(), axis=1)\n",
    "x"
   ]
  },
  {
   "cell_type": "markdown",
   "metadata": {},
   "source": [
    "Задача 47.\n",
    "\n",
    "Примените маску к минимальному и максимальному элементу каждой строки двумерного массива.\n",
    "Решите задачу на примере массива x = np.arange(25).reshape(5, 5)."
   ]
  },
  {
   "cell_type": "code",
   "execution_count": 74,
   "metadata": {},
   "outputs": [
    {
     "name": "stdout",
     "output_type": "stream",
     "text": [
      "[[3 6 4 2 7]\n",
      " [5 6 7 3 8]\n",
      " [8 2 1 3 3]\n",
      " [8 1 5 1 8]\n",
      " [8 8 1 0 6]]\n"
     ]
    },
    {
     "data": {
      "text/plain": [
       "masked_array(\n",
       "  data=[[3, 6, 4, --, --],\n",
       "        [5, 6, 7, --, --],\n",
       "        [--, 2, --, 3, 3],\n",
       "        [--, --, 5, --, --],\n",
       "        [--, --, 1, --, 6]],\n",
       "  mask=[[False, False, False,  True,  True],\n",
       "        [False, False, False,  True,  True],\n",
       "        [ True, False,  True, False, False],\n",
       "        [ True,  True, False,  True,  True],\n",
       "        [ True,  True, False,  True, False]],\n",
       "  fill_value=999999)"
      ]
     },
     "execution_count": 74,
     "metadata": {},
     "output_type": "execute_result"
    }
   ],
   "source": [
    "x = np.random.randint(9, size=(5, 5))\n",
    "print(x)\n",
    "x_max = x.max(axis=1).reshape(-1, 1)\n",
    "x_min = x.min(axis=1).reshape(-1, 1)\n",
    "mask = (x == x_max) + (x == x_min)\n",
    "x_masked = np.ma.masked_array(x, mask)\n",
    "x_masked"
   ]
  },
  {
   "cell_type": "markdown",
   "metadata": {},
   "source": [
    "## Iterating over arrays"
   ]
  },
  {
   "cell_type": "markdown",
   "metadata": {},
   "source": [
    "Задача 48.\n",
    "\n",
    "Примените медианный фильтр с нечетной шириной окна k к заданному одномерному массиву a: i-е значение результирующего массива вычисляется как медиана подмассива a[i - (k-1)/2: i - (k-1)/2 + 1]. В случае если границы окна выходят за границы массива, дополните исходный массив требуемым числом элементов a[0] или a[-1] с нужной стороны.\n",
    "Решите задачу на примере массива a = np.array([3, 8, 100, -3, -7, 4, 0, 2]) и ширины окна k = 5."
   ]
  },
  {
   "cell_type": "code",
   "execution_count": 75,
   "metadata": {},
   "outputs": [
    {
     "data": {
      "text/plain": [
       "array([3., 3., 3., 4., 0., 0., 2., 2.])"
      ]
     },
     "execution_count": 75,
     "metadata": {},
     "output_type": "execute_result"
    }
   ],
   "source": [
    "def median_filter(arr, k=5):\n",
    "    result = np.empty(shape=arr.shape)\n",
    "    arr = np.pad(arr, [k//2, k//2], 'constant', constant_values=(arr[0], arr[-1]))\n",
    "    for i in range(len(arr) - 2 * (k//2)):\n",
    "        buffer = arr[i:i+k]\n",
    "        result[i] = np.median(buffer)\n",
    "    return result\n",
    "    \n",
    "a = np.array([3, 8, 100, -3, -7, 4, 0, 2])\n",
    "answer = median_filter(a)\n",
    "answer"
   ]
  },
  {
   "cell_type": "markdown",
   "metadata": {},
   "source": [
    "Задача 49.\n",
    "\n",
    "По заданному массиву a размера Nx2 постройте одномерный массив длины N, i-й элемент которого - сумма i-го элемента первого столбца массива a и элемента первого столбца, индекс которого содержится в i-й строке второго столбца. В случае, если во втором столбце массива a содержится индекс, выходящий за границы, к элементу первого столбца ничего не прибавляйте.\n",
    "Решите задачу на примере массива a = np.array([[10, 1], [3, 1], [8, 2], [6, 1], [12, 5]])."
   ]
  },
  {
   "cell_type": "code",
   "execution_count": 76,
   "metadata": {},
   "outputs": [
    {
     "name": "stdout",
     "output_type": "stream",
     "text": [
      "[[10  1]\n",
      " [ 3  1]\n",
      " [ 8  2]\n",
      " [ 6  1]\n",
      " [12  5]]\n"
     ]
    },
    {
     "data": {
      "text/plain": [
       "array([13,  6, 16,  9, 12])"
      ]
     },
     "execution_count": 76,
     "metadata": {},
     "output_type": "execute_result"
    }
   ],
   "source": [
    "a = np.array([[10, 1], [3, 1], [8, 2], [6, 1], [12, 5]])\n",
    "print(a)\n",
    "answer = a[:, 0].copy()\n",
    "for i, y in enumerate(np.nditer(a[:, 1])):\n",
    "    if y < a.shape[0]:\n",
    "        answer[i] += a[y, 0]         \n",
    "answer"
   ]
  },
  {
   "cell_type": "markdown",
   "metadata": {},
   "source": [
    "Задача 50.\n",
    "\n",
    "По заданному двумерному массиву размера NxN постройте словарь, ключи которого - индексы диагоналей, параллельных побочной (нумерация начинается с 0), а значения - списки элементов исходного массива, лежащих на соответствующих диагоналях.\n",
    "Решите задачу на примере массива a = np.arange(16).reshape(4, 4), в результате должен получиться словарь\n",
    "{0: [0],\n",
    " 1: [1, 4],\n",
    " 2: [2, 5, 8],\n",
    " 3: [3, 6, 9, 12],\n",
    " 4: [7, 10, 13],\n",
    " 5: [11, 14],\n",
    " 6: [15]}."
   ]
  },
  {
   "cell_type": "code",
   "execution_count": 77,
   "metadata": {},
   "outputs": [
    {
     "data": {
      "text/plain": [
       "defaultdict(list,\n",
       "            {0: [0],\n",
       "             1: [1, 4],\n",
       "             2: [2, 5, 8],\n",
       "             3: [3, 6, 9, 12],\n",
       "             4: [7, 10, 13],\n",
       "             5: [11, 14],\n",
       "             6: [15]})"
      ]
     },
     "execution_count": 77,
     "metadata": {},
     "output_type": "execute_result"
    }
   ],
   "source": [
    "from collections import defaultdict\n",
    "\n",
    "a = np.arange(16).reshape(4, 4)\n",
    "answer = defaultdict(list)\n",
    "for i, x in np.ndenumerate(a):\n",
    "    answer[sum(i)].append(x)\n",
    "answer"
   ]
  }
 ],
 "metadata": {
  "kernelspec": {
   "display_name": "Python 3",
   "language": "python",
   "name": "python3"
  },
  "language_info": {
   "codemirror_mode": {
    "name": "ipython",
    "version": 3
   },
   "file_extension": ".py",
   "mimetype": "text/x-python",
   "name": "python",
   "nbconvert_exporter": "python",
   "pygments_lexer": "ipython3",
   "version": "3.6.10"
  }
 },
 "nbformat": 4,
 "nbformat_minor": 4
}
