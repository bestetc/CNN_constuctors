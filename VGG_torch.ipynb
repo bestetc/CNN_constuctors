{
 "cells": [
  {
   "cell_type": "markdown",
   "metadata": {},
   "source": [
    "# Тестовая задача\n",
    "### Делаем pipeline для обучения модели VGG на датасете imagenette\n",
    "### Oсновые блоки\n",
    "    - Загрузка датасета\n",
    "    - Предобработка данных и создание Dataloader'a\n",
    "    - Создание модели VGG\n",
    "    - Запуск тренировки с подсчетом метрик\n",
    "    "
   ]
  },
  {
   "cell_type": "markdown",
   "metadata": {},
   "source": [
    "### Загружаем датасет imagenette"
   ]
  },
  {
   "cell_type": "code",
   "execution_count": null,
   "metadata": {},
   "outputs": [],
   "source": [
    "conda install -c fastai -c pytorch fastai"
   ]
  },
  {
   "cell_type": "code",
   "execution_count": null,
   "metadata": {},
   "outputs": [],
   "source": [
    "help(untar_data)"
   ]
  },
  {
   "cell_type": "code",
   "execution_count": null,
   "metadata": {},
   "outputs": [],
   "source": [
    "path = untar_data(URLs.IMAGENETTE_320, dest ='./imagenette/')\n",
    "path"
   ]
  },
  {
   "cell_type": "markdown",
   "metadata": {},
   "source": [
    "## Pipeline. На 200 эпохах accuracy на тестовом датасете 70%."
   ]
  },
  {
   "cell_type": "code",
   "execution_count": 1,
   "metadata": {},
   "outputs": [],
   "source": [
    "import torch\n",
    "import torchvision\n",
    "from torch import nn\n",
    "from fastai import *\n",
    "from fastai.vision import *\n",
    "import pandas as pd"
   ]
  },
  {
   "cell_type": "code",
   "execution_count": 2,
   "metadata": {},
   "outputs": [],
   "source": [
    "# hyper params\n",
    "batch_size = 32\n",
    "num_epoch = 200"
   ]
  },
  {
   "cell_type": "markdown",
   "metadata": {},
   "source": [
    "### Посмортим csv, приложенный к датасету. "
   ]
  },
  {
   "cell_type": "code",
   "execution_count": null,
   "metadata": {},
   "outputs": [],
   "source": [
    "labels_df = pd.read_csv('../imagenette/imagenette2-320/noisy_imagenette.csv')\n",
    "labels_df.head()"
   ]
  },
  {
   "cell_type": "code",
   "execution_count": null,
   "metadata": {},
   "outputs": [],
   "source": [
    "for cols in labels_df.columns:\n",
    "    print(cols, ' have ', len(labels_df[cols].unique()), 'labels')"
   ]
  },
  {
   "cell_type": "markdown",
   "metadata": {},
   "source": [
    "### Создаем DataLoader попутно предобрабатывая данные"
   ]
  },
  {
   "cell_type": "code",
   "execution_count": 3,
   "metadata": {},
   "outputs": [
    {
     "name": "stderr",
     "output_type": "stream",
     "text": [
      "/opt/conda/lib/python3.6/site-packages/torchvision/transforms/transforms.py:704: UserWarning: The use of the transforms.RandomSizedCrop transform is deprecated, please use transforms.RandomResizedCrop instead.\n",
      "  \"please use transforms.RandomResizedCrop instead.\")\n"
     ]
    }
   ],
   "source": [
    "from torchvision import transforms, datasets\n",
    "\n",
    "train_transform = transforms.Compose([\n",
    "        transforms.Resize((260,260)),\n",
    "        transforms.RandomSizedCrop(224),\n",
    "        transforms.RandomHorizontalFlip(),\n",
    "        transforms.ToTensor(),\n",
    "        transforms.Normalize(mean=[0.485, 0.456, 0.406],\n",
    "                             std=[0.229, 0.224, 0.225])\n",
    "    ])\n",
    "test_transform = transforms.Compose([\n",
    "        transforms.Resize((224,224)),\n",
    "#         transforms.CenterCrop(224),\n",
    "        transforms.ToTensor(),\n",
    "        transforms.Normalize(mean=[0.485, 0.456, 0.406],\n",
    "                             std=[0.229, 0.224, 0.225])\n",
    "    ])\n",
    "\n",
    "trainset = datasets.ImageFolder(root='../imagenette/imagenette2-320/train/', transform=train_transform)\n",
    "trainloader = torch.utils.data.DataLoader(trainset, batch_size=batch_size,\n",
    "                                          shuffle=True)\n",
    "testset = datasets.ImageFolder(root='../imagenette/imagenette2-320/val/', transform=test_transform)\n",
    "testloader = torch.utils.data.DataLoader(testset, #batch_size=batch_size,\n",
    "                                         shuffle=False)"
   ]
  },
  {
   "cell_type": "markdown",
   "metadata": {},
   "source": [
    "Давайте глянем на примеры картинок и проверим значения классов для них"
   ]
  },
  {
   "cell_type": "code",
   "execution_count": null,
   "metadata": {},
   "outputs": [],
   "source": [
    "import matplotlib.pyplot as plt\n",
    "import numpy as np\n",
    "\n",
    "# functions to show an image\n",
    "\n",
    "def imshow(img):\n",
    "    img = img / 2 + 0.5     # unnormalize\n",
    "    npimg = img.numpy()\n",
    "    plt.imshow(np.transpose(npimg, (1, 2, 0)))\n",
    "    plt.show()\n",
    "\n",
    "# get some random training images\n",
    "dataiter = iter(trainloader)\n",
    "images, labels = dataiter.next()\n",
    "\n",
    "# show images\n",
    "imshow(torchvision.utils.make_grid(images))\n",
    "print(labels)\n"
   ]
  },
  {
   "cell_type": "markdown",
   "metadata": {},
   "source": [
    "## Создаем модель VGG. Делаем VGG-16 и выкидаем слои согласно \"некоторой стратегии\"."
   ]
  },
  {
   "cell_type": "code",
   "execution_count": null,
   "metadata": {},
   "outputs": [],
   "source": [
    "class VGG(nn.Module):\n",
    "    def __init__(self):\n",
    "        super().__init__()\n",
    "        self.layer1 = nn.Sequential(\n",
    "            # 224x224x64\n",
    "            nn.Conv2d(3, 64, kernel_size=3, stride=1, padding=1),\n",
    "            nn.ReLU(),\n",
    "            nn.Conv2d(64, 64, kernel_size=3, stride=1, padding=1),\n",
    "            nn.ReLU(),\n",
    "            nn.MaxPool2d(kernel_size=2, stride=2)\n",
    "            )\n",
    "        self.layer2 = nn.Sequential(\n",
    "            # 112x112x128\n",
    "            nn.Conv2d(64, 128, kernel_size=3, stride=1, padding=1),\n",
    "            nn.ReLU(),\n",
    "#             nn.Conv2d(128,128, kernel_size=3, stride=1, padding=1),\n",
    "#             nn.ReLU(),\n",
    "            nn.MaxPool2d(kernel_size=2, stride=2)\n",
    "            )\n",
    "        self.layer3 = nn.Sequential(\n",
    "            # 56x56x256\n",
    "            nn.Conv2d(128,256, kernel_size=3,stride=1, padding=1),\n",
    "            nn.ReLU(),\n",
    "#             nn.Conv2d(256,256, kernel_size=3, stride=1, padding=1),\n",
    "#             nn.ReLU(),\n",
    "#             nn.Conv2d(256, 256, kernel_size=3, stride=1, padding=1),\n",
    "#             nn.ReLU(),\n",
    "            nn.MaxPool2d(kernel_size=2, stride=2)\n",
    "            )\n",
    "        self.layer4 = nn.Sequential(\n",
    "            # 28x28x512\n",
    "            nn.Conv2d(256,512, kernel_size=3,stride=1, padding=1),\n",
    "            nn.ReLU(),\n",
    "#             nn.Conv2d(512, 512, kernel_size=3, stride=1, padding=1),\n",
    "#             nn.ReLU(),\n",
    "#             nn.Conv2d(512, 512, kernel_size=3, stride=1, padding=1),\n",
    "#             nn.ReLU(),\n",
    "            nn.MaxPool2d(kernel_size=2, stride=2)\n",
    "            )\n",
    "        self.layer5 = nn.Sequential(\n",
    "            # 14x14x512\n",
    "            nn.Conv2d(512, 512, kernel_size=3, stride=1, padding=1),\n",
    "            nn.ReLU(),\n",
    "#             nn.Conv2d(512, 512, kernel_size=3, stride=1, padding=1),\n",
    "#             nn.ReLU(),\n",
    "#             nn.Conv2d(512, 512, kernel_size=3, stride=1, padding=1),\n",
    "#             nn.ReLU(),\n",
    "            nn.MaxPool2d(kernel_size=2, stride=2)\n",
    "            )\n",
    "        self.dense_layer = nn.Sequential(\n",
    "            # 7x7x512 -> 1x1x4096 -> 1x1x1000 -> softmax\n",
    "            nn.Linear(in_features=7*7*512, out_features = 128),\n",
    "            nn.Dropout(.5),\n",
    "            nn.ReLU(),\n",
    "#             nn.Linear(in_features=256, out_features=128),\n",
    "#             nn.Dropout(.5),\n",
    "#             nn.ReLU(),\n",
    "            nn.Linear(in_features=128, out_features=10),\n",
    "#             nn.ReLU(),\n",
    "#             nn.Softmax(dim=1)\n",
    "#             nn.CrossEntropyLoss()\n",
    "            )\n",
    "    def forward(self, input):\n",
    "        x = self.layer1(input)\n",
    "        x = self.layer2(x)\n",
    "        x = self.layer3(x)\n",
    "        x = self.layer4(x)\n",
    "        x = self.layer5(x)\n",
    "        x = x.view(x.size(0), -1)\n",
    "#         print(x.shape)\n",
    "        out = self.dense_layer(x)\n",
    "#         print(out.shape)\n",
    "        return out"
   ]
  },
  {
   "cell_type": "markdown",
   "metadata": {},
   "source": [
    "## Создаем конструктор VGG-like сетей.\n",
    "\n",
    "### В конструктор подается словарь с параметрами сети:\n",
    "\n",
    "body_input - разрешение и кол-во каналов входящего изображения [высота, ширина, каналы].\n",
    "\n",
    "conv_layers - параметры сверточных блоков тела сети. Каждый блок задается как [кол-во сверточных слоев, padding, stride]. \n",
    "\n",
    "Padding и stride задаются для всех сверточных слоев в данном блоке.\n",
    "\n",
    "linear_layers - параметры линейный слоев сети. [кол-во линейных слоев, кол-во нейронов в каждом слое]. в кол-во слоев включается слой на кол-во классов\n",
    "\n",
    "class_qty - кол-во классов."
   ]
  },
  {
   "cell_type": "code",
   "execution_count": 4,
   "metadata": {},
   "outputs": [],
   "source": [
    "params = {\n",
    "    'body_input': [224, 224, 3], # list height, width, channel\n",
    "    'conv_layers': [[2, 1, 1], [2,1,1], [3,1,1],[3,1,1], [3,1,1]], # list of lists. each layer should be list: qty conv layers, stride same or valid, padding\n",
    "    'linear_layers': [3, 128], # qty linear layers, qty neurons\n",
    "    'class_qty': [10]    \n",
    "}"
   ]
  },
  {
   "cell_type": "code",
   "execution_count": 5,
   "metadata": {},
   "outputs": [],
   "source": [
    "class VGG_like(nn.Module):\n",
    "\n",
    "    def __init__(self, params):\n",
    "        self.body_input = params['body_input']\n",
    "        self.conv_layers = params['conv_layers']\n",
    "#         self.body_output_shape = params['body_output_shape']\n",
    "        self.linear_layers = params['linear_layers']\n",
    "        self.class_qty = params['class_qty']\n",
    "        \n",
    "        super().__init__()\n",
    "        \n",
    "        def conv_block(conv_layer, resolution=None, i=None):\n",
    "            for qty in range(conv_layer[0]):\n",
    "                self.channels_out = min(64*(2**i), 512)\n",
    "                self.body.add_module(name='Block%2d_Conv_%d'%(i,qty), module=nn.Conv2d(\n",
    "                        self.channels_input, \n",
    "                        self.channels_out, \n",
    "                        kernel_size=3, \n",
    "                        stride=conv_layer[1], \n",
    "                        padding=conv_layer[2]))\n",
    "                self.body.add_module(name='Block%2d_Relu_%d'%(i,qty), module=nn.ReLU())\n",
    "                self.channels_input = self.channels_out\n",
    "                resolution = (resolution - 2 + conv_layer[1]*2) // conv_layer[2] \n",
    "#                 print('Resolution after conv layer is: ', resolution)\n",
    "            self.body.add_module(name='Block%2d_MaxPool'%i, module=nn.MaxPool2d(kernel_size=2, stride=2))\n",
    "            resolution = resolution // 2 \n",
    "#             print('Resolution after maxpool layer is: ', resolution)\n",
    "            return resolution\n",
    "        \n",
    "        def linear_block(linear_layer, resolution):\n",
    "            self.input = resolution[0] * resolution[1] * min(64*(2**len(self.conv_layers)),512)\n",
    "            for i in range(self.linear_layers[0]-1):\n",
    "                self.head.add_module(name='Linear%2d'%i, module=nn.Linear(self.input, self.linear_layers[1]))\n",
    "                self.head.add_module(name='Dropout%2d'%i, module=nn.Dropout(.5))\n",
    "                self.head.add_module(name='Relu_%2d'%i, module=nn.ReLU())\n",
    "                self.input = linear_layer[1]\n",
    "            self.head.add_module(name='output',module=nn.Linear(self.linear_layers[1], self.class_qty[0]))\n",
    "        \n",
    "        self.body = nn.Sequential()\n",
    "        self.channels_input = self.body_input[2]\n",
    "        self.resolution = np.array([self.body_input[0], self.body_input[1]])\n",
    "        i=0\n",
    "        for conv_layer in self.conv_layers:\n",
    "            self.resolution = conv_block(conv_layer, self.resolution, i)\n",
    "            i+=1\n",
    "\n",
    "        self.head = nn.Sequential()\n",
    "        linear_block(self.linear_layers, self.resolution)\n",
    "\n",
    "    def forward(self, input):\n",
    "        x = self.body(input)\n",
    "        x = x.view(x.size(0), -1)\n",
    "#         print(x.shape)\n",
    "        out = self.head(x)\n",
    "#         print(out.shape)\n",
    "        return out"
   ]
  },
  {
   "cell_type": "markdown",
   "metadata": {},
   "source": [
    "Инициализируем модель с помощью рукописного класса"
   ]
  },
  {
   "cell_type": "code",
   "execution_count": null,
   "metadata": {},
   "outputs": [],
   "source": [
    "model = VGG()\n",
    "criterion = nn.CrossEntropyLoss()\n",
    "# optimizer = torch.optim.SGD(net.parameters(), lr=0.001, momentum=0.9)\n",
    "# criterion = nn.Softmax(dim=1)\n",
    "optimizer = torch.optim.Adam(model.parameters(), lr=0.001, betas=(0.9, 0.999), eps=1e-08, weight_decay=0, amsgrad=False)"
   ]
  },
  {
   "cell_type": "markdown",
   "metadata": {},
   "source": [
    "Инициализируем модель с через конструктор"
   ]
  },
  {
   "cell_type": "code",
   "execution_count": 6,
   "metadata": {},
   "outputs": [
    {
     "name": "stdout",
     "output_type": "stream",
     "text": [
      "Resolution after conv layer is:  [224 224]\n",
      "Resolution after conv layer is:  [224 224]\n",
      "Resolution after maxpool layer is:  [112 112]\n",
      "Resolution after conv layer is:  [112 112]\n",
      "Resolution after conv layer is:  [112 112]\n",
      "Resolution after maxpool layer is:  [56 56]\n",
      "Resolution after conv layer is:  [56 56]\n",
      "Resolution after conv layer is:  [56 56]\n",
      "Resolution after conv layer is:  [56 56]\n",
      "Resolution after maxpool layer is:  [28 28]\n",
      "Resolution after conv layer is:  [28 28]\n",
      "Resolution after conv layer is:  [28 28]\n",
      "Resolution after conv layer is:  [28 28]\n",
      "Resolution after maxpool layer is:  [14 14]\n",
      "Resolution after conv layer is:  [14 14]\n",
      "Resolution after conv layer is:  [14 14]\n",
      "Resolution after conv layer is:  [14 14]\n",
      "Resolution after maxpool layer is:  [7 7]\n"
     ]
    }
   ],
   "source": [
    "model = VGG_like(params)\n",
    "criterion = nn.CrossEntropyLoss()\n",
    "# optimizer = torch.optim.SGD(net.parameters(), lr=0.001, momentum=0.9)\n",
    "# criterion = nn.Softmax(dim=1)\n",
    "optimizer = torch.optim.Adam(model.parameters(), lr=0.001, betas=(0.9, 0.999), eps=1e-08, weight_decay=0, amsgrad=False)"
   ]
  },
  {
   "cell_type": "code",
   "execution_count": 7,
   "metadata": {},
   "outputs": [
    {
     "name": "stdout",
     "output_type": "stream",
     "text": [
      "cuda:0\n"
     ]
    },
    {
     "data": {
      "text/plain": [
       "VGG_like(\n",
       "  (body): Sequential(\n",
       "    (Block 0_Conv_0): Conv2d(3, 64, kernel_size=(3, 3), stride=(1, 1), padding=(1, 1))\n",
       "    (Block 0_Relu_0): ReLU()\n",
       "    (Block 0_Conv_1): Conv2d(64, 64, kernel_size=(3, 3), stride=(1, 1), padding=(1, 1))\n",
       "    (Block 0_Relu_1): ReLU()\n",
       "    (Block 0_MaxPool): MaxPool2d(kernel_size=2, stride=2, padding=0, dilation=1, ceil_mode=False)\n",
       "    (Block 1_Conv_0): Conv2d(64, 128, kernel_size=(3, 3), stride=(1, 1), padding=(1, 1))\n",
       "    (Block 1_Relu_0): ReLU()\n",
       "    (Block 1_Conv_1): Conv2d(128, 128, kernel_size=(3, 3), stride=(1, 1), padding=(1, 1))\n",
       "    (Block 1_Relu_1): ReLU()\n",
       "    (Block 1_MaxPool): MaxPool2d(kernel_size=2, stride=2, padding=0, dilation=1, ceil_mode=False)\n",
       "    (Block 2_Conv_0): Conv2d(128, 256, kernel_size=(3, 3), stride=(1, 1), padding=(1, 1))\n",
       "    (Block 2_Relu_0): ReLU()\n",
       "    (Block 2_Conv_1): Conv2d(256, 256, kernel_size=(3, 3), stride=(1, 1), padding=(1, 1))\n",
       "    (Block 2_Relu_1): ReLU()\n",
       "    (Block 2_Conv_2): Conv2d(256, 256, kernel_size=(3, 3), stride=(1, 1), padding=(1, 1))\n",
       "    (Block 2_Relu_2): ReLU()\n",
       "    (Block 2_MaxPool): MaxPool2d(kernel_size=2, stride=2, padding=0, dilation=1, ceil_mode=False)\n",
       "    (Block 3_Conv_0): Conv2d(256, 512, kernel_size=(3, 3), stride=(1, 1), padding=(1, 1))\n",
       "    (Block 3_Relu_0): ReLU()\n",
       "    (Block 3_Conv_1): Conv2d(512, 512, kernel_size=(3, 3), stride=(1, 1), padding=(1, 1))\n",
       "    (Block 3_Relu_1): ReLU()\n",
       "    (Block 3_Conv_2): Conv2d(512, 512, kernel_size=(3, 3), stride=(1, 1), padding=(1, 1))\n",
       "    (Block 3_Relu_2): ReLU()\n",
       "    (Block 3_MaxPool): MaxPool2d(kernel_size=2, stride=2, padding=0, dilation=1, ceil_mode=False)\n",
       "    (Block 4_Conv_0): Conv2d(512, 512, kernel_size=(3, 3), stride=(1, 1), padding=(1, 1))\n",
       "    (Block 4_Relu_0): ReLU()\n",
       "    (Block 4_Conv_1): Conv2d(512, 512, kernel_size=(3, 3), stride=(1, 1), padding=(1, 1))\n",
       "    (Block 4_Relu_1): ReLU()\n",
       "    (Block 4_Conv_2): Conv2d(512, 512, kernel_size=(3, 3), stride=(1, 1), padding=(1, 1))\n",
       "    (Block 4_Relu_2): ReLU()\n",
       "    (Block 4_MaxPool): MaxPool2d(kernel_size=2, stride=2, padding=0, dilation=1, ceil_mode=False)\n",
       "  )\n",
       "  (head): Sequential(\n",
       "    (Linear 0): Linear(in_features=25088, out_features=128, bias=True)\n",
       "    (Dropout 0): Dropout(p=0.5, inplace=False)\n",
       "    (Relu_ 0): ReLU()\n",
       "    (Linear 1): Linear(in_features=128, out_features=128, bias=True)\n",
       "    (Dropout 1): Dropout(p=0.5, inplace=False)\n",
       "    (Relu_ 1): ReLU()\n",
       "    (output): Linear(in_features=128, out_features=10, bias=True)\n",
       "  )\n",
       ")"
      ]
     },
     "execution_count": 7,
     "metadata": {},
     "output_type": "execute_result"
    }
   ],
   "source": [
    "device = torch.device(\"cuda:0\" if torch.cuda.is_available() else \"cpu\")\n",
    "\n",
    "print(device)\n",
    "\n",
    "model.to(device)"
   ]
  },
  {
   "cell_type": "markdown",
   "metadata": {},
   "source": [
    "## Основной тренировочный цикл и подсчет метрик.\n",
    "    Основная метрика accuracy (топ1). Очень не хотелось бы получать ошибку на топ5 accuracy при 10 классах."
   ]
  },
  {
   "cell_type": "code",
   "execution_count": null,
   "metadata": {},
   "outputs": [
    {
     "name": "stdout",
     "output_type": "stream",
     "text": [
      "Epoch 1/200, Loss: 2.319, Accuracy_train: 0.099, Accuracy_val: 0.098\n"
     ]
    }
   ],
   "source": [
    "for epoch in range(num_epoch):  # loop over the dataset multiple times\n",
    "    \n",
    "#     model.train()\n",
    "    \n",
    "    for i, data in enumerate(trainloader, 0):\n",
    "        # get the inputs; data is a list of [inputs, labels]\n",
    "#         inputs, labels = data\n",
    "#         print(data[1])\n",
    "        inputs, labels = data[0].to(device), data[1].to(device)\n",
    "#         print(labels)\n",
    "\n",
    "        # zero the parameter gradients\n",
    "        optimizer.zero_grad()\n",
    "\n",
    "        # forward + backward + optimize\n",
    "        outputs = model(inputs)\n",
    "        loss = criterion(outputs, labels)\n",
    "#         print('Loss: ', loss)\n",
    "        loss.backward()\n",
    "        optimizer.step()\n",
    "\n",
    "    #Accuracy train and val\n",
    "    correct_train, correct_val = 0, 0\n",
    "    total_train, total_val = 0, 0\n",
    "    with torch.no_grad():\n",
    "        for images, labels in trainloader:\n",
    "            images, labels = images.cuda(), labels.cuda()\n",
    "            outputs = model(images)\n",
    "            outputs = outputs.cuda()\n",
    "            _, predicted = torch.max(outputs.data, 1)\n",
    "            total_train += labels.size(0)\n",
    "            correct_train += (predicted == labels).sum().item()\n",
    "        for images, labels in testloader:\n",
    "            images, labels = images.cuda(), labels.cuda()\n",
    "            outputs = model(images)\n",
    "            outputs = outputs.cuda()\n",
    "            _, predicted = torch.max(outputs.data, 1)\n",
    "            total_val += labels.size(0)\n",
    "            correct_val += (predicted == labels).sum().item()\n",
    "\n",
    "    print(\"Epoch {}/{}, Loss: {:.3f}, Accuracy_train: {:.3f}, Accuracy_val: {:.3f}\".\n",
    "          format(epoch+1, num_epoch, loss, correct_train/total_train, correct_val/total_val))\n",
    "#     print('Epoch: ', epoch, ' loss:', loss[0], ' accuracy_val: ', accuracy(outputs, labels))\n",
    "\n",
    "       \n",
    "        # print statistics\n",
    "#         running_loss += loss.item()\n",
    "#         if i % 10 == 9:    # print every 2000 mini-batches\n",
    "#             print('[%d, %5d] loss: %.3f' %\n",
    "#                   (epoch + 1, i + 1, loss)) #running_loss / 2000\n",
    "#             print('labels:',  labels)\n",
    "#             print('outputs: ', outputs)\n",
    "#             running_loss = 0.0\n",
    "\n",
    "print('Finished Training')"
   ]
  },
  {
   "cell_type": "code",
   "execution_count": null,
   "metadata": {},
   "outputs": [],
   "source": []
  },
  {
   "cell_type": "markdown",
   "metadata": {},
   "source": []
  }
 ],
 "metadata": {
  "kernelspec": {
   "display_name": "Python 3",
   "language": "python",
   "name": "python3"
  },
  "language_info": {
   "codemirror_mode": {
    "name": "ipython",
    "version": 3
   },
   "file_extension": ".py",
   "mimetype": "text/x-python",
   "name": "python",
   "nbconvert_exporter": "python",
   "pygments_lexer": "ipython3",
   "version": "3.6.10"
  }
 },
 "nbformat": 4,
 "nbformat_minor": 4
}
